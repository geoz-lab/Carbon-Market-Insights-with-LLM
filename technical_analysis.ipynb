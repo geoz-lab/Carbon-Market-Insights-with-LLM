{
  "cells": [
    {
      "cell_type": "markdown",
      "id": "f3b1aaa2-119b-4341-800b-4599991417d5",
      "metadata": {
        "id": "f3b1aaa2-119b-4341-800b-4599991417d5"
      },
      "source": [
        "# LCFS technical analysis"
      ]
    },
    {
      "cell_type": "markdown",
      "id": "2f54c11e-b94a-4533-af0d-b497f6c35044",
      "metadata": {
        "id": "2f54c11e-b94a-4533-af0d-b497f6c35044"
      },
      "source": [
        "Geo Zhang | Department of Energy Science & Engineering, Stanford University"
      ]
    },
    {
      "cell_type": "markdown",
      "id": "339af622-6396-420d-bf6d-8f95f5e64368",
      "metadata": {
        "id": "339af622-6396-420d-bf6d-8f95f5e64368"
      },
      "source": [
        "## Table of Content\n",
        "- (a) Kalman Fitering\n",
        "- (b) ARIMA\n",
        "- (c) XGBoost\n",
        "- (d) Prophet\n",
        "- (e) LSTM\n",
        "- (f) TFT\n",
        "- (...) with trading volume\n",
        "- Extension: To incorporate sentimental scores"
      ]
    },
    {
      "cell_type": "code",
      "execution_count": null,
      "id": "7d935033-6e9a-4831-8532-f316f5e2ef97",
      "metadata": {
        "id": "7d935033-6e9a-4831-8532-f316f5e2ef97"
      },
      "outputs": [],
      "source": [
        "# !pip install pandas\n",
        "# !pip install pmdarima\n",
        "# !pip install matplotlib statsmodels\n",
        "# !pip install transformers\n",
        "# !pip install pytorch-forecasting pytorch-lightning torch\n",
        "#!pip install xgboost\n",
        "#!pip install filterpy\n",
        "#!pip install darts"
      ]
    },
    {
      "cell_type": "code",
      "execution_count": null,
      "id": "03c9a6e2-1bb6-4daf-a025-130efff7375b",
      "metadata": {
        "id": "03c9a6e2-1bb6-4daf-a025-130efff7375b"
      },
      "outputs": [],
      "source": [
        "import pandas as pd\n",
        "import matplotlib.pyplot as plt\n",
        "import numpy as np\n",
        "from filterpy.kalman import KalmanFilter\n",
        "from sklearn.metrics import mean_squared_error, f1_score\n",
        "import pmdarima as pm\n",
        "from statsmodels.tsa.arima.model import ARIMA\n",
        "from xgboost import XGBRegressor"
      ]
    },
    {
      "cell_type": "code",
      "execution_count": null,
      "id": "1836e295-f8d3-41ae-8af6-630ce908ae3b",
      "metadata": {
        "id": "1836e295-f8d3-41ae-8af6-630ce908ae3b",
        "outputId": "794f4dd8-3f62-41fe-aa65-763cc00bdd6b"
      },
      "outputs": [
        {
          "data": {
            "text/html": [
              "<div>\n",
              "<style scoped>\n",
              "    .dataframe tbody tr th:only-of-type {\n",
              "        vertical-align: middle;\n",
              "    }\n",
              "\n",
              "    .dataframe tbody tr th {\n",
              "        vertical-align: top;\n",
              "    }\n",
              "\n",
              "    .dataframe thead th {\n",
              "        text-align: right;\n",
              "    }\n",
              "</style>\n",
              "<table border=\"1\" class=\"dataframe\">\n",
              "  <thead>\n",
              "    <tr style=\"text-align: right;\">\n",
              "      <th></th>\n",
              "      <th>Date</th>\n",
              "      <th>Price</th>\n",
              "      <th>Volume</th>\n",
              "    </tr>\n",
              "  </thead>\n",
              "  <tbody>\n",
              "    <tr>\n",
              "      <th>0</th>\n",
              "      <td>2013-01-13</td>\n",
              "      <td>22.0</td>\n",
              "      <td>24000</td>\n",
              "    </tr>\n",
              "    <tr>\n",
              "      <th>1</th>\n",
              "      <td>2013-02-13</td>\n",
              "      <td>27.0</td>\n",
              "      <td>36000</td>\n",
              "    </tr>\n",
              "    <tr>\n",
              "      <th>2</th>\n",
              "      <td>2013-03-13</td>\n",
              "      <td>34.0</td>\n",
              "      <td>48000</td>\n",
              "    </tr>\n",
              "    <tr>\n",
              "      <th>3</th>\n",
              "      <td>2013-04-13</td>\n",
              "      <td>35.0</td>\n",
              "      <td>42000</td>\n",
              "    </tr>\n",
              "    <tr>\n",
              "      <th>4</th>\n",
              "      <td>2013-05-13</td>\n",
              "      <td>45.0</td>\n",
              "      <td>7000</td>\n",
              "    </tr>\n",
              "    <tr>\n",
              "      <th>...</th>\n",
              "      <td>...</td>\n",
              "      <td>...</td>\n",
              "      <td>...</td>\n",
              "    </tr>\n",
              "    <tr>\n",
              "      <th>137</th>\n",
              "      <td>2024-06-24</td>\n",
              "      <td>51.0</td>\n",
              "      <td>1543000</td>\n",
              "    </tr>\n",
              "    <tr>\n",
              "      <th>138</th>\n",
              "      <td>2024-07-24</td>\n",
              "      <td>57.0</td>\n",
              "      <td>6283000</td>\n",
              "    </tr>\n",
              "    <tr>\n",
              "      <th>139</th>\n",
              "      <td>2024-08-24</td>\n",
              "      <td>54.0</td>\n",
              "      <td>2155000</td>\n",
              "    </tr>\n",
              "    <tr>\n",
              "      <th>140</th>\n",
              "      <td>2024-09-24</td>\n",
              "      <td>60.0</td>\n",
              "      <td>3022000</td>\n",
              "    </tr>\n",
              "    <tr>\n",
              "      <th>141</th>\n",
              "      <td>2024-10-24</td>\n",
              "      <td>62.0</td>\n",
              "      <td>7095000</td>\n",
              "    </tr>\n",
              "  </tbody>\n",
              "</table>\n",
              "<p>142 rows × 3 columns</p>\n",
              "</div>"
            ],
            "text/plain": [
              "          Date  Price   Volume\n",
              "0   2013-01-13   22.0    24000\n",
              "1   2013-02-13   27.0    36000\n",
              "2   2013-03-13   34.0    48000\n",
              "3   2013-04-13   35.0    42000\n",
              "4   2013-05-13   45.0     7000\n",
              "..         ...    ...      ...\n",
              "137 2024-06-24   51.0  1543000\n",
              "138 2024-07-24   57.0  6283000\n",
              "139 2024-08-24   54.0  2155000\n",
              "140 2024-09-24   60.0  3022000\n",
              "141 2024-10-24   62.0  7095000\n",
              "\n",
              "[142 rows x 3 columns]"
            ]
          },
          "execution_count": 3,
          "metadata": {},
          "output_type": "execute_result"
        }
      ],
      "source": [
        "path_to_data = \"LCFS_task/LCFS_monthly.csv \"\n",
        "lcfs = pd.read_csv('./LCFS_task/LCFS_monthly.csv', usecols=['Date', 'Price', 'Volume'])\n",
        "\n",
        "lcfs['Date'] = pd.to_datetime(lcfs['Date'])\n",
        "lcfs"
      ]
    },
    {
      "cell_type": "code",
      "execution_count": null,
      "id": "93deae6b-8b29-499a-a3a4-930ae59ddd40",
      "metadata": {
        "id": "93deae6b-8b29-499a-a3a4-930ae59ddd40",
        "outputId": "166d1319-5fcc-45ca-cc71-0345b5b9c0d8"
      },
      "outputs": [
        {
          "data": {
            "image/png": "[encoded data removed]",
            "text/plain": [
              "<Figure size 640x480 with 2 Axes>"
            ]
          },
          "metadata": {},
          "output_type": "display_data"
        }
      ],
      "source": [
        "# Creating a plot with two y-axes\n",
        "fig, ax1 = plt.subplots()\n",
        "\n",
        "# Plotting the Price on the left y-axis\n",
        "ax1.set_xlabel('Date')\n",
        "ax1.set_ylabel('Price ($)', color='tab:blue')\n",
        "ax1.plot(lcfs['Date'], lcfs['Price'], color='tab:blue')\n",
        "ax1.tick_params(axis='y', labelcolor='tab:blue')\n",
        "\n",
        "# Creating a second y-axis for the Volume\n",
        "ax2 = ax1.twinx()\n",
        "ax2.set_ylabel('Volume (tonnes)', color='tab:orange')\n",
        "ax2.plot(lcfs['Date'], lcfs['Volume'], color='tab:orange')\n",
        "ax2.tick_params(axis='y', labelcolor='tab:orange')\n",
        "\n",
        "# Formatting the x-axis to show date labels properly\n",
        "fig.autofmt_xdate()\n",
        "\n",
        "# Adding a title to the plot\n",
        "plt.title('Price and Volume over Time')\n",
        "\n",
        "plt.savefig('./tech_results/Price+volume.png', dpi = 300)\n",
        "\n",
        "# Showing the plot\n",
        "plt.show()"
      ]
    },
    {
      "cell_type": "markdown",
      "id": "f63ec8a8-6956-40d6-a848-21d71982cc5a",
      "metadata": {
        "id": "f63ec8a8-6956-40d6-a848-21d71982cc5a"
      },
      "source": [
        "# Evaluation metric"
      ]
    },
    {
      "cell_type": "code",
      "execution_count": null,
      "id": "5c57053c-5620-41ac-8cdc-3101963a8641",
      "metadata": {
        "id": "5c57053c-5620-41ac-8cdc-3101963a8641"
      },
      "outputs": [],
      "source": [
        "def evaluation(y_pred, y):\n",
        "    # Mean standard error\n",
        "    mse = np.sum((y_pred - y)**2.0)\n",
        "\n",
        "    # Mean prediction accuracy\n",
        "    within_threshold = np.abs(y_pred - y) / y\n",
        "    mpa = np.mean(1 - within_threshold) * 100  # convert to percentage\n",
        "\n",
        "    true_trend = np.sign(np.diff(y))  # +1 for upward, -1 for downward\n",
        "    predicted_trend = np.sign(np.diff(y_pred))\n",
        "\n",
        "    # F-1 Score\n",
        "    f1 = f1_score(true_trend, predicted_trend, average='macro')\n",
        "\n",
        "    # movement direction accuracy\n",
        "    correct_trend = true_trend == predicted_trend\n",
        "    mda = np.mean(correct_trend) * 100  # convert to percentage\n",
        "\n",
        "    return {\n",
        "        'MSE': mse,\n",
        "        'MPA (%)': mpa,\n",
        "        'F1 Score': f1,\n",
        "        'MDA (%)': mda}\n",
        ""
      ]
    },
    {
      "cell_type": "markdown",
      "id": "a3ebf46b-5461-4c93-a5cf-16178acbd32c",
      "metadata": {
        "id": "a3ebf46b-5461-4c93-a5cf-16178acbd32c"
      },
      "source": [
        "# Technical Analysis"
      ]
    },
    {
      "cell_type": "code",
      "execution_count": null,
      "id": "e3976435-c62b-4030-8063-d8f71c93b746",
      "metadata": {
        "id": "e3976435-c62b-4030-8063-d8f71c93b746"
      },
      "outputs": [],
      "source": [
        "prices = lcfs['Price'].values"
      ]
    },
    {
      "cell_type": "markdown",
      "id": "874f028f-0e86-4902-b8ce-b0ee9ccf0361",
      "metadata": {
        "id": "874f028f-0e86-4902-b8ce-b0ee9ccf0361"
      },
      "source": [
        "## (a) Kalman Filtering"
      ]
    },
    {
      "cell_type": "markdown",
      "id": "c459b91c-482b-46a6-939d-b5c59f4b35df",
      "metadata": {
        "id": "c459b91c-482b-46a6-939d-b5c59f4b35df"
      },
      "source": [
        "1. Prediction: State Equation (Estimates the next state based on the previous state)\n",
        "   $$ x_t = F \\cdot x_{t-1} + G \\cdot u_t + w_t $$\n",
        "3. Update: Observation Equation (Incorporates observed data to correct the predicted state)\n",
        "   $$ z_t = H \\cdot x_t + v_t $$\n",
        "    \n",
        "   "
      ]
    },
    {
      "cell_type": "code",
      "execution_count": null,
      "id": "249e4956-a3a4-43b3-8e83-80e5a23c1d98",
      "metadata": {
        "id": "249e4956-a3a4-43b3-8e83-80e5a23c1d98",
        "outputId": "3f20781c-801e-4827-ef60-c0e12bc3b96b"
      },
      "outputs": [
        {
          "data": {
            "image/png": "[encoded data removed]",
            "text/plain": [
              "<Figure size 640x480 with 1 Axes>"
            ]
          },
          "metadata": {},
          "output_type": "display_data"
        },
        {
          "data": {
            "text/plain": [
              "{'MSE': 13036.503068634483,\n",
              " 'MPA (%)': 91.26611510698807,\n",
              " 'F1 Score': 0.3645342312008979,\n",
              " 'MDA (%)': 52.51798561151079}"
            ]
          },
          "execution_count": 7,
          "metadata": {},
          "output_type": "execute_result"
        }
      ],
      "source": [
        "# Define Kalman Filter parameters\n",
        "kf = KalmanFilter(dim_x=3, dim_z=1)\n",
        "\n",
        "# Initial state (price and velocity)\n",
        "kf.x = np.array([prices[0], 5., 0.])  # Initialization\n",
        "\n",
        "# State transition matrix (how state evolves)\n",
        "kf.F = np.array([[1., 1., 0.5],\n",
        "                 [0., 1., 1.],\n",
        "                 [0., 0., 1.]])  # Assumes constant velocity\n",
        "\n",
        "# Observation matrix (how we map the state to the observation)\n",
        "kf.H = np.array([[1., 0., 0.]])  # We only observe the price\n",
        "\n",
        "# Process uncertainty (noise in the system)\n",
        "kf.P *= 0  # Initial uncertainty\n",
        "\n",
        "# Measurement noise\n",
        "kf.R = 1  # Adjust based on your noise level in the price data\n",
        "\n",
        "# Process noise covariance (how much we trust our model)\n",
        "kf.Q = np.array([[1., 0., 0.],\n",
        "                 [0., 1., 0.],\n",
        "                 [0., 0., 1.]]) * 0.01\n",
        "\n",
        "# Perform Kalman filtering\n",
        "predicted_prices = []\n",
        "for z in prices:\n",
        "    kf.predict()  # Predict the next state\n",
        "    predicted_prices.append(kf.x[0])  # Store the predicted price\n",
        "    kf.update([z])  # Update with the observed price\n",
        "\n",
        "# Plot original vs. predicted prices\n",
        "plt.plot(lcfs['Date'], prices, label='Observed Prices')\n",
        "plt.plot(lcfs['Date'], predicted_prices, label='Kalman Filtering Predicted Prices', color='r', linestyle=':')\n",
        "plt.legend()\n",
        "plt.show()\n",
        "\n",
        "evaluation(predicted_prices, prices)"
      ]
    },
    {
      "cell_type": "code",
      "execution_count": null,
      "id": "81827700-f185-453b-b910-47eabda3fba0",
      "metadata": {
        "id": "81827700-f185-453b-b910-47eabda3fba0"
      },
      "outputs": [],
      "source": [
        "def kalman_filter_with_hyperparams(true_prices, Q, R, P_0, v0, a0, dt):\n",
        "    # Kalman Filter initialization (assuming 3D state: price, velocity, and acceleration)\n",
        "    kf = KalmanFilter(dim_x=3, dim_z=1)\n",
        "\n",
        "    kf.x = np.array([true_prices[0], v0, a0])  # Initial state: price, velocity, and acceleration\n",
        "\n",
        "    # Initialize state covariancbe, process noise, and measurement noise\n",
        "    kf.P *= P_0                                 # Initial uncertainty\n",
        "    kf.F = np.array([[1., dt, 0.5*dt**2.],\n",
        "                     [0., 1., dt],\n",
        "                     [0., 0., 1.]])             # State transition matrix\n",
        "\n",
        "    kf.H = np.array([[1., 0., 0.]])             # Observation matrix\n",
        "    kf.R = np.array([[R]])                      # Measurement noise covariance\n",
        "    kf.Q = np.array([[1., 0., 0.],\n",
        "                     [0., 1., 0.],\n",
        "                     [0., 0., 1.]]) * Q\n",
        "\n",
        "    predicted_prices = []\n",
        "\n",
        "    for z in true_prices:\n",
        "        kf.predict()\n",
        "        predicted_prices.append(kf.x[0])\n",
        "        # Update the price using new measurement\n",
        "        kf.update([z])\n",
        "\n",
        "    return np.array(predicted_prices)"
      ]
    },
    {
      "cell_type": "code",
      "execution_count": null,
      "id": "e783b47a-177f-4021-8844-a2e4fd20a434",
      "metadata": {
        "id": "e783b47a-177f-4021-8844-a2e4fd20a434",
        "outputId": "bf841674-0e9f-4ba0-fe1e-1ae777e10443"
      },
      "outputs": [
        {
          "name": "stdout",
          "output_type": "stream",
          "text": [
            "Best Parameters: {'Q': 0.1, 'R': 5, 'P_0': 0.1, 'v_0': 20, 'a_0': 0, 'dt': 0.1}, Best Score: 58.992805755395686\n"
          ]
        }
      ],
      "source": [
        "# Function to evaluate the Kalman filter using different hyperparameters\n",
        "def grid_search_kalman(true_prices, Q_values, R_values, P_0_values, v_0_values, a_0_values, dt_values):\n",
        "    best_params = None\n",
        "    best_score =  0\n",
        "\n",
        "    for Q in Q_values:\n",
        "        for R in R_values:\n",
        "            for P_0 in P_0_values:\n",
        "                for v_0 in v_0_values:\n",
        "                    for a_0 in a_0_values:\n",
        "                        for dt in dt_values:\n",
        "                            predicted_prices = kalman_filter_with_hyperparams(true_prices, Q, R, P_0, v_0, a_0, dt)\n",
        "                            scores = evaluation(predicted_prices, prices)\n",
        "                            MSE = scores['MSE']\n",
        "                            MPA = scores['MPA (%)']\n",
        "                            F1  = scores['F1 Score']\n",
        "                            MDA = scores['MDA (%)']\n",
        "\n",
        "                            #if MSE < best_score:     # switch to other scores\n",
        "                            if MDA > best_score:\n",
        "                                best_score = MDA\n",
        "                                best_params = {'Q': Q, 'R': R, 'P_0': P_0, 'v_0': v_0, 'a_0': a_0, 'dt': dt}\n",
        "\n",
        "    return best_params, best_score\n",
        "\n",
        "# Example Usage:\n",
        "# true_prices = np.array([...])  # your true price array\n",
        "Q_values = [0.01, 0.1, 1, 10, 20]\n",
        "R_values = [0.1, 1, 5, 10]\n",
        "P_0_values = [0.1, 1, 10]\n",
        "v_0_values = [0, 1, 5, 10, 20]\n",
        "a_0_values = [0, 0.1, 1, 10]\n",
        "dt_values  = [0.1, 1, 5, 10]\n",
        "\n",
        "best_params, best_score = grid_search_kalman(prices, Q_values, R_values, P_0_values, v_0_values, a_0_values, dt_values)\n",
        "print(f\"Best Parameters: {best_params}, Best Score: {best_score}\")"
      ]
    },
    {
      "cell_type": "markdown",
      "id": "a15eaf5a-1317-475a-9de8-dd493a93d335",
      "metadata": {
        "id": "a15eaf5a-1317-475a-9de8-dd493a93d335"
      },
      "source": [
        "### BEST MSE"
      ]
    },
    {
      "cell_type": "code",
      "execution_count": null,
      "id": "cd5edad0-3762-4b46-861d-622d398ded86",
      "metadata": {
        "id": "cd5edad0-3762-4b46-861d-622d398ded86",
        "outputId": "28b56faa-fd7c-4b12-c3b5-a88a1275fede"
      },
      "outputs": [
        {
          "data": {
            "text/plain": [
              "{'MSE': 10767.118153905794,\n",
              " 'MPA (%)': 91.68831401141331,\n",
              " 'F1 Score': 0.3436901947540245,\n",
              " 'MDA (%)': 49.64028776978417}"
            ]
          },
          "execution_count": 10,
          "metadata": {},
          "output_type": "execute_result"
        }
      ],
      "source": [
        "# Best Kalman Filtering model Parameters:\n",
        "# Best Parameters: {'Q': 10, 'R': 1, 'P_0': 0.1, 'v_0': 20, 'a_0': 0, 'dt': 0.1}, Best Score: 10767.118153905794\n",
        "\n",
        "Parameters = {'Q': 10, 'R': 1, 'P_0': 0.1, 'v_0': 20, 'a_0': 0, 'dt': 0.1}\n",
        "\n",
        "Q = Parameters['Q']\n",
        "R = Parameters['R']\n",
        "P_0 = Parameters['P_0']\n",
        "v_0 = Parameters['v_0']\n",
        "a_0 = Parameters['a_0']\n",
        "dt = Parameters['dt']\n",
        "\n",
        "\n",
        "predicted_prices_mse = kalman_filter_with_hyperparams(prices, Q, R, P_0, v_0, a_0, dt)\n",
        "\n",
        "dates = lcfs['Date']\n",
        "df_predictions = pd.DataFrame({\n",
        "    'Date': dates,\n",
        "    'Predicted_Price': predicted_prices_mse\n",
        "})\n",
        "\n",
        "df_predictions.to_csv('tech_results/kalman_pred_mse.csv', index=False)\n",
        "# # ---------------\n",
        "# # Plot original vs. predicted prices\n",
        "# plt.plot(lcfs['Date'], prices, label='Observed Prices')\n",
        "# plt.plot(lcfs['Date'], predicted_prices, label='Kalman Filtering Predicted Prices', color='r', linestyle=':')\n",
        "# plt.legend()\n",
        "# plt.show()\n",
        "\n",
        "evaluation(predicted_prices_mse, prices)\n"
      ]
    },
    {
      "cell_type": "markdown",
      "id": "1fd2d800-e89e-408d-9b88-040f12150426",
      "metadata": {
        "id": "1fd2d800-e89e-408d-9b88-040f12150426"
      },
      "source": [
        "### BEST MDA"
      ]
    },
    {
      "cell_type": "code",
      "execution_count": null,
      "id": "030ed308-7adc-4915-843b-9985fbb96340",
      "metadata": {
        "id": "030ed308-7adc-4915-843b-9985fbb96340",
        "outputId": "1a95a2cd-bab4-4225-c05b-3afac44077a1"
      },
      "outputs": [
        {
          "data": {
            "image/png": "[encoded data removed]",
            "text/plain": [
              "<Figure size 640x480 with 1 Axes>"
            ]
          },
          "metadata": {},
          "output_type": "display_data"
        },
        {
          "data": {
            "text/plain": [
              "{'MSE': 43273.52868483684,\n",
              " 'MPA (%)': 81.54464468054545,\n",
              " 'F1 Score': 0.4094863142107237,\n",
              " 'MDA (%)': 58.992805755395686}"
            ]
          },
          "execution_count": 11,
          "metadata": {},
          "output_type": "execute_result"
        }
      ],
      "source": [
        "# Best Kalman Filtering model Parameters:\n",
        "# Best Parameters: {'Q': 0.1, 'R': 5, 'P_0': 0.1, 'v_0': 20, 'a_0': 0, 'dt': 0.1}, Best Score: 58.992805755395686\n",
        "\n",
        "Parameters = {'Q': 0.1, 'R': 5, 'P_0': 0.1, 'v_0': 20, 'a_0': 0, 'dt': 0.1}\n",
        "\n",
        "Q = Parameters['Q']\n",
        "R = Parameters['R']\n",
        "P_0 = Parameters['P_0']\n",
        "v_0 = Parameters['v_0']\n",
        "a_0 = Parameters['a_0']\n",
        "dt = Parameters['dt']\n",
        "\n",
        "\n",
        "predicted_prices_mda = kalman_filter_with_hyperparams(prices, Q, R, P_0, v_0, a_0, dt)\n",
        "\n",
        "dates = lcfs['Date']\n",
        "df_predictions = pd.DataFrame({\n",
        "    'Date': dates,\n",
        "    'Predicted_Price': predicted_prices_mda\n",
        "})\n",
        "\n",
        "df_predictions.to_csv('tech_results/kalman_pred_mda.csv', index=False)\n",
        "\n",
        "# # ---------------\n",
        "# # Plot original vs. predicted prices\n",
        "# plt.plot(lcfs['Date'], prices, label='Observed Prices')\n",
        "# plt.plot(lcfs['Date'], predicted_prices, label='Kalman Filtering Predicted Prices', color='r', linestyle=':')\n",
        "# plt.legend()\n",
        "# plt.show()\n",
        "\n",
        "# Plot original vs. predicted prices\n",
        "plt.plot(lcfs['Date'], prices, label='Observed Prices')\n",
        "plt.plot(lcfs['Date'], predicted_prices_mda, label='KF Predicted Prices', color='r', linestyle=':')\n",
        "plt.legend()\n",
        "plt.savefig('./tech_results/KF_pred.png', dpi=300)\n",
        "plt.show()\n",
        "\n",
        "\n",
        "evaluation(predicted_prices_mda, prices)\n"
      ]
    },
    {
      "cell_type": "code",
      "execution_count": null,
      "id": "4c23c1c3-9ff6-488d-a3d9-d45bf8b6bc1e",
      "metadata": {
        "id": "4c23c1c3-9ff6-488d-a3d9-d45bf8b6bc1e",
        "outputId": "1ac1cf66-9b27-4610-cc13-be3cf4f2cffc"
      },
      "outputs": [
        {
          "data": {
            "image/png": "[encoded data removed]",
            "text/plain": [
              "<Figure size 640x480 with 1 Axes>"
            ]
          },
          "metadata": {},
          "output_type": "display_data"
        }
      ],
      "source": [
        "# ---------------\n",
        "# Plot original vs. predicted prices\n",
        "\n",
        "plt.plot(lcfs['Date'], prices, label='True Prices', color = 'blue')\n",
        "plt.plot(lcfs['Date'], predicted_prices_mse, label='KF Predicted (Best MSE: 10767.12)', color='red', linestyle=':')\n",
        "plt.plot(lcfs['Date'], predicted_prices_mda, label='KF Predicted (Best MDA: 58.99%)', color='green', linestyle='-.')\n",
        "plt.grid(True, color='gray', linestyle=':', linewidth=0.5)\n",
        "plt.legend()\n",
        "plt.xlabel('Date')\n",
        "plt.ylabel('LCFS Price ($)')\n",
        "plt.savefig('./tech_results/KF_pred.png', dpi=300)\n",
        "plt.show()"
      ]
    },
    {
      "cell_type": "markdown",
      "id": "6fa196ad-c63e-4288-a39a-d9da048bcf60",
      "metadata": {
        "id": "6fa196ad-c63e-4288-a39a-d9da048bcf60"
      },
      "source": [
        "## (b) ARIMA"
      ]
    },
    {
      "cell_type": "markdown",
      "id": "2c60f476-e957-436c-b162-e76767098166",
      "metadata": {
        "id": "2c60f476-e957-436c-b162-e76767098166"
      },
      "source": [
        "Algorithm of ARIMA (AutoRegressive Integrated Moving Average)\n",
        "\n",
        "There are three parts:\n",
        "- AutoRegressive (AR)\n",
        "- Integrated (I)\n",
        "- Moving Average (MA)\n",
        "\n",
        "**Steps**:\n",
        "\n",
        "1. Data in chronological order (no missing value or handle missing value appropriately)\n",
        "2. Check for stationarity (ARIMA requires the data to be stationary. Stationarity means that the statistical properties of the series (such as mean and variance) are constant over time)\n",
        "    1. Visual Inspection: Plot the time series and observe if it has any trend or seasonality.\n",
        "    2. Augmented Dickey-Fuller (ADF) Test: This statistical test determines if the time series is stationary or not. A p-value less than 0.05 usually indicates stationarity.\n",
        "3. Differencing the series (integration)\n",
        "4. Determine AR and MA orders using ACF/PACF\n",
        "5. Fit ARIMA model with chosen (p, d, q) parameters\n",
        "6. Make predictions (one-step or multi-step)\n",
        "7. Evaluate model performance using metrics like MAE, MSE, RMSE\n",
        "8. Refine the model (adjust ARIMA parameters or use auto-ARIMA)\n",
        "9. Make rolling forecasts if needed for continuous prediction\n",
        "10. Check residual diagnostics to ensure the model fits well\n",
        "\n"
      ]
    },
    {
      "cell_type": "markdown",
      "id": "8438d162-34c0-452c-9c1e-e4da6657f6b8",
      "metadata": {
        "id": "8438d162-34c0-452c-9c1e-e4da6657f6b8"
      },
      "source": [
        "**Autoregressive (AR) Model** (hyperparameter **p**)\n",
        "\n",
        "$$\n",
        "y_t = c + \\phi_1 y_{t-1} + \\phi_2 y_{t-2} + \\phi_3 y_{t-3} + ... + \\phi_p y_{t-p} + \\epsilon_t\n",
        "$$\n",
        "\n",
        "Fitting to determine $\\phi_i$"
      ]
    },
    {
      "cell_type": "markdown",
      "id": "850e5da4-9039-4469-a81b-de8ee679a7ba",
      "metadata": {
        "id": "850e5da4-9039-4469-a81b-de8ee679a7ba"
      },
      "source": [
        "**Moving Average (MA) Model** (hyperparameter **q**)\n",
        "\n",
        "$$\n",
        "y_t = \\mu + \\epsilon_t + \\theta_1 \\epsilon_{t-1} + \\theta_2 \\epsilon_{t-2} + ... + \\theta_q \\epsilon_{t-q}\n",
        "$$\n",
        "\n",
        "Fitting to determine $\\theta_i$"
      ]
    },
    {
      "cell_type": "markdown",
      "id": "49ccbbe0-5318-48b1-8848-8ceed4ae2be3",
      "metadata": {
        "id": "49ccbbe0-5318-48b1-8848-8ceed4ae2be3"
      },
      "source": [
        "**Integrated (I) Part**\n",
        "\n",
        "-- Perform differencing, **d** means the differencing steps to make the series stationary\n"
      ]
    },
    {
      "cell_type": "markdown",
      "id": "5bddf3be-20e2-43e8-9651-138738aa10b5",
      "metadata": {
        "id": "5bddf3be-20e2-43e8-9651-138738aa10b5"
      },
      "source": [
        "**ARIMA Model (Combining AR, I, and MA)**\n",
        "\n",
        "$$\n",
        "y_{t}^{'} = c + \\phi_{1} y_{t-1}^{'} + \\phi_{2} y_{t-2}^{'} + ... + \\phi_{p} y_{t-p}^{'} + \\epsilon_t + \\theta_{1} \\epsilon_{t-1} + \\theta_{2} \\epsilon_{t-2} + ...+ \\theta_{q} \\epsilon_{t-q}\n",
        "$$\n",
        "\n",
        "where **AR** part models the dependency on previous values and **MA** part models the dependency on past forecast errors.\n",
        "\n"
      ]
    },
    {
      "cell_type": "markdown",
      "id": "7ca56606-4728-4a51-b117-bf83204d0c51",
      "metadata": {
        "id": "7ca56606-4728-4a51-b117-bf83204d0c51"
      },
      "source": [
        "### Check stationary of the data"
      ]
    },
    {
      "cell_type": "code",
      "execution_count": null,
      "id": "b679463f-6c24-4453-af99-74e941fc7d0b",
      "metadata": {
        "id": "b679463f-6c24-4453-af99-74e941fc7d0b",
        "outputId": "a7e64af8-068a-4cb8-8b8c-c1feb638fcb5"
      },
      "outputs": [
        {
          "name": "stdout",
          "output_type": "stream",
          "text": [
            "ADF Statistic: -1.379277446545143\n",
            "p-value: 0.5921694700491663\n"
          ]
        }
      ],
      "source": [
        "from statsmodels.tsa.stattools import adfuller\n",
        "\n",
        "result = adfuller(prices)\n",
        "print(f'ADF Statistic: {result[0]}')\n",
        "print(f'p-value: {result[1]}')"
      ]
    },
    {
      "cell_type": "code",
      "execution_count": null,
      "id": "9cbe4581-59df-4bfb-8d45-4ede48f6de28",
      "metadata": {
        "id": "9cbe4581-59df-4bfb-8d45-4ede48f6de28",
        "outputId": "78540d05-6b12-48eb-f3d3-b055a8fb88ce"
      },
      "outputs": [
        {
          "name": "stdout",
          "output_type": "stream",
          "text": [
            "ADF Statistic: -4.761337729729125\n",
            "p-value: 6.444529823458798e-05\n"
          ]
        }
      ],
      "source": [
        "# 1st order differencing:\n",
        "result = adfuller(np.diff(prices))\n",
        "print(f'ADF Statistic: {result[0]}')\n",
        "print(f'p-value: {result[1]}')"
      ]
    },
    {
      "cell_type": "code",
      "execution_count": null,
      "id": "5981a15e-fb8f-4095-93ae-cf773f633f2b",
      "metadata": {
        "id": "5981a15e-fb8f-4095-93ae-cf773f633f2b",
        "outputId": "374e52d4-b6dc-404a-c584-d16abda65fa9"
      },
      "outputs": [
        {
          "name": "stdout",
          "output_type": "stream",
          "text": [
            "ADF Statistic: -8.866705999926893\n",
            "p-value: 1.4339538806486816e-14\n"
          ]
        }
      ],
      "source": [
        "# 2nd order differencing:\n",
        "result = adfuller(np.diff(np.diff(prices)))\n",
        "print(f'ADF Statistic: {result[0]}')\n",
        "print(f'p-value: {result[1]}')"
      ]
    },
    {
      "cell_type": "markdown",
      "id": "64fbfc98-9ad3-475c-8695-9a9de72a3a56",
      "metadata": {
        "id": "64fbfc98-9ad3-475c-8695-9a9de72a3a56"
      },
      "source": [
        "### Auto-Correlation Function (ACF) and Partial Auto-Correlation Function (PACF) plots"
      ]
    },
    {
      "cell_type": "code",
      "execution_count": null,
      "id": "932bf77b-2976-4d23-b3dd-9230a7948d6d",
      "metadata": {
        "id": "932bf77b-2976-4d23-b3dd-9230a7948d6d"
      },
      "outputs": [],
      "source": [
        "data = np.diff(prices)"
      ]
    },
    {
      "cell_type": "code",
      "execution_count": null,
      "id": "01299f02-22b1-4a6f-b124-3bfa6e4a1d54",
      "metadata": {
        "id": "01299f02-22b1-4a6f-b124-3bfa6e4a1d54",
        "outputId": "c62fd35b-6cfb-4b48-ba0b-ca8f68e7b993"
      },
      "outputs": [
        {
          "data": {
            "text/plain": [
              "<Figure size 1000x500 with 0 Axes>"
            ]
          },
          "metadata": {},
          "output_type": "display_data"
        },
        {
          "data": {
            "image/png": "[encoded data removed]",
            "text/plain": [
              "<Figure size 640x480 with 1 Axes>"
            ]
          },
          "metadata": {},
          "output_type": "display_data"
        },
        {
          "data": {
            "text/plain": [
              "<Figure size 1000x500 with 0 Axes>"
            ]
          },
          "metadata": {},
          "output_type": "display_data"
        },
        {
          "data": {
            "image/png": "[encoded data removed]",
            "text/plain": [
              "<Figure size 640x480 with 1 Axes>"
            ]
          },
          "metadata": {},
          "output_type": "display_data"
        }
      ],
      "source": [
        "import matplotlib.pyplot as plt\n",
        "from statsmodels.graphics.tsaplots import plot_acf, plot_pacf\n",
        "\n",
        "# Suppose `data` is your time series data\n",
        "\n",
        "# ACF plot (for identifying MA(q))\n",
        "plt.figure(figsize=(10, 5))\n",
        "plot_acf(data, lags=10)  # Adjust 'lags' depending on the length of your data\n",
        "plt.show()\n",
        "\n",
        "# PACF plot (for identifying AR(p))\n",
        "plt.figure(figsize=(10, 5))\n",
        "plot_pacf(data, lags=10)\n",
        "plt.show()\n"
      ]
    },
    {
      "cell_type": "markdown",
      "id": "9f01c49b-d357-4d1a-bb9c-45060907c684",
      "metadata": {
        "id": "9f01c49b-d357-4d1a-bb9c-45060907c684"
      },
      "source": [
        "Comment: Due to LCFS data being nonstationary, it exhibits changing statistical properties over time. The first order already makes good stationary."
      ]
    },
    {
      "cell_type": "markdown",
      "id": "15d8b815-dae8-4544-9628-39fe420a86fe",
      "metadata": {
        "id": "15d8b815-dae8-4544-9628-39fe420a86fe"
      },
      "source": [
        "### Differencing the series (Integration - I)\n",
        "\n",
        "- First-order differencing: $y_t^{'} = y_t - y_{t-1}$\n",
        "- Second-order differencig: $y_t^{''} = y_t^{'} - y_{t-1}^{'}$\n",
        "- ..."
      ]
    },
    {
      "cell_type": "code",
      "execution_count": null,
      "id": "b34fb0ff-eb31-422d-89de-c4e40e50fd7c",
      "metadata": {
        "id": "b34fb0ff-eb31-422d-89de-c4e40e50fd7c",
        "outputId": "d011b0eb-9a85-4131-d6b8-5cc48c312dcd"
      },
      "outputs": [
        {
          "name": "stdout",
          "output_type": "stream",
          "text": [
            "Performing stepwise search to minimize aic\n",
            " ARIMA(1,2,1)(0,0,0)[0] intercept   : AIC=996.329, Time=0.03 sec\n",
            " ARIMA(0,2,0)(0,0,0)[0] intercept   : AIC=1083.650, Time=0.00 sec\n",
            " ARIMA(1,2,0)(0,0,0)[0] intercept   : AIC=1038.208, Time=0.01 sec\n",
            " ARIMA(0,2,1)(0,0,0)[0] intercept   : AIC=995.629, Time=0.01 sec\n",
            " ARIMA(0,2,0)(0,0,0)[0]             : AIC=1081.653, Time=0.00 sec\n",
            " ARIMA(0,2,2)(0,0,0)[0] intercept   : AIC=995.855, Time=0.03 sec\n",
            " ARIMA(1,2,2)(0,0,0)[0] intercept   : AIC=997.596, Time=0.04 sec\n",
            " ARIMA(0,2,1)(0,0,0)[0]             : AIC=993.905, Time=0.01 sec\n",
            " ARIMA(1,2,1)(0,0,0)[0]             : AIC=994.458, Time=0.01 sec\n",
            " ARIMA(0,2,2)(0,0,0)[0]             : AIC=993.966, Time=0.01 sec\n",
            " ARIMA(1,2,0)(0,0,0)[0]             : AIC=1036.213, Time=0.00 sec\n",
            " ARIMA(1,2,2)(0,0,0)[0]             : AIC=995.696, Time=0.02 sec\n",
            "\n",
            "Best model:  ARIMA(0,2,1)(0,0,0)[0]          \n",
            "Total fit time: 0.172 seconds\n",
            "                               SARIMAX Results                                \n",
            "==============================================================================\n",
            "Dep. Variable:                      y   No. Observations:                  140\n",
            "Model:               SARIMAX(0, 2, 1)   Log Likelihood                -494.953\n",
            "Date:                Wed, 27 Nov 2024   AIC                            993.905\n",
            "Time:                        22:56:10   BIC                            999.760\n",
            "Sample:                             0   HQIC                           996.285\n",
            "                                - 140                                         \n",
            "Covariance Type:                  opg                                         \n",
            "==============================================================================\n",
            "                 coef    std err          z      P>|z|      [0.025      0.975]\n",
            "------------------------------------------------------------------------------\n",
            "ma.L1         -0.9025      0.033    -27.008      0.000      -0.968      -0.837\n",
            "sigma2        75.4210      6.524     11.561      0.000      62.635      88.207\n",
            "===================================================================================\n",
            "Ljung-Box (L1) (Q):                   0.73   Jarque-Bera (JB):                24.28\n",
            "Prob(Q):                              0.39   Prob(JB):                         0.00\n",
            "Heteroskedasticity (H):               0.46   Skew:                            -0.51\n",
            "Prob(H) (two-sided):                  0.01   Kurtosis:                         4.78\n",
            "===================================================================================\n",
            "\n",
            "Warnings:\n",
            "[1] Covariance matrix calculated using the outer product of gradients (complex-step).\n"
          ]
        }
      ],
      "source": [
        "from pmdarima import auto_arima\n",
        "\n",
        "# Automatically choose the best ARIMA parameters\n",
        "model = auto_arima(prices, start_p=1, start_q=1,\n",
        "                   max_p=5, max_q=5, seasonal=False,\n",
        "                   trace=True, error_action='ignore', suppress_warnings=True, stepwise=True)\n",
        "\n",
        "print(model.summary())\n"
      ]
    },
    {
      "cell_type": "code",
      "execution_count": null,
      "id": "61a197e3-abaa-47e0-b2ea-82ca0ef41932",
      "metadata": {
        "id": "61a197e3-abaa-47e0-b2ea-82ca0ef41932"
      },
      "outputs": [],
      "source": [
        "def rolling_ARIMA(prices, start, p, d, q):\n",
        "    history = prices[:start]\n",
        "    predictions = []\n",
        "\n",
        "    for t in range(start, len(prices)):\n",
        "        model = ARIMA(history, order=(p, d, q))\n",
        "        model_fit = model.fit()\n",
        "        # Make a one-step prediction\n",
        "        y_pred = model_fit.forecast()[0]\n",
        "        predictions.append(y_pred)\n",
        "        # Add the predicted point to the history (expanding window)\n",
        "        history = np.append(history, prices[t])\n",
        "\n",
        "    return predictions"
      ]
    },
    {
      "cell_type": "code",
      "execution_count": null,
      "id": "03dd45a8-7b2f-45cc-a44f-356396f15cb5",
      "metadata": {
        "id": "03dd45a8-7b2f-45cc-a44f-356396f15cb5",
        "outputId": "45f8aac6-51ac-4e24-d151-a5e220b06a37"
      },
      "outputs": [
        {
          "data": {
            "image/png": "[encoded data removed]",
            "text/plain": [
              "<Figure size 640x480 with 1 Axes>"
            ]
          },
          "metadata": {},
          "output_type": "display_data"
        },
        {
          "name": "stdout",
          "output_type": "stream",
          "text": [
            "{'MSE': 9201.026872644026, 'MPA (%)': 92.8849875012283, 'F1 Score': 0.3517471364361316, 'MDA (%)': 50.40650406504065}\n"
          ]
        }
      ],
      "source": [
        "start = 16\n",
        "\n",
        "predicted_prices = rolling_ARIMA(prices, start, 0, 1, 1)\n",
        "\n",
        "# Plot original vs. predicted prices\n",
        "plt.plot(lcfs['Date'], prices, label='Observed Prices')\n",
        "plt.plot(lcfs['Date'][start:], predicted_prices, label='ARIMA Predicted Prices', color='r', linestyle=':')\n",
        "plt.legend()\n",
        "plt.savefig('./tech_results/ARIMA_pred.png', dpi=300)\n",
        "plt.show()\n",
        "\n",
        "print(evaluation(predicted_prices, prices[start:]))"
      ]
    },
    {
      "cell_type": "code",
      "execution_count": null,
      "id": "994d45cd-ee9e-4f1c-941c-b7d94033d6b0",
      "metadata": {
        "id": "994d45cd-ee9e-4f1c-941c-b7d94033d6b0"
      },
      "outputs": [],
      "source": [
        "dates = lcfs['Date'][start:]  # Corresponding dates for the predictions\n",
        "\n",
        "df_predictions = pd.DataFrame({\n",
        "    'Date': dates,\n",
        "    'Predicted_Price': predicted_prices\n",
        "})\n",
        "\n",
        "df_predictions.to_csv('tech_results/ARIMA_pred.csv', index=False)"
      ]
    },
    {
      "cell_type": "markdown",
      "id": "be68899d-28fc-4006-b105-5bdb82fc6dd1",
      "metadata": {
        "id": "be68899d-28fc-4006-b105-5bdb82fc6dd1"
      },
      "source": [
        "## (c) XGBoost\n",
        "We also try to use XGBoot to make a regression and prediction here."
      ]
    },
    {
      "cell_type": "code",
      "execution_count": null,
      "id": "12c6a231-17ba-47dd-9029-39d2d1dffe36",
      "metadata": {
        "id": "12c6a231-17ba-47dd-9029-39d2d1dffe36"
      },
      "outputs": [],
      "source": [
        "def rolling_XGB(data, start, num_lags, n, m):\n",
        "    x_train = []\n",
        "    y_train = []\n",
        "\n",
        "    x_test = []\n",
        "    y_test = []\n",
        "\n",
        "    predictions = []\n",
        "\n",
        "    # construct the initial prediction\n",
        "    for i in range(start - num_lags):\n",
        "        x_train.append(data[i:i + num_lags])\n",
        "        y_train.append(data[i+ num_lags])\n",
        "\n",
        "    x_train = np.array(x_train)\n",
        "    # y_train = np.array(y_train)\n",
        "    y_train = np.array(y_train)\n",
        "\n",
        "\n",
        "    # make a rolling fitting and predictions\n",
        "    for i in range(start, len(data)):\n",
        "        x_test = [data[i-num_lags: i]]\n",
        "        y_test = data[i]\n",
        "\n",
        "        model = XGBRegressor(random_state = 0, n_estimators = n, max_depth = m)\n",
        "        model.fit(x_train, y_train)\n",
        "        y_pred = model.predict(x_test)\n",
        "\n",
        "        predictions.append(y_pred.item())\n",
        "\n",
        "        # Add the predicted point to the training set\n",
        "        x_train = np.concatenate((x_train, x_test), axis=0)\n",
        "        y_train = np.append(y_train, y_test)\n",
        "\n",
        "    return predictions"
      ]
    },
    {
      "cell_type": "code",
      "execution_count": null,
      "id": "a209bcf6-b19a-407f-8170-db299ae1639b",
      "metadata": {
        "id": "a209bcf6-b19a-407f-8170-db299ae1639b",
        "outputId": "eddda852-d233-4c72-b399-90c486740ee4"
      },
      "outputs": [
        {
          "data": {
            "image/png": "[encoded data removed]",
            "text/plain": [
              "<Figure size 640x480 with 1 Axes>"
            ]
          },
          "metadata": {},
          "output_type": "display_data"
        },
        {
          "name": "stdout",
          "output_type": "stream",
          "text": [
            "{'MSE': 13501.680731823813, 'MPA (%)': 90.2429150274236, 'F1 Score': 0.35168550178692165, 'MDA (%)': 50.40650406504065}\n"
          ]
        }
      ],
      "source": [
        "price_start  = prices[start]\n",
        "price_change = np.diff(prices)\n",
        "\n",
        "start    = 16\n",
        "num_lags = 15 # Increasing number of lags is useful to increase the score\n",
        "\n",
        "predicted_diff = rolling_XGB(price_change, start, num_lags, n = 20, m = 20)\n",
        "\n",
        "predicted_prices = []\n",
        "predicted_prices.append(price_start)\n",
        "\n",
        "for i in range(len(predicted_diff)):\n",
        "    predicted_prices.append(prices[start+i]+predicted_diff[i])\n",
        "\n",
        "plt.plot(lcfs['Date'], prices, label='Observed Prices')\n",
        "plt.plot(lcfs['Date'][start:], predicted_prices, label='XGBoost Predicted Prices', color='r', linestyle=':')\n",
        "plt.legend()\n",
        "plt.savefig('./tech_results/XGBoost_pred.png', dpi=300)\n",
        "plt.show()\n",
        "\n",
        "print(evaluation(predicted_prices, prices[start:]))"
      ]
    },
    {
      "cell_type": "code",
      "execution_count": null,
      "id": "73c8eabc-5b74-4c86-8cce-5ebe7642091c",
      "metadata": {
        "id": "73c8eabc-5b74-4c86-8cce-5ebe7642091c"
      },
      "outputs": [],
      "source": [
        "dates = lcfs['Date'][start:]  # Corresponding dates for the predictions\n",
        "\n",
        "df_predictions = pd.DataFrame({\n",
        "    'Date': dates,\n",
        "    'Predicted_Price': predicted_prices\n",
        "})\n",
        "\n",
        "df_predictions.to_csv('tech_results/XGBoost_pred.csv', index=False)"
      ]
    },
    {
      "cell_type": "markdown",
      "id": "4b0c6207-3afb-4e5b-ad53-a5fd0ee27101",
      "metadata": {
        "id": "4b0c6207-3afb-4e5b-ad53-a5fd0ee27101"
      },
      "source": [
        "## (d) Facebook Prophet\n",
        "\n",
        "$$\n",
        "y(t) = g(t) + s(t) + h(t) + \\epsilon_t\n",
        "$$\n",
        "\n",
        "- $y(t)$: Observed value at time t\n",
        "- $g(t)$: Trend function (models long-term changes in the data)\n",
        "- $s(t)$: Seasonal component (models periodic patterns, e.g., weekly, yearly)\n",
        "- $h(t)$: Holiday effect (models special events or holidays that influence the data)\n",
        "- $\\epsilon_t$: Residuals (noise or error)\n",
        "\n",
        "$g(t)$ supports the linear trend or logistic trend.\n",
        "\n",
        "$s(t)$ (Seasonality) as a Fourier series to capture periodic patterns.\n",
        "\n",
        "$h(t)$ Holiday Effects as binary indicator $\\delta_i(t)$.\n",
        "\n",
        "Residuals, $\\epsilon_t$"
      ]
    },
    {
      "cell_type": "code",
      "execution_count": null,
      "id": "ea84e3f0-23ec-4da3-8f35-23f62d949b22",
      "metadata": {
        "id": "ea84e3f0-23ec-4da3-8f35-23f62d949b22"
      },
      "outputs": [],
      "source": [
        "from prophet import Prophet\n",
        "import pandas as pd\n",
        "import matplotlib.pyplot as plt\n",
        "\n",
        "def rolling_prophet(df, start):\n",
        "    \"\"\"\n",
        "    Perform rolling predictions using Facebook Prophet.\n",
        "\n",
        "    Args:\n",
        "        df: DataFrame with ['ds', 'y'] columns for date and observed values.\n",
        "        start: Starting index for rolling predictions.\n",
        "\n",
        "    Returns:\n",
        "        List of predicted prices.\n",
        "    \"\"\"\n",
        "    predictions = []\n",
        "\n",
        "    # Perform rolling predictions\n",
        "    for t in range(start, len(df)):\n",
        "        # Use data up to the current index for training\n",
        "        train_df = df.iloc[:t]\n",
        "\n",
        "        # Initialize and fit Prophet model\n",
        "        # tune the mode: model = Prophet()\n",
        "        model = Prophet(changepoint_prior_scale=0.025)\n",
        "        model.fit(train_df)\n",
        "\n",
        "        # Create a future DataFrame for the next time step\n",
        "        future = pd.DataFrame({'ds': [df['ds'][t]]})\n",
        "\n",
        "        # Predict the next price\n",
        "        forecast = model.predict(future)\n",
        "        y_pred = forecast['yhat'].values[0]\n",
        "\n",
        "        # Append the prediction\n",
        "        predictions.append(y_pred)\n",
        "        #print(f\"Rolling Step {t - start + 1}: Predicted Price = {y_pred}\")\n",
        "\n",
        "    return predictions\n"
      ]
    },
    {
      "cell_type": "code",
      "execution_count": null,
      "id": "1f6e246f-b7e9-47ef-964c-b6e3915963c2",
      "metadata": {
        "id": "1f6e246f-b7e9-47ef-964c-b6e3915963c2",
        "outputId": "3e9cfe4e-18e9-4f1b-deb5-de864b215aaf"
      },
      "outputs": [
        {
          "data": {
            "image/png": "[encoded data removed]",
            "text/plain": [
              "<Figure size 640x480 with 1 Axes>"
            ]
          },
          "metadata": {},
          "output_type": "display_data"
        },
        {
          "name": "stdout",
          "output_type": "stream",
          "text": [
            "{'MSE': 13093.435802053678, 'MPA (%)': 91.07487585083268, 'F1 Score': 0.31203824424163407, 'MDA (%)': 44.71544715447154}\n"
          ]
        }
      ],
      "source": [
        "start = 16  # Start rolling predictions at index XXX\n",
        "\n",
        "price_start  = prices[start]\n",
        "price_change = np.diff(prices)\n",
        "\n",
        "aligned_dates = lcfs['Date'][1:]\n",
        "\n",
        "df_price = pd.DataFrame({\n",
        "    'ds': aligned_dates,\n",
        "    'y': price_change\n",
        "})\n",
        "\n",
        "# Drop any rows with NaN values if necessary\n",
        "df_price.dropna(inplace=True)\n",
        "\n",
        "# Perform rolling predictions\n",
        "predicted_diff = rolling_prophet(df_price, start)\n",
        "\n",
        "predicted_prices = []\n",
        "predicted_prices.append(price_start)\n",
        "\n",
        "for i in range(len(predicted_diff)):\n",
        "    predicted_prices.append(prices[start+i]+predicted_diff[i])\n",
        "\n",
        "# Plot original vs. predicted prices\n",
        "plt.plot(lcfs['Date'], prices, label='Observed Prices')\n",
        "plt.plot(lcfs['Date'][start:], predicted_prices, label='Prophet Predicted Prices', color='r', linestyle=':')\n",
        "plt.legend()\n",
        "plt.savefig('./tech_results/Prophet_pred.png', dpi=300)\n",
        "plt.show()\n",
        "\n",
        "print(evaluation(predicted_prices, prices[start:]))\n"
      ]
    },
    {
      "cell_type": "markdown",
      "id": "1f480825-09be-4525-acd5-16daf2ce139b",
      "metadata": {
        "id": "1f480825-09be-4525-acd5-16daf2ce139b"
      },
      "source": [
        "## (e) LSTM\n",
        "\n",
        "In LSTM, we also make a rolling prediction.\n",
        "Using history prices [: current] to predict the current price [current].\n",
        "We cannot perform batch training in this case since we only have one data input.\n",
        "Also, we are going to predict the price difference.\n",
        "\n",
        "We will incorporate other features such as the volume of trading in the next step."
      ]
    },
    {
      "cell_type": "code",
      "execution_count": null,
      "id": "0b5ee2ca-e16b-4a00-bb8d-5223e4099091",
      "metadata": {
        "id": "0b5ee2ca-e16b-4a00-bb8d-5223e4099091"
      },
      "outputs": [],
      "source": [
        "import torch\n",
        "import torch.nn as nn\n",
        "import torch.optim as optim"
      ]
    },
    {
      "cell_type": "code",
      "execution_count": null,
      "id": "4c74fec5-d49d-450a-8983-03718284ff17",
      "metadata": {
        "id": "4c74fec5-d49d-450a-8983-03718284ff17"
      },
      "outputs": [],
      "source": [
        "# Create a data sequence: [(current_index - num_lags) x num_lags] --> [current_index - num_lags]\n",
        "# e.g. [[1, 2, 3], [2, 3, 4], [3, 4, 5]] --> [4, 5, 6]\n",
        "\n",
        "def create_sequences(data, num_lags):\n",
        "    sequences = []\n",
        "    targets = []\n",
        "    for i in range(len(data) - num_lags):\n",
        "        seq = data[i:i+num_lags]\n",
        "        target = data[i+num_lags]\n",
        "        sequences.append(seq)\n",
        "        targets.append(target)\n",
        "    return np.array(sequences), np.array(targets)"
      ]
    },
    {
      "cell_type": "code",
      "execution_count": null,
      "id": "72fb34b3-833e-468d-8db6-3e20e8bccbfc",
      "metadata": {
        "id": "72fb34b3-833e-468d-8db6-3e20e8bccbfc"
      },
      "outputs": [],
      "source": [
        "# Define LSTM model\n",
        "class LSTMModel(nn.Module):\n",
        "    def __init__(self, input_size=1, hidden_size=32, num_layers=1):\n",
        "        super(LSTMModel, self).__init__()\n",
        "        self.hidden_size = hidden_size\n",
        "        self.num_layers = num_layers\n",
        "\n",
        "        # Define the LSTM layer: input size is the single element to input\n",
        "        self.lstm = nn.LSTM(input_size, hidden_size, num_layers, batch_first=True)\n",
        "\n",
        "        # Define the output layer: output a single value\n",
        "        self.fc = nn.Linear(hidden_size, 1)\n",
        "\n",
        "    def forward(self, x):\n",
        "        # Initialize hidden state and cell state with zeros\n",
        "        h0 = torch.zeros(self.num_layers, x.size(0), self.hidden_size).to(x.device)\n",
        "        c0 = torch.zeros(self.num_layers, x.size(0), self.hidden_size).to(x.device)\n",
        "\n",
        "        # Forward propagate LSTM: input x and the initial (h0, c0)\n",
        "        out, _ = self.lstm(x, (h0, c0))\n",
        "        #print(out)\n",
        "\n",
        "        # Get the output from the last time step\n",
        "        out = self.fc(out[:, -1, :])\n",
        "        # print(out)\n",
        "        # print('-----')\n",
        "\n",
        "        return out"
      ]
    },
    {
      "cell_type": "code",
      "execution_count": null,
      "id": "ed6dcac7-25de-48e3-af74-24ee7ac40118",
      "metadata": {
        "id": "ed6dcac7-25de-48e3-af74-24ee7ac40118"
      },
      "outputs": [],
      "source": [
        "def rolling_lstm_predictions(data, num_lags, start_index, num_epochs=10, learning_rate=0.001):\n",
        "    predictions = []\n",
        "    #actual_values = []\n",
        "\n",
        "    criterion = nn.MSELoss()\n",
        "\n",
        "    # Device configuration\n",
        "    device = torch.device('cuda' if torch.cuda.is_available() else 'cpu')\n",
        "\n",
        "    for i in range(start_index, len(data)):\n",
        "        # Prepare training data up to the current index (i-1)\n",
        "        train_data = data[:i]\n",
        "\n",
        "        # Create sequences\n",
        "        X_train, y_train = create_sequences(train_data, num_lags)\n",
        "#        print(X_train)\n",
        "\n",
        "        # Convert to PyTorch tensors and reshape\n",
        "        X_train = torch.from_numpy(X_train).float().unsqueeze(-1).to(device)  # Shape: [samples, num_lags, 1]\n",
        "        y_train = torch.from_numpy(y_train).float().to(device)\n",
        "\n",
        "        # Initialize the LSTM model\n",
        "        model = LSTMModel(input_size=1, hidden_size=32, num_layers=1).to(device)\n",
        "\n",
        "        optimizer = optim.Adam(model.parameters(), lr=learning_rate)\n",
        "\n",
        "        # Train the model\n",
        "        model.train()\n",
        "        for epoch in range(num_epochs):\n",
        "            optimizer.zero_grad()\n",
        "            output = model(X_train)\n",
        "            loss = criterion(output.squeeze(), y_train)\n",
        "            loss.backward()\n",
        "            optimizer.step()\n",
        "\n",
        "        # Prepare test input\n",
        "        x_input = data[i - num_lags:i]\n",
        "        x_input = torch.from_numpy(x_input).float().unsqueeze(0).unsqueeze(-1).to(device)  # Shape: [1, num_lags, 1]\n",
        "\n",
        "        # Make prediction\n",
        "        model.eval()\n",
        "        with torch.no_grad():\n",
        "            yhat = model(x_input)\n",
        "            yhat = yhat.item()\n",
        "\n",
        "        # Store prediction and actual value\n",
        "        predictions.append(yhat)\n",
        "        #actual_values.append(data[i])\n",
        "\n",
        "    return predictions"
      ]
    },
    {
      "cell_type": "code",
      "execution_count": null,
      "id": "865f4767-734c-4d44-a403-86a8aebc24fe",
      "metadata": {
        "id": "865f4767-734c-4d44-a403-86a8aebc24fe",
        "outputId": "7f3d42cf-b5cc-43b8-94f1-69e2dcffdbd7"
      },
      "outputs": [
        {
          "data": {
            "image/png": "[encoded data removed]",
            "text/plain": [
              "<Figure size 640x480 with 1 Axes>"
            ]
          },
          "metadata": {},
          "output_type": "display_data"
        },
        {
          "name": "stdout",
          "output_type": "stream",
          "text": [
            "{'MSE': 8625.547948127012, 'MPA (%)': 93.7616798295198, 'F1 Score': 0.3347823836878332, 'MDA (%)': 47.89915966386555}\n"
          ]
        }
      ],
      "source": [
        "# run_rolling predictions\n",
        "\n",
        "num_lags = 10        # Use previous ? data points\n",
        "start = 20     # Start from index ?\n",
        "num_epochs = 10     # Number of epochs for training\n",
        "learning_rate = 0.001  # Learning rate for the optimizer\n",
        "\n",
        "price_start  = prices[start]\n",
        "data = np.diff(prices) # record of price change\n",
        "\n",
        "# Run rolling predictions\n",
        "predicted_diff = rolling_lstm_predictions(data, num_lags, start, num_epochs, learning_rate)\n",
        "\n",
        "\n",
        "# Summarize results\n",
        "predicted_prices = []\n",
        "predicted_prices.append(price_start)\n",
        "\n",
        "for i in range(len(predicted_diff)):\n",
        "    predicted_prices.append(prices[start+i]+predicted_diff[i])\n",
        "\n",
        "# Plot original vs. predicted prices\n",
        "# plt.plot(lcfs['Date'][1:], price_change, label='Observed Prices')\n",
        "# plt.plot(lcfs['Date'][start:], predicted_diff, label='XGBoost Predicted Prices', color='r', linestyle=':')\n",
        "plt.plot(lcfs['Date'], prices, label='Observed Prices')\n",
        "plt.plot(lcfs['Date'][start:], predicted_prices, label='LSTM Predicted Prices', color='r', linestyle=':')\n",
        "plt.legend()\n",
        "plt.savefig('./tech_results/LSTM_pred.png', dpi=300)\n",
        "plt.show()\n",
        "\n",
        "print(evaluation(predicted_prices, prices[start:]))\n"
      ]
    },
    {
      "cell_type": "code",
      "execution_count": null,
      "id": "3893d610-ede0-4d96-94af-369804159ef5",
      "metadata": {
        "id": "3893d610-ede0-4d96-94af-369804159ef5"
      },
      "outputs": [],
      "source": [
        "dates = lcfs['Date'][start:]  # Corresponding dates for the predictions\n",
        "\n",
        "df_predictions = pd.DataFrame({\n",
        "    'Date': dates,\n",
        "    'Predicted_Price': predicted_prices\n",
        "})\n",
        "\n",
        "df_predictions.to_csv('tech_results/LSTM_pred.csv', index=False)"
      ]
    },
    {
      "cell_type": "markdown",
      "id": "a8eed02b-3a8b-4a79-bbf2-cccaaa3a63fd",
      "metadata": {
        "id": "a8eed02b-3a8b-4a79-bbf2-cccaaa3a63fd"
      },
      "source": [
        "## (f) Temperal Fusion Transformer"
      ]
    },
    {
      "cell_type": "markdown",
      "id": "829f5577-7790-467a-92aa-bd1837e00ed3",
      "metadata": {
        "id": "829f5577-7790-467a-92aa-bd1837e00ed3"
      },
      "source": [
        "Temperal Fusion Transformer supports the multiple targets and even hetrogeneous targets where some are continuous variables and others categorical, i.e. regression and classification at the same time."
      ]
    },
    {
      "cell_type": "code",
      "execution_count": null,
      "id": "7fa6fc71-6969-4c48-913d-2b0132c8dec1",
      "metadata": {
        "id": "7fa6fc71-6969-4c48-913d-2b0132c8dec1",
        "outputId": "3b5628c6-3d33-442e-bf69-79d63a3ced2b"
      },
      "outputs": [
        {
          "name": "stdout",
          "output_type": "stream",
          "text": [
            "The autoreload extension is already loaded. To reload it, use:\n",
            "  %reload_ext autoreload\n"
          ]
        }
      ],
      "source": [
        "%load_ext autoreload\n",
        "%autoreload 2\n",
        "\n",
        "import numpy as np\n",
        "import pandas as pd\n",
        "import matplotlib.pyplot as plt\n",
        "from tqdm import tqdm_notebook as tqdm\n",
        "\n",
        "import matplotlib.pyplot as plt\n",
        "\n",
        "from darts import TimeSeries, concatenate\n",
        "from darts.dataprocessing.transformers import Scaler\n",
        "from darts.models import TFTModel\n",
        "from darts.metrics import mape\n",
        "from darts.utils.statistics import check_seasonality, plot_acf\n",
        "from darts.datasets import AirPassengersDataset, IceCreamHeaterDataset\n",
        "from darts.utils.timeseries_generation import datetime_attribute_timeseries\n",
        "from darts.utils.likelihood_models import QuantileRegression\n",
        "\n",
        "import warnings\n",
        "\n",
        "warnings.filterwarnings(\"ignore\")\n",
        "import logging\n",
        "\n",
        "logging.disable(logging.CRITICAL)\n",
        "\n",
        "import torch\n",
        "import torch.nn as nn\n",
        "import torch.optim as optim"
      ]
    },
    {
      "cell_type": "markdown",
      "id": "4552b56d-08d2-4538-b34b-61c8c4310aaf",
      "metadata": {
        "id": "4552b56d-08d2-4538-b34b-61c8c4310aaf"
      },
      "source": [
        "### Transfer to a Dart Timeseries data"
      ]
    },
    {
      "cell_type": "code",
      "execution_count": null,
      "id": "b0356ca9-15e2-4a06-9269-ebcc5fd7aa19",
      "metadata": {
        "id": "b0356ca9-15e2-4a06-9269-ebcc5fd7aa19"
      },
      "outputs": [],
      "source": [
        "path_to_data = \"LCFS_task/LCFS_monthly.csv \"\n",
        "lcfs = pd.read_csv('./LCFS_task/LCFS_monthly.csv', usecols=['Date', 'Price', 'Volume'])\n",
        "lcfs['Date'] = pd.to_datetime(lcfs['Date'])\n",
        "prices = lcfs['Price'].values"
      ]
    },
    {
      "cell_type": "code",
      "execution_count": null,
      "id": "d2f140af-caa4-4395-81ae-982e57f05fd0",
      "metadata": {
        "id": "d2f140af-caa4-4395-81ae-982e57f05fd0"
      },
      "outputs": [],
      "source": [
        "df_price = lcfs[['Date', 'Price']]\n",
        "df_price.head()\n",
        "\n",
        "df_price['Date'] = pd.to_datetime(df_price['Date'])\n",
        "df_price.set_index('Date', inplace=True)\n",
        "df_price.index = pd.to_datetime(df_price.index)\n",
        "df_price.index = df_price.index.to_period('M')\n",
        "df_price.index = df_price.index.to_timestamp()"
      ]
    },
    {
      "cell_type": "markdown",
      "id": "205e61a2-0b46-480f-9ebf-a4fd882b3751",
      "metadata": {
        "id": "205e61a2-0b46-480f-9ebf-a4fd882b3751"
      },
      "source": [
        "Create covariate:\n",
        "- In Darts, covariates refer to external data that can be used as inputs to models to help improve forecasts.\n",
        "- Covariate:\n",
        "    - Future covariate: are (by definition) covariates known only into the past (e.g. measurements)\n",
        "        - e.g. daily average forecasted temperatures (known in the future), day of week, month, year, …\n",
        "    - past covariate: are (by definition) covariates known into the future (e.g., weather forecasts)\n",
        "        - e.g. daily average measured temperatures (known only in the past), day of week, month, year, …\n",
        "    - static covariates are (by definition) covariates constant over time (e.g., product IDs)\n",
        "        - categorical:\n",
        "            - location of target (country, city, .. name)\n",
        "            - target identifier: (product ID, store ID, …)\n",
        "        - numerical:\n",
        "            - population of target‘s country/market area (assuming it stays constant over the forecasting horizon)\n",
        "            - average temperature of target‘s region (assuming it stays constant over the forecasting horizon)\n"
      ]
    },
    {
      "cell_type": "markdown",
      "id": "d597d672-d1fd-4f50-828a-e9cbdb88f84a",
      "metadata": {
        "id": "d597d672-d1fd-4f50-828a-e9cbdb88f84a"
      },
      "source": [
        "### Setup model and start rolling training + prediction"
      ]
    },
    {
      "cell_type": "markdown",
      "id": "e97e2181-c16b-4b3d-a2a4-21dd02d385a0",
      "metadata": {
        "id": "e97e2181-c16b-4b3d-a2a4-21dd02d385a0"
      },
      "source": [
        "Datts TFT model parameter clearance:\n",
        "\n",
        "(1) input_chunk_length (int) – Number of time steps in the past to take as a model input (per chunk). Applies to the target series, and past and/or future covariates (if the model supports it). Also called: Encoder length\n",
        "\n",
        "(2) output_chunk_length (int) – Number of time steps predicted at once (per chunk) by the internal model. Also, the number of future values from future covariates to use as a model input (if the model supports future covariates). It is not the same as forecast horizon n used in predict(), which is the desired number of prediction points generated using either a one-shot- or autoregressive forecast. Setting n <= output_chunk_length prevents auto-regression. This is useful when the covariates don’t extend far enough into the future, or to prohibit the model from using future values of past and / or future covariates for prediction (depending on the model’s covariate support). Also called: Decoder length\n",
        "\n",
        "(3) hidden_size (Union[int, List[int]]) – Hidden state size of the TFT. It is the main hyper-parameter and common across the internal TFT architecture.\n",
        "\n",
        "(4) lstm_layers (int) – Number of layers for the Long Short Term Memory (LSTM) Encoder and Decoder (1 is a good default).\n",
        "\n",
        "(5) num_attention_heads (int) – Number of attention heads (4 is a good default)\n",
        "\n",
        "(6) full_attention (bool) – If False, only attends to previous time steps in the decoder. If True attends to previous, current, and future time steps. Defaults to False.\n",
        "\n",
        "https://unit8co.github.io/darts/generated_api/darts.models.forecasting.tft_model.html#darts.models.forecasting.tft_model.TFTModel"
      ]
    },
    {
      "cell_type": "markdown",
      "id": "81504233-a7d7-49de-8eaa-aa24851c8bb1",
      "metadata": {
        "id": "81504233-a7d7-49de-8eaa-aa24851c8bb1"
      },
      "source": [
        "### Rolling prediction TFT"
      ]
    },
    {
      "cell_type": "code",
      "execution_count": null,
      "id": "614d5023-d8bb-4ad6-ba6d-51f513557f0c",
      "metadata": {
        "id": "614d5023-d8bb-4ad6-ba6d-51f513557f0c"
      },
      "outputs": [],
      "source": [
        "def rolling_TFT_predictions(series, covariates, num_lags, start_index, num_samples):\n",
        "\n",
        "    predictions = []\n",
        "\n",
        "    for i in range(start_index, len(series)):\n",
        "        # Split the series set to be train and test, make the prediction starting from start_index\n",
        "        train, val = series.split_after(i-1)\n",
        "\n",
        "        transformer = Scaler()\n",
        "        train_transformed = transformer.fit_transform(train)\n",
        "        val_transformed = transformer.transform(val)\n",
        "        series_transformed = transformer.transform(series)\n",
        "\n",
        "        scaler_covs = Scaler()\n",
        "        cov_train, cov_val = covariates.split_after(i-1)\n",
        "        scaler_covs.fit(cov_train)\n",
        "        covariates_transformed = scaler_covs.transform(covariates)\n",
        "\n",
        "        # Initialize the TFT model\n",
        "        my_model = TFTModel(\n",
        "            input_chunk_length=num_lags,\n",
        "            output_chunk_length=1,\n",
        "            hidden_size=16,\n",
        "            lstm_layers=1,\n",
        "            num_attention_heads=2,\n",
        "            dropout=0.2,\n",
        "            batch_size=8,\n",
        "            n_epochs=150,\n",
        "            add_relative_index=False,\n",
        "            add_encoders=None,\n",
        "            likelihood=None,\n",
        "            loss_fn=nn.MSELoss(),\n",
        "            random_state=42,\n",
        "            pl_trainer_kwargs={\n",
        "                \"accelerator\": device,\n",
        "                \"log_every_n_steps\": 1\n",
        "            },\n",
        "        )\n",
        "\n",
        "\n",
        "        # Train the model\n",
        "        my_model.fit(train_transformed, future_covariates=covariates_transformed, verbose=True)\n",
        "\n",
        "\n",
        "        # Make prediction\n",
        "        pred_series = my_model.predict(n=1, num_samples=num_samples)\n",
        "        pred_price = transformer.inverse_transform(pred_series)\n",
        "\n",
        "        #median_forecast = pred_series.quantile_timeseries(quantile=0.5)\n",
        "\n",
        "        # Store prediction and actual value\n",
        "        price = pred_price.values().flatten()[0]\n",
        "        predictions.append(price)\n",
        "        print(f'The {i}-th predicted prices is: {price}')\n",
        "\n",
        "    return predictions"
      ]
    },
    {
      "cell_type": "code",
      "execution_count": null,
      "id": "f1d9790a-d322-47cf-aa70-b00a583f3486",
      "metadata": {
        "id": "f1d9790a-d322-47cf-aa70-b00a583f3486"
      },
      "outputs": [],
      "source": [
        "# Create a timeSeries object\n",
        "price_series = TimeSeries.from_series(df_price['Price'])\n",
        "series = price_series.astype(np.float32)"
      ]
    },
    {
      "cell_type": "code",
      "execution_count": null,
      "id": "e269dea8-7921-40f1-80de-93dbc6fd8840",
      "metadata": {
        "id": "e269dea8-7921-40f1-80de-93dbc6fd8840",
        "outputId": "e01484d1-bd74-4639-87b1-80af6645badc"
      },
      "outputs": [
        {
          "name": "stdout",
          "output_type": "stream",
          "text": [
            "No seasonality detected\n"
          ]
        }
      ],
      "source": [
        "# Check seasonality\n",
        "for m in range(2, 20):\n",
        "    is_seasonal, period = check_seasonality(series, m=m, alpha=0.05)\n",
        "    if is_seasonal:\n",
        "        print(\"There is seasonality of order {}.\".format(period))\n",
        "        break\n",
        "print(\"No seasonality detected\")"
      ]
    },
    {
      "cell_type": "code",
      "execution_count": null,
      "id": "4fe97860-7189-4bf9-b9b5-607073502910",
      "metadata": {
        "id": "4fe97860-7189-4bf9-b9b5-607073502910"
      },
      "outputs": [],
      "source": [
        "# create year, month and integer index covariate series\n",
        "covariates = datetime_attribute_timeseries(series, attribute=\"year\", one_hot=False)\n",
        "covariates = covariates.stack(\n",
        "    datetime_attribute_timeseries(series, attribute=\"month\", one_hot=False)\n",
        ")\n",
        "covariates = covariates.stack(\n",
        "    TimeSeries.from_times_and_values(\n",
        "        times=series.time_index,\n",
        "        values=np.arange(len(series)),\n",
        "        columns=[\"linear_increase\"],\n",
        "    )\n",
        ")\n",
        "covariates = covariates.astype(np.float32)"
      ]
    },
    {
      "cell_type": "code",
      "execution_count": null,
      "id": "d9e7f35b-3dcc-4555-a5f0-f42458d72d1d",
      "metadata": {
        "scrolled": true,
        "id": "d9e7f35b-3dcc-4555-a5f0-f42458d72d1d",
        "outputId": "f771acc4-4e0c-4d5c-b001-9e8ca0149026",
        "colab": {
          "referenced_widgets": [
            "2945961a82b84b3c910cf9827fc74083",
            "f370116136a744a2869fbbdd5fade710",
            "4b3a8ec83ab04b21a11f430e701468c6",
            "b2175362a43048c1ad4ddb8a28a4e6d9",
            "3f3f9da942d442c1b29773477d89829b",
            "e0ca97c24c464da4b4db32d06040b7b5",
            "5d2fc48e31af49c8b52a908fd72d7dbe",
            "692c383f307b482d86db4ad5222a55bd",
            "3f8d9c50223b40279c0cf6c24366f3d6",
            "e72fcb5da1654007b66d652dcdcebc25",
            "f2b760ab43d645f6ba774b16ea137019",
            "e8ac170fb6a84345914af13308d5feec",
            "60b070a137f8456c8fcbcd93603985f6",
            "5909b3844ecf44998b5ea6b251a5dd4b",
            "875125329de94d40876a8790f8815f78",
            "db8fcf96a4b7498f8d2b1aa4db048da5",
            "cab1b6ee5eb843fab54f0d2b2c932d49",
            "a5d7146c28cc469eb170fcb416faa61a",
            "121dcfa680d348c8839fc86797da198c",
            "9fa57f9859a446bb8f8489bea009e433",
            "0c3388a8a43844639047eca92d906662",
            "d4b439de0fa646e8bc3d1ba2d0ab59f9",
            "e16e4eeed81e4583a76951a46dfd5dd9",
            "d6da669738d84fe89ba27e442c855651",
            "db03f87bb00d4afaa3e2b830d44a922a",
            "ec87ba699aa84f51be25c8c930c1b905",
            "570ff342acd842e2964daf14ae133ab4",
            "63aac1c50c804732a36e434c25ff3c3a",
            "432cad7f03c9427ab53204191b3a33da",
            "b76f762bd94b430b8c4476eeba81880e",
            "b29b739e9578422e83d6c84d0a8e29d2",
            "6e1e1d779e564b18a6c99285d58e990e",
            "13506f65b1774292bf7a5c37f9d4cc12",
            "9fe0289c5f8649c5b996adff826061a2",
            "3dcccd0e42384e45b7510662f8df5793",
            "3d70d24d1d9042c0ab2569dcc3c19b52",
            "09ab66cc35754856acad53a21b80b3f0",
            "04fe27cc55ad493f8a1a6d1d639fbbf1",
            "4e93ed99e8004d62900d9524272bf102",
            "dfc0e1d321444e8b8835a785f67ac895",
            "c5f686ba45db448fb3f21cabc1cc721f",
            "7b8e869252b14481aa704e0c2001597c",
            "5fed1d81133b4e81ae533dbd66ec406e",
            "41b5886e3742404bab0ffc8d4a57cd05",
            "197ead42839447a990ebb0d55882ff22",
            "01f46aa84bcf482e8293e64ca95a757b",
            "4b4ef11745d54d4f8a5417dee5fc22b5",
            "c7f77a2d04534bed88c895d50e6cde12",
            "963d1a4e62914745974cea7d32a2fa67",
            "b07da803ccf44bf3bbc8d3d4db9e6931",
            "2c59d8a4d17e4d9ca6154e33b7d16e7b",
            "afd96136ab604e06924ee4a49df9ab31",
            "5c94c8d354dd41a1a62252820beab83d",
            "ac6f2062a12a46d7b10f5e9715f59681",
            "a7e8dc27df13453e8aa3488e65e53902",
            "9f468f2f518a4a0c8e4fdb7f835f6953",
            "ef4c6da2ad0346f5b9bd88866bc42d3f",
            "0473f877109f4ff3863448ff5bdb371c",
            "e4d5607a217d44ba871cc2673cfad625",
            "aa198fb1d61d458abf7d7fb31729e675",
            "13981de0f5164870a7886da526bb650f",
            "56d8fb3e67764973a35fbebe06f709f7",
            "e4041948b84848f1980866e71282ec1e",
            "23a23cc526ff45fa9dbe4aab4fa9ec4d",
            "56f5e74fc3f24df8a0bd63e48415b278",
            "014aaddf790147e4842624f0695e1bac",
            "af37f50b9fb94b14876940312e07ebfe",
            "9678deb7c6084f7c987dd1a01f5e64bf",
            "708482b3c1074e2eb0183bce5e31b171",
            "03be8d6a4ff34e37bb1925daf27bfb70",
            "829b8c974fde41708981970332276133",
            "13c65a63ff8b4ce08a52499cf9dd11ec",
            "347281573514488baab4308279dfaeb2",
            "b0972fdf2a3e4e76a54f918d59864db8",
            "67e15aea3bdf4df2a3bbc71338232d6c",
            "c31d4371e59b44589cccbf54de468d17",
            "4f9f1f1119af40eb83504f7acdab990f",
            "4b9624b6e02b4ae680fa63f1d065e0cf",
            "694d68d8ac4a42668995db5268615f43",
            "62d643f29344413bad8f5df9cc8d722f",
            "ebec0ca69d0f4d90a399910bfab7fd8d",
            "5c4d26b97f6a49fa8f965443578d7a2b",
            "f4b55084a8564077bd525a4bfb49b162",
            "4f2b8cb35f6a4fdc840fc175f260df2c",
            "284e2912ed5d4e26a42e6205a0fc5d70",
            "e6da8177da8e4c2781866e23d9823756",
            "a55ccd21c5c74859a546979804def052",
            "8b8ade87765b4dfe83ec4b5a541c08ab",
            "a43089ef913d44f8bde9e396a18027d9",
            "4f6db037ae4141248fd0feb845e5eeca",
            "59f39b67bc9a4faf83ab9553fd345cd3",
            "36d5ffbe308b490dbeadb913eb502dad",
            "48aba2f9c1ef4f69bd6044bc4829ad83",
            "d3759dfbc3604655aa941cc40cbd0bc4",
            "32b43afcb2e14352b68f4f920b917310",
            "8ee3e2ceb696484fb7d24d76825afc4c",
            "b7b54f10920d4febab87db1247769665",
            "c7f6ff16a3614fbaae80afd1e7d2a052",
            "8b9aec6b34f64e4fbeed92cde07a4821",
            "0327229c6a8449068299e6c416b71eed",
            "885c4ad978574231a37f2e074c21de14",
            "6865c14572ce4252be2558c6571b87ef",
            "5ccfa4e0338c45fb9283f348939ddec3",
            "2aa1a7a01fe24d09a672c50ecf24e637",
            "94ff7c9980464d53a504e3492030e68f",
            "1e32bceae7074594bdf28fe3bae9d246",
            "b9f6da91a3174dee81f7d2ef241ca64c",
            "e5db3c99508349feb5818bb7e7a8bc42",
            "e4374023d55d42149ed899538b457917",
            "306b1eac79d9487c9efbce72fdd4974c",
            "4fcfeb5b147743669865a50799cc4a75",
            "bbeb080d3d6e4737804b8dace17d743c",
            "ef281ba7016c4a6aa8fb070786fefd89",
            "74fe67e1b1b0428dbae3f88116b4155c",
            "ad58ce286f264cf4adc6fa1fdb6fa5c8",
            "129651e43a2f4609a5a6cf122fee552d",
            "89fa6947ab944965b584ab29702a08fd",
            "d43d372deec249f69ddb2182b6a6ffc9",
            "47786d0fc88142918f57aa0d86776caa",
            "01b6060c7b6e406080cda9913909a682",
            "f6bedf6e1ee2457cab461752575e572c",
            "1ba9d6de2ddc4ea0948120c4a31c4340",
            "a4acbcff8e844307bb73e2dca448fb4d",
            "9ff2ce3fbeb144e7b35e0b263f09b19a",
            "7433832fad754aac9554f810308d2c45",
            "d11b057843284c2a911169baf1ca5a46",
            "a319d98775e648719215b0bfa175c0af",
            "6bd9b88828a24d3bb066d940a3453606",
            "c18afa143804466cad2b9a658839c582",
            "fbb8defcaf284c8e8167ceaf0667a329",
            "74ac2ecb034b4d2994c267cf5567d82f",
            "399e953a41814273b7e9d66cbf563277",
            "fa6620eed1cb4742a682eb60e3bae2d4",
            "f9c74942dba945aead992c63f9d85239",
            "38f34ebc3fd044a98b2f7fa944cf8aef",
            "002ecc05423c41a2a9e48b6837acd27a",
            "b061a6a7057043018ec47070b1535573",
            "d6ded5357c8b4a79a9cd4a955ec8e20f",
            "236df7d2d7774faba323e8da60ca816c",
            "53578a9647a9438489b03549ab3f8712",
            "4acccc1f80534f9c8afff1e1a371cde1",
            "ef23343e6ca04533a70291b1f6df9d9b",
            "574b0d47639246b1a37bafb3aeb6c52a",
            "3969100971984393b33f38f26a7e32af",
            "e12a1bdadc2548a7b2b78317135c86b4",
            "d51dfb2a148e45518d54d38a5afce00f",
            "a2fd0402d1c141acad583d3a6caf3833",
            "3f1a8611a3b14da0826b4f8d7397aa15",
            "a92ad83cd9304270b89c22576bb5c1d6",
            "c72f785151a24608a2db0e36bf18daab",
            "3b0b0c8fbb324415986cd14f9c587018",
            "5c1023b5e1714a5b9acd69afcd9ae156",
            "1083a5ac65bc4e3da986723f361c9ff3",
            "cb1b5f64c6644923a3df886940bea38a",
            "69a32ef334eb4c7ca2c6d638d3fc49f7",
            "ac599a6d618e4b0ab6c5d3575f04b712",
            "8ab55415490d404ab621cc2fc11892fd",
            "86e2a1952aee4a07bba8d9a863c033a1",
            "a2ea22edf17a4dac93f42efc33644a56",
            "23a5f03b23aa48ef952b36e0b5d74365",
            "77ba0a6818f745bcb7669bfff2546510",
            "7e254888cc0a48119a327486a64498c8",
            "9a35f851e5934ddda0b93c448e401594",
            "8b032cd605c54e7a871f2b1578298232",
            "7d9baf7246e446f3a1dec47d29203853",
            "1b45c034d4e141b78d0fdb046bb6252e",
            "8b8625f210fc47808e33d98759eac24f",
            "9f814ce06bf54c83b0ab6b86ace9ba7a",
            "1fc02ca14bdd467f97bae7b88c1d6154",
            "e1b9856176b948c0a1fe4d496e4d444a",
            "c534cd585389417a9f553351827d5e57",
            "dd15f50c610b40febd3f5acd8e68aaad",
            "110ebcbfa6b3494fb7a8ded6f5a4a5fb",
            "7b737f1ab54b48368d645fdeb81baf21",
            "0fc4b35cf7d44b968e91e2e46eb709c3",
            "939e625c54fe4c0894ff8a732279e6c9",
            "0a74d60822bc4cdd9346cc5e7f55b803",
            "60917bb180ca4d07b3775197d7a5447f",
            "114fea97fbe64357af12d57ef85c42ee",
            "0747af4cee45435880aefda8ca83cb8c",
            "2be376f7332b434a82799cd7026c9138",
            "5bf007277d8640d6a9c251cc6e4aca4a",
            "75d03575dd1342fdad32dab386569072",
            "0fe06810a7b342899fdc2098ec08726a",
            "3e96427ea9384df9a75bdb7b1fe9f96a",
            "1950361a21a3458d80cc3bc03ee44334",
            "95be107eb6fb46afb513025751c87916",
            "8c8e957c6aaa46cb919c73fe4471727a",
            "b0a488f218394b2eab8da2022d468fcc",
            "57079ebbc93e4180818de39945959553",
            "baf16fdd3b2e47a38df99ebceead485d",
            "918f3ff479d449d2a18b80e8ce3c4c5f",
            "f5aff65899594d838d4bcbc23bf3b4ee",
            "b6fcca4191304fc5ad757696feaaecb1",
            "9ac5b9ad18d74db483e6d2f5f1284858",
            "3cffb17c669b46aebf9fb28f4535a137",
            "056fd934dfa2498089f7e44e24bd4ad0",
            "e86377fcdca9482b924ef81bbd63e844",
            "b2f7267f29c744f092b4ae5343d7b535",
            "a8b74c5612eb4b4693fcae8208e9ed67",
            "65d45f6ea7f04406905f406b2cd5f608",
            "1a70e7fff9c5458e9a6d8f8f026b63e2",
            "bf23c7ad88404e6cb3f166181445bcba",
            "2a5b48a6e7024f4a91007ca1a62e2243",
            "9876fb24ad954820aecc84f67e02a94a",
            "9ba54b1492f64ba5aadfb5aab1b072db",
            "ca498731c1224a078c4dd0b6aac440ab",
            "c51cb56b281d4dfdb389b26a17423bd0",
            "c59e7ac80ebd47cf9baedc1da205cd27",
            "144624cb41ea449ea91c3d6d71e1546e",
            "8192a9cefb694660bd23fad202581afe",
            "8f5b31f9144844efa505979c2c443fb6",
            "6348bebb529947798f89b7ab58f6b4c0",
            "90bd76693fbb485d85da9ad0228d1d7e",
            "9a13cfe945164ccca3c68fe58a499f62",
            "d8a898bbf1784f0da7dd8276ed3b906c",
            "e1a6e3ceeb6c4aa3b06506cc5a5563de",
            "f768620ee0664998960579d42270c9f5",
            "1399a726c23145c089f295408e11bbcd",
            "ab14cf0c73aa48c9a7ae31f524777b27",
            "51899fe2de1e42febaf89530b0f9c874",
            "83770a23f9284496bdf02ad6bea3b69d",
            "0b5aae1bae5d46f298aec80e7b08cca7",
            "f0ee41faecd146b1b2ff136361c44b20",
            "a3fda3e2ae694dffa1bfc9340f1889e1",
            "6dd8bd8f9843456b989a48bed8d90db1",
            "812dd99c2f7943d79b28360214bbbace",
            "605f4a174bb24faebe7f223d9a4c7530",
            "6a792a4c50454f4b95686fadca0dd655",
            "5453ea628f854218bf96e6c459089016",
            "d6a7764659e34efc89c99212e5610811",
            "ea303ad741584536878ab1c74f3d0621",
            "668b54018ff44b9293e0b8ba00ccb474",
            "98881ff63f92401394792348624a3526",
            "1d4845f461c64101b012fb6cdfe5903b",
            "a880a93596534d3395bb5dc619321e2b",
            "7b09c311bae74506942f4dd3d60eff28",
            "88752d54e43347c99298bc5f76b70acb",
            "03d162490ae84304bff1d7fe7a4ba095",
            "9332677372584951aaf0a64e617aeda5"
          ]
        }
      },
      "outputs": [
        {
          "data": {
            "application/vnd.jupyter.widget-view+json": {
              "model_id": "2945961a82b84b3c910cf9827fc74083",
              "version_major": 2,
              "version_minor": 0
            },
            "text/plain": [
              "Training: |                                               | 0/? [00:00<?, ?it/s]"
            ]
          },
          "metadata": {},
          "output_type": "display_data"
        },
        {
          "data": {
            "application/vnd.jupyter.widget-view+json": {
              "model_id": "f370116136a744a2869fbbdd5fade710",
              "version_major": 2,
              "version_minor": 0
            },
            "text/plain": [
              "Predicting: |                                             | 0/? [00:00<?, ?it/s]"
            ]
          },
          "metadata": {},
          "output_type": "display_data"
        },
        {
          "name": "stdout",
          "output_type": "stream",
          "text": [
            "The 20-th predicted prices is: 29.482641220092773\n"
          ]
        },
        {
          "data": {
            "application/vnd.jupyter.widget-view+json": {
              "model_id": "4b3a8ec83ab04b21a11f430e701468c6",
              "version_major": 2,
              "version_minor": 0
            },
            "text/plain": [
              "Training: |                                               | 0/? [00:00<?, ?it/s]"
            ]
          },
          "metadata": {},
          "output_type": "display_data"
        },
        {
          "data": {
            "application/vnd.jupyter.widget-view+json": {
              "model_id": "b2175362a43048c1ad4ddb8a28a4e6d9",
              "version_major": 2,
              "version_minor": 0
            },
            "text/plain": [
              "Predicting: |                                             | 0/? [00:00<?, ?it/s]"
            ]
          },
          "metadata": {},
          "output_type": "display_data"
        },
        {
          "name": "stdout",
          "output_type": "stream",
          "text": [
            "The 21-th predicted prices is: 26.909805297851562\n"
          ]
        },
        {
          "data": {
            "application/vnd.jupyter.widget-view+json": {
              "model_id": "3f3f9da942d442c1b29773477d89829b",
              "version_major": 2,
              "version_minor": 0
            },
            "text/plain": [
              "Training: |                                               | 0/? [00:00<?, ?it/s]"
            ]
          },
          "metadata": {},
          "output_type": "display_data"
        },
        {
          "data": {
            "application/vnd.jupyter.widget-view+json": {
              "model_id": "e0ca97c24c464da4b4db32d06040b7b5",
              "version_major": 2,
              "version_minor": 0
            },
            "text/plain": [
              "Predicting: |                                             | 0/? [00:00<?, ?it/s]"
            ]
          },
          "metadata": {},
          "output_type": "display_data"
        },
        {
          "name": "stdout",
          "output_type": "stream",
          "text": [
            "The 22-th predicted prices is: 26.605485916137695\n"
          ]
        },
        {
          "data": {
            "application/vnd.jupyter.widget-view+json": {
              "model_id": "5d2fc48e31af49c8b52a908fd72d7dbe",
              "version_major": 2,
              "version_minor": 0
            },
            "text/plain": [
              "Training: |                                               | 0/? [00:00<?, ?it/s]"
            ]
          },
          "metadata": {},
          "output_type": "display_data"
        },
        {
          "data": {
            "application/vnd.jupyter.widget-view+json": {
              "model_id": "692c383f307b482d86db4ad5222a55bd",
              "version_major": 2,
              "version_minor": 0
            },
            "text/plain": [
              "Predicting: |                                             | 0/? [00:00<?, ?it/s]"
            ]
          },
          "metadata": {},
          "output_type": "display_data"
        },
        {
          "name": "stdout",
          "output_type": "stream",
          "text": [
            "The 23-th predicted prices is: 24.917688369750977\n"
          ]
        },
        {
          "data": {
            "application/vnd.jupyter.widget-view+json": {
              "model_id": "3f8d9c50223b40279c0cf6c24366f3d6",
              "version_major": 2,
              "version_minor": 0
            },
            "text/plain": [
              "Training: |                                               | 0/? [00:00<?, ?it/s]"
            ]
          },
          "metadata": {},
          "output_type": "display_data"
        },
        {
          "data": {
            "application/vnd.jupyter.widget-view+json": {
              "model_id": "e72fcb5da1654007b66d652dcdcebc25",
              "version_major": 2,
              "version_minor": 0
            },
            "text/plain": [
              "Predicting: |                                             | 0/? [00:00<?, ?it/s]"
            ]
          },
          "metadata": {},
          "output_type": "display_data"
        },
        {
          "name": "stdout",
          "output_type": "stream",
          "text": [
            "The 24-th predicted prices is: 11.103419303894043\n"
          ]
        },
        {
          "data": {
            "application/vnd.jupyter.widget-view+json": {
              "model_id": "f2b760ab43d645f6ba774b16ea137019",
              "version_major": 2,
              "version_minor": 0
            },
            "text/plain": [
              "Training: |                                               | 0/? [00:00<?, ?it/s]"
            ]
          },
          "metadata": {},
          "output_type": "display_data"
        },
        {
          "data": {
            "application/vnd.jupyter.widget-view+json": {
              "model_id": "e8ac170fb6a84345914af13308d5feec",
              "version_major": 2,
              "version_minor": 0
            },
            "text/plain": [
              "Predicting: |                                             | 0/? [00:00<?, ?it/s]"
            ]
          },
          "metadata": {},
          "output_type": "display_data"
        },
        {
          "name": "stdout",
          "output_type": "stream",
          "text": [
            "The 25-th predicted prices is: 22.672569274902344\n"
          ]
        },
        {
          "data": {
            "application/vnd.jupyter.widget-view+json": {
              "model_id": "60b070a137f8456c8fcbcd93603985f6",
              "version_major": 2,
              "version_minor": 0
            },
            "text/plain": [
              "Training: |                                               | 0/? [00:00<?, ?it/s]"
            ]
          },
          "metadata": {},
          "output_type": "display_data"
        },
        {
          "data": {
            "application/vnd.jupyter.widget-view+json": {
              "model_id": "5909b3844ecf44998b5ea6b251a5dd4b",
              "version_major": 2,
              "version_minor": 0
            },
            "text/plain": [
              "Predicting: |                                             | 0/? [00:00<?, ?it/s]"
            ]
          },
          "metadata": {},
          "output_type": "display_data"
        },
        {
          "name": "stdout",
          "output_type": "stream",
          "text": [
            "The 26-th predicted prices is: 22.37801170349121\n"
          ]
        },
        {
          "data": {
            "application/vnd.jupyter.widget-view+json": {
              "model_id": "875125329de94d40876a8790f8815f78",
              "version_major": 2,
              "version_minor": 0
            },
            "text/plain": [
              "Training: |                                               | 0/? [00:00<?, ?it/s]"
            ]
          },
          "metadata": {},
          "output_type": "display_data"
        },
        {
          "data": {
            "application/vnd.jupyter.widget-view+json": {
              "model_id": "db8fcf96a4b7498f8d2b1aa4db048da5",
              "version_major": 2,
              "version_minor": 0
            },
            "text/plain": [
              "Predicting: |                                             | 0/? [00:00<?, ?it/s]"
            ]
          },
          "metadata": {},
          "output_type": "display_data"
        },
        {
          "name": "stdout",
          "output_type": "stream",
          "text": [
            "The 27-th predicted prices is: 21.963054656982422\n"
          ]
        },
        {
          "data": {
            "application/vnd.jupyter.widget-view+json": {
              "model_id": "cab1b6ee5eb843fab54f0d2b2c932d49",
              "version_major": 2,
              "version_minor": 0
            },
            "text/plain": [
              "Training: |                                               | 0/? [00:00<?, ?it/s]"
            ]
          },
          "metadata": {},
          "output_type": "display_data"
        },
        {
          "data": {
            "application/vnd.jupyter.widget-view+json": {
              "model_id": "a5d7146c28cc469eb170fcb416faa61a",
              "version_major": 2,
              "version_minor": 0
            },
            "text/plain": [
              "Predicting: |                                             | 0/? [00:00<?, ?it/s]"
            ]
          },
          "metadata": {},
          "output_type": "display_data"
        },
        {
          "name": "stdout",
          "output_type": "stream",
          "text": [
            "The 28-th predicted prices is: 22.87504768371582\n"
          ]
        },
        {
          "data": {
            "application/vnd.jupyter.widget-view+json": {
              "model_id": "121dcfa680d348c8839fc86797da198c",
              "version_major": 2,
              "version_minor": 0
            },
            "text/plain": [
              "Training: |                                               | 0/? [00:00<?, ?it/s]"
            ]
          },
          "metadata": {},
          "output_type": "display_data"
        },
        {
          "data": {
            "application/vnd.jupyter.widget-view+json": {
              "model_id": "9fa57f9859a446bb8f8489bea009e433",
              "version_major": 2,
              "version_minor": 0
            },
            "text/plain": [
              "Predicting: |                                             | 0/? [00:00<?, ?it/s]"
            ]
          },
          "metadata": {},
          "output_type": "display_data"
        },
        {
          "name": "stdout",
          "output_type": "stream",
          "text": [
            "The 29-th predicted prices is: 22.945058822631836\n"
          ]
        },
        {
          "data": {
            "application/vnd.jupyter.widget-view+json": {
              "model_id": "0c3388a8a43844639047eca92d906662",
              "version_major": 2,
              "version_minor": 0
            },
            "text/plain": [
              "Training: |                                               | 0/? [00:00<?, ?it/s]"
            ]
          },
          "metadata": {},
          "output_type": "display_data"
        },
        {
          "data": {
            "application/vnd.jupyter.widget-view+json": {
              "model_id": "d4b439de0fa646e8bc3d1ba2d0ab59f9",
              "version_major": 2,
              "version_minor": 0
            },
            "text/plain": [
              "Predicting: |                                             | 0/? [00:00<?, ?it/s]"
            ]
          },
          "metadata": {},
          "output_type": "display_data"
        },
        {
          "name": "stdout",
          "output_type": "stream",
          "text": [
            "The 30-th predicted prices is: 23.280555725097656\n"
          ]
        },
        {
          "data": {
            "application/vnd.jupyter.widget-view+json": {
              "model_id": "e16e4eeed81e4583a76951a46dfd5dd9",
              "version_major": 2,
              "version_minor": 0
            },
            "text/plain": [
              "Training: |                                               | 0/? [00:00<?, ?it/s]"
            ]
          },
          "metadata": {},
          "output_type": "display_data"
        },
        {
          "data": {
            "application/vnd.jupyter.widget-view+json": {
              "model_id": "d6da669738d84fe89ba27e442c855651",
              "version_major": 2,
              "version_minor": 0
            },
            "text/plain": [
              "Predicting: |                                             | 0/? [00:00<?, ?it/s]"
            ]
          },
          "metadata": {},
          "output_type": "display_data"
        },
        {
          "name": "stdout",
          "output_type": "stream",
          "text": [
            "The 31-th predicted prices is: 32.42336654663086\n"
          ]
        },
        {
          "data": {
            "application/vnd.jupyter.widget-view+json": {
              "model_id": "db03f87bb00d4afaa3e2b830d44a922a",
              "version_major": 2,
              "version_minor": 0
            },
            "text/plain": [
              "Training: |                                               | 0/? [00:00<?, ?it/s]"
            ]
          },
          "metadata": {},
          "output_type": "display_data"
        },
        {
          "data": {
            "application/vnd.jupyter.widget-view+json": {
              "model_id": "ec87ba699aa84f51be25c8c930c1b905",
              "version_major": 2,
              "version_minor": 0
            },
            "text/plain": [
              "Predicting: |                                             | 0/? [00:00<?, ?it/s]"
            ]
          },
          "metadata": {},
          "output_type": "display_data"
        },
        {
          "name": "stdout",
          "output_type": "stream",
          "text": [
            "The 32-th predicted prices is: 48.52528762817383\n"
          ]
        },
        {
          "data": {
            "application/vnd.jupyter.widget-view+json": {
              "model_id": "570ff342acd842e2964daf14ae133ab4",
              "version_major": 2,
              "version_minor": 0
            },
            "text/plain": [
              "Training: |                                               | 0/? [00:00<?, ?it/s]"
            ]
          },
          "metadata": {},
          "output_type": "display_data"
        },
        {
          "data": {
            "application/vnd.jupyter.widget-view+json": {
              "model_id": "63aac1c50c804732a36e434c25ff3c3a",
              "version_major": 2,
              "version_minor": 0
            },
            "text/plain": [
              "Predicting: |                                             | 0/? [00:00<?, ?it/s]"
            ]
          },
          "metadata": {},
          "output_type": "display_data"
        },
        {
          "name": "stdout",
          "output_type": "stream",
          "text": [
            "The 33-th predicted prices is: 62.21837615966797\n"
          ]
        },
        {
          "data": {
            "application/vnd.jupyter.widget-view+json": {
              "model_id": "432cad7f03c9427ab53204191b3a33da",
              "version_major": 2,
              "version_minor": 0
            },
            "text/plain": [
              "Training: |                                               | 0/? [00:00<?, ?it/s]"
            ]
          },
          "metadata": {},
          "output_type": "display_data"
        },
        {
          "data": {
            "application/vnd.jupyter.widget-view+json": {
              "model_id": "b76f762bd94b430b8c4476eeba81880e",
              "version_major": 2,
              "version_minor": 0
            },
            "text/plain": [
              "Predicting: |                                             | 0/? [00:00<?, ?it/s]"
            ]
          },
          "metadata": {},
          "output_type": "display_data"
        },
        {
          "name": "stdout",
          "output_type": "stream",
          "text": [
            "The 34-th predicted prices is: 64.24036407470703\n"
          ]
        },
        {
          "data": {
            "application/vnd.jupyter.widget-view+json": {
              "model_id": "b29b739e9578422e83d6c84d0a8e29d2",
              "version_major": 2,
              "version_minor": 0
            },
            "text/plain": [
              "Training: |                                               | 0/? [00:00<?, ?it/s]"
            ]
          },
          "metadata": {},
          "output_type": "display_data"
        },
        {
          "data": {
            "application/vnd.jupyter.widget-view+json": {
              "model_id": "6e1e1d779e564b18a6c99285d58e990e",
              "version_major": 2,
              "version_minor": 0
            },
            "text/plain": [
              "Predicting: |                                             | 0/? [00:00<?, ?it/s]"
            ]
          },
          "metadata": {},
          "output_type": "display_data"
        },
        {
          "name": "stdout",
          "output_type": "stream",
          "text": [
            "The 35-th predicted prices is: 84.41900634765625\n"
          ]
        },
        {
          "data": {
            "application/vnd.jupyter.widget-view+json": {
              "model_id": "13506f65b1774292bf7a5c37f9d4cc12",
              "version_major": 2,
              "version_minor": 0
            },
            "text/plain": [
              "Training: |                                               | 0/? [00:00<?, ?it/s]"
            ]
          },
          "metadata": {},
          "output_type": "display_data"
        },
        {
          "data": {
            "application/vnd.jupyter.widget-view+json": {
              "model_id": "9fe0289c5f8649c5b996adff826061a2",
              "version_major": 2,
              "version_minor": 0
            },
            "text/plain": [
              "Predicting: |                                             | 0/? [00:00<?, ?it/s]"
            ]
          },
          "metadata": {},
          "output_type": "display_data"
        },
        {
          "name": "stdout",
          "output_type": "stream",
          "text": [
            "The 36-th predicted prices is: 72.12976837158203\n"
          ]
        },
        {
          "data": {
            "application/vnd.jupyter.widget-view+json": {
              "model_id": "3dcccd0e42384e45b7510662f8df5793",
              "version_major": 2,
              "version_minor": 0
            },
            "text/plain": [
              "Training: |                                               | 0/? [00:00<?, ?it/s]"
            ]
          },
          "metadata": {},
          "output_type": "display_data"
        },
        {
          "data": {
            "application/vnd.jupyter.widget-view+json": {
              "model_id": "3d70d24d1d9042c0ab2569dcc3c19b52",
              "version_major": 2,
              "version_minor": 0
            },
            "text/plain": [
              "Predicting: |                                             | 0/? [00:00<?, ?it/s]"
            ]
          },
          "metadata": {},
          "output_type": "display_data"
        },
        {
          "name": "stdout",
          "output_type": "stream",
          "text": [
            "The 37-th predicted prices is: 94.62723541259766\n"
          ]
        },
        {
          "data": {
            "application/vnd.jupyter.widget-view+json": {
              "model_id": "09ab66cc35754856acad53a21b80b3f0",
              "version_major": 2,
              "version_minor": 0
            },
            "text/plain": [
              "Training: |                                               | 0/? [00:00<?, ?it/s]"
            ]
          },
          "metadata": {},
          "output_type": "display_data"
        },
        {
          "data": {
            "application/vnd.jupyter.widget-view+json": {
              "model_id": "04fe27cc55ad493f8a1a6d1d639fbbf1",
              "version_major": 2,
              "version_minor": 0
            },
            "text/plain": [
              "Predicting: |                                             | 0/? [00:00<?, ?it/s]"
            ]
          },
          "metadata": {},
          "output_type": "display_data"
        },
        {
          "name": "stdout",
          "output_type": "stream",
          "text": [
            "The 38-th predicted prices is: 117.76319885253906\n"
          ]
        },
        {
          "data": {
            "application/vnd.jupyter.widget-view+json": {
              "model_id": "4e93ed99e8004d62900d9524272bf102",
              "version_major": 2,
              "version_minor": 0
            },
            "text/plain": [
              "Training: |                                               | 0/? [00:00<?, ?it/s]"
            ]
          },
          "metadata": {},
          "output_type": "display_data"
        },
        {
          "data": {
            "application/vnd.jupyter.widget-view+json": {
              "model_id": "dfc0e1d321444e8b8835a785f67ac895",
              "version_major": 2,
              "version_minor": 0
            },
            "text/plain": [
              "Predicting: |                                             | 0/? [00:00<?, ?it/s]"
            ]
          },
          "metadata": {},
          "output_type": "display_data"
        },
        {
          "name": "stdout",
          "output_type": "stream",
          "text": [
            "The 39-th predicted prices is: 125.55890655517578\n"
          ]
        },
        {
          "data": {
            "application/vnd.jupyter.widget-view+json": {
              "model_id": "c5f686ba45db448fb3f21cabc1cc721f",
              "version_major": 2,
              "version_minor": 0
            },
            "text/plain": [
              "Training: |                                               | 0/? [00:00<?, ?it/s]"
            ]
          },
          "metadata": {},
          "output_type": "display_data"
        },
        {
          "data": {
            "application/vnd.jupyter.widget-view+json": {
              "model_id": "7b8e869252b14481aa704e0c2001597c",
              "version_major": 2,
              "version_minor": 0
            },
            "text/plain": [
              "Predicting: |                                             | 0/? [00:00<?, ?it/s]"
            ]
          },
          "metadata": {},
          "output_type": "display_data"
        },
        {
          "name": "stdout",
          "output_type": "stream",
          "text": [
            "The 40-th predicted prices is: 126.186279296875\n"
          ]
        },
        {
          "data": {
            "application/vnd.jupyter.widget-view+json": {
              "model_id": "5fed1d81133b4e81ae533dbd66ec406e",
              "version_major": 2,
              "version_minor": 0
            },
            "text/plain": [
              "Training: |                                               | 0/? [00:00<?, ?it/s]"
            ]
          },
          "metadata": {},
          "output_type": "display_data"
        },
        {
          "data": {
            "application/vnd.jupyter.widget-view+json": {
              "model_id": "41b5886e3742404bab0ffc8d4a57cd05",
              "version_major": 2,
              "version_minor": 0
            },
            "text/plain": [
              "Predicting: |                                             | 0/? [00:00<?, ?it/s]"
            ]
          },
          "metadata": {},
          "output_type": "display_data"
        },
        {
          "name": "stdout",
          "output_type": "stream",
          "text": [
            "The 41-th predicted prices is: 127.94771575927734\n"
          ]
        },
        {
          "data": {
            "application/vnd.jupyter.widget-view+json": {
              "model_id": "197ead42839447a990ebb0d55882ff22",
              "version_major": 2,
              "version_minor": 0
            },
            "text/plain": [
              "Training: |                                               | 0/? [00:00<?, ?it/s]"
            ]
          },
          "metadata": {},
          "output_type": "display_data"
        },
        {
          "data": {
            "application/vnd.jupyter.widget-view+json": {
              "model_id": "01f46aa84bcf482e8293e64ca95a757b",
              "version_major": 2,
              "version_minor": 0
            },
            "text/plain": [
              "Predicting: |                                             | 0/? [00:00<?, ?it/s]"
            ]
          },
          "metadata": {},
          "output_type": "display_data"
        },
        {
          "name": "stdout",
          "output_type": "stream",
          "text": [
            "The 42-th predicted prices is: 126.95597839355469\n"
          ]
        },
        {
          "data": {
            "application/vnd.jupyter.widget-view+json": {
              "model_id": "4b4ef11745d54d4f8a5417dee5fc22b5",
              "version_major": 2,
              "version_minor": 0
            },
            "text/plain": [
              "Training: |                                               | 0/? [00:00<?, ?it/s]"
            ]
          },
          "metadata": {},
          "output_type": "display_data"
        },
        {
          "data": {
            "application/vnd.jupyter.widget-view+json": {
              "model_id": "c7f77a2d04534bed88c895d50e6cde12",
              "version_major": 2,
              "version_minor": 0
            },
            "text/plain": [
              "Predicting: |                                             | 0/? [00:00<?, ?it/s]"
            ]
          },
          "metadata": {},
          "output_type": "display_data"
        },
        {
          "name": "stdout",
          "output_type": "stream",
          "text": [
            "The 43-th predicted prices is: 105.58139038085938\n"
          ]
        },
        {
          "data": {
            "application/vnd.jupyter.widget-view+json": {
              "model_id": "963d1a4e62914745974cea7d32a2fa67",
              "version_major": 2,
              "version_minor": 0
            },
            "text/plain": [
              "Training: |                                               | 0/? [00:00<?, ?it/s]"
            ]
          },
          "metadata": {},
          "output_type": "display_data"
        },
        {
          "data": {
            "application/vnd.jupyter.widget-view+json": {
              "model_id": "b07da803ccf44bf3bbc8d3d4db9e6931",
              "version_major": 2,
              "version_minor": 0
            },
            "text/plain": [
              "Predicting: |                                             | 0/? [00:00<?, ?it/s]"
            ]
          },
          "metadata": {},
          "output_type": "display_data"
        },
        {
          "name": "stdout",
          "output_type": "stream",
          "text": [
            "The 44-th predicted prices is: 104.56803131103516\n"
          ]
        },
        {
          "data": {
            "application/vnd.jupyter.widget-view+json": {
              "model_id": "2c59d8a4d17e4d9ca6154e33b7d16e7b",
              "version_major": 2,
              "version_minor": 0
            },
            "text/plain": [
              "Training: |                                               | 0/? [00:00<?, ?it/s]"
            ]
          },
          "metadata": {},
          "output_type": "display_data"
        },
        {
          "data": {
            "application/vnd.jupyter.widget-view+json": {
              "model_id": "afd96136ab604e06924ee4a49df9ab31",
              "version_major": 2,
              "version_minor": 0
            },
            "text/plain": [
              "Predicting: |                                             | 0/? [00:00<?, ?it/s]"
            ]
          },
          "metadata": {},
          "output_type": "display_data"
        },
        {
          "name": "stdout",
          "output_type": "stream",
          "text": [
            "The 45-th predicted prices is: 101.49234771728516\n"
          ]
        },
        {
          "data": {
            "application/vnd.jupyter.widget-view+json": {
              "model_id": "5c94c8d354dd41a1a62252820beab83d",
              "version_major": 2,
              "version_minor": 0
            },
            "text/plain": [
              "Training: |                                               | 0/? [00:00<?, ?it/s]"
            ]
          },
          "metadata": {},
          "output_type": "display_data"
        },
        {
          "data": {
            "application/vnd.jupyter.widget-view+json": {
              "model_id": "ac6f2062a12a46d7b10f5e9715f59681",
              "version_major": 2,
              "version_minor": 0
            },
            "text/plain": [
              "Predicting: |                                             | 0/? [00:00<?, ?it/s]"
            ]
          },
          "metadata": {},
          "output_type": "display_data"
        },
        {
          "name": "stdout",
          "output_type": "stream",
          "text": [
            "The 46-th predicted prices is: 83.5149154663086\n"
          ]
        },
        {
          "data": {
            "application/vnd.jupyter.widget-view+json": {
              "model_id": "a7e8dc27df13453e8aa3488e65e53902",
              "version_major": 2,
              "version_minor": 0
            },
            "text/plain": [
              "Training: |                                               | 0/? [00:00<?, ?it/s]"
            ]
          },
          "metadata": {},
          "output_type": "display_data"
        },
        {
          "data": {
            "application/vnd.jupyter.widget-view+json": {
              "model_id": "9f468f2f518a4a0c8e4fdb7f835f6953",
              "version_major": 2,
              "version_minor": 0
            },
            "text/plain": [
              "Predicting: |                                             | 0/? [00:00<?, ?it/s]"
            ]
          },
          "metadata": {},
          "output_type": "display_data"
        },
        {
          "name": "stdout",
          "output_type": "stream",
          "text": [
            "The 47-th predicted prices is: 97.40741729736328\n"
          ]
        },
        {
          "data": {
            "application/vnd.jupyter.widget-view+json": {
              "model_id": "ef4c6da2ad0346f5b9bd88866bc42d3f",
              "version_major": 2,
              "version_minor": 0
            },
            "text/plain": [
              "Training: |                                               | 0/? [00:00<?, ?it/s]"
            ]
          },
          "metadata": {},
          "output_type": "display_data"
        },
        {
          "data": {
            "application/vnd.jupyter.widget-view+json": {
              "model_id": "0473f877109f4ff3863448ff5bdb371c",
              "version_major": 2,
              "version_minor": 0
            },
            "text/plain": [
              "Predicting: |                                             | 0/? [00:00<?, ?it/s]"
            ]
          },
          "metadata": {},
          "output_type": "display_data"
        },
        {
          "name": "stdout",
          "output_type": "stream",
          "text": [
            "The 48-th predicted prices is: 100.77037048339844\n"
          ]
        },
        {
          "data": {
            "application/vnd.jupyter.widget-view+json": {
              "model_id": "e4d5607a217d44ba871cc2673cfad625",
              "version_major": 2,
              "version_minor": 0
            },
            "text/plain": [
              "Training: |                                               | 0/? [00:00<?, ?it/s]"
            ]
          },
          "metadata": {},
          "output_type": "display_data"
        },
        {
          "data": {
            "application/vnd.jupyter.widget-view+json": {
              "model_id": "aa198fb1d61d458abf7d7fb31729e675",
              "version_major": 2,
              "version_minor": 0
            },
            "text/plain": [
              "Predicting: |                                             | 0/? [00:00<?, ?it/s]"
            ]
          },
          "metadata": {},
          "output_type": "display_data"
        },
        {
          "name": "stdout",
          "output_type": "stream",
          "text": [
            "The 49-th predicted prices is: 97.48575592041016\n"
          ]
        },
        {
          "data": {
            "application/vnd.jupyter.widget-view+json": {
              "model_id": "13981de0f5164870a7886da526bb650f",
              "version_major": 2,
              "version_minor": 0
            },
            "text/plain": [
              "Training: |                                               | 0/? [00:00<?, ?it/s]"
            ]
          },
          "metadata": {},
          "output_type": "display_data"
        },
        {
          "data": {
            "application/vnd.jupyter.widget-view+json": {
              "model_id": "56d8fb3e67764973a35fbebe06f709f7",
              "version_major": 2,
              "version_minor": 0
            },
            "text/plain": [
              "Predicting: |                                             | 0/? [00:00<?, ?it/s]"
            ]
          },
          "metadata": {},
          "output_type": "display_data"
        },
        {
          "name": "stdout",
          "output_type": "stream",
          "text": [
            "The 50-th predicted prices is: 94.20563507080078\n"
          ]
        },
        {
          "data": {
            "application/vnd.jupyter.widget-view+json": {
              "model_id": "e4041948b84848f1980866e71282ec1e",
              "version_major": 2,
              "version_minor": 0
            },
            "text/plain": [
              "Training: |                                               | 0/? [00:00<?, ?it/s]"
            ]
          },
          "metadata": {},
          "output_type": "display_data"
        },
        {
          "data": {
            "application/vnd.jupyter.widget-view+json": {
              "model_id": "23a23cc526ff45fa9dbe4aab4fa9ec4d",
              "version_major": 2,
              "version_minor": 0
            },
            "text/plain": [
              "Predicting: |                                             | 0/? [00:00<?, ?it/s]"
            ]
          },
          "metadata": {},
          "output_type": "display_data"
        },
        {
          "name": "stdout",
          "output_type": "stream",
          "text": [
            "The 51-th predicted prices is: 99.48291778564453\n"
          ]
        },
        {
          "data": {
            "application/vnd.jupyter.widget-view+json": {
              "model_id": "56f5e74fc3f24df8a0bd63e48415b278",
              "version_major": 2,
              "version_minor": 0
            },
            "text/plain": [
              "Training: |                                               | 0/? [00:00<?, ?it/s]"
            ]
          },
          "metadata": {},
          "output_type": "display_data"
        },
        {
          "data": {
            "application/vnd.jupyter.widget-view+json": {
              "model_id": "014aaddf790147e4842624f0695e1bac",
              "version_major": 2,
              "version_minor": 0
            },
            "text/plain": [
              "Predicting: |                                             | 0/? [00:00<?, ?it/s]"
            ]
          },
          "metadata": {},
          "output_type": "display_data"
        },
        {
          "name": "stdout",
          "output_type": "stream",
          "text": [
            "The 52-th predicted prices is: 90.016845703125\n"
          ]
        },
        {
          "data": {
            "application/vnd.jupyter.widget-view+json": {
              "model_id": "af37f50b9fb94b14876940312e07ebfe",
              "version_major": 2,
              "version_minor": 0
            },
            "text/plain": [
              "Training: |                                               | 0/? [00:00<?, ?it/s]"
            ]
          },
          "metadata": {},
          "output_type": "display_data"
        },
        {
          "data": {
            "application/vnd.jupyter.widget-view+json": {
              "model_id": "9678deb7c6084f7c987dd1a01f5e64bf",
              "version_major": 2,
              "version_minor": 0
            },
            "text/plain": [
              "Predicting: |                                             | 0/? [00:00<?, ?it/s]"
            ]
          },
          "metadata": {},
          "output_type": "display_data"
        },
        {
          "name": "stdout",
          "output_type": "stream",
          "text": [
            "The 53-th predicted prices is: 85.05083465576172\n"
          ]
        },
        {
          "data": {
            "application/vnd.jupyter.widget-view+json": {
              "model_id": "708482b3c1074e2eb0183bce5e31b171",
              "version_major": 2,
              "version_minor": 0
            },
            "text/plain": [
              "Training: |                                               | 0/? [00:00<?, ?it/s]"
            ]
          },
          "metadata": {},
          "output_type": "display_data"
        },
        {
          "data": {
            "application/vnd.jupyter.widget-view+json": {
              "model_id": "03be8d6a4ff34e37bb1925daf27bfb70",
              "version_major": 2,
              "version_minor": 0
            },
            "text/plain": [
              "Predicting: |                                             | 0/? [00:00<?, ?it/s]"
            ]
          },
          "metadata": {},
          "output_type": "display_data"
        },
        {
          "name": "stdout",
          "output_type": "stream",
          "text": [
            "The 54-th predicted prices is: 88.55274200439453\n"
          ]
        },
        {
          "data": {
            "application/vnd.jupyter.widget-view+json": {
              "model_id": "829b8c974fde41708981970332276133",
              "version_major": 2,
              "version_minor": 0
            },
            "text/plain": [
              "Training: |                                               | 0/? [00:00<?, ?it/s]"
            ]
          },
          "metadata": {},
          "output_type": "display_data"
        },
        {
          "data": {
            "application/vnd.jupyter.widget-view+json": {
              "model_id": "13c65a63ff8b4ce08a52499cf9dd11ec",
              "version_major": 2,
              "version_minor": 0
            },
            "text/plain": [
              "Predicting: |                                             | 0/? [00:00<?, ?it/s]"
            ]
          },
          "metadata": {},
          "output_type": "display_data"
        },
        {
          "name": "stdout",
          "output_type": "stream",
          "text": [
            "The 55-th predicted prices is: 80.47801208496094\n"
          ]
        },
        {
          "data": {
            "application/vnd.jupyter.widget-view+json": {
              "model_id": "347281573514488baab4308279dfaeb2",
              "version_major": 2,
              "version_minor": 0
            },
            "text/plain": [
              "Training: |                                               | 0/? [00:00<?, ?it/s]"
            ]
          },
          "metadata": {},
          "output_type": "display_data"
        },
        {
          "data": {
            "application/vnd.jupyter.widget-view+json": {
              "model_id": "b0972fdf2a3e4e76a54f918d59864db8",
              "version_major": 2,
              "version_minor": 0
            },
            "text/plain": [
              "Predicting: |                                             | 0/? [00:00<?, ?it/s]"
            ]
          },
          "metadata": {},
          "output_type": "display_data"
        },
        {
          "name": "stdout",
          "output_type": "stream",
          "text": [
            "The 56-th predicted prices is: 83.92649841308594\n"
          ]
        },
        {
          "data": {
            "application/vnd.jupyter.widget-view+json": {
              "model_id": "67e15aea3bdf4df2a3bbc71338232d6c",
              "version_major": 2,
              "version_minor": 0
            },
            "text/plain": [
              "Training: |                                               | 0/? [00:00<?, ?it/s]"
            ]
          },
          "metadata": {},
          "output_type": "display_data"
        },
        {
          "data": {
            "application/vnd.jupyter.widget-view+json": {
              "model_id": "c31d4371e59b44589cccbf54de468d17",
              "version_major": 2,
              "version_minor": 0
            },
            "text/plain": [
              "Predicting: |                                             | 0/? [00:00<?, ?it/s]"
            ]
          },
          "metadata": {},
          "output_type": "display_data"
        },
        {
          "name": "stdout",
          "output_type": "stream",
          "text": [
            "The 57-th predicted prices is: 82.39582824707031\n"
          ]
        },
        {
          "data": {
            "application/vnd.jupyter.widget-view+json": {
              "model_id": "4f9f1f1119af40eb83504f7acdab990f",
              "version_major": 2,
              "version_minor": 0
            },
            "text/plain": [
              "Training: |                                               | 0/? [00:00<?, ?it/s]"
            ]
          },
          "metadata": {},
          "output_type": "display_data"
        },
        {
          "data": {
            "application/vnd.jupyter.widget-view+json": {
              "model_id": "4b9624b6e02b4ae680fa63f1d065e0cf",
              "version_major": 2,
              "version_minor": 0
            },
            "text/plain": [
              "Predicting: |                                             | 0/? [00:00<?, ?it/s]"
            ]
          },
          "metadata": {},
          "output_type": "display_data"
        },
        {
          "name": "stdout",
          "output_type": "stream",
          "text": [
            "The 58-th predicted prices is: 84.1639633178711\n"
          ]
        },
        {
          "data": {
            "application/vnd.jupyter.widget-view+json": {
              "model_id": "694d68d8ac4a42668995db5268615f43",
              "version_major": 2,
              "version_minor": 0
            },
            "text/plain": [
              "Training: |                                               | 0/? [00:00<?, ?it/s]"
            ]
          },
          "metadata": {},
          "output_type": "display_data"
        },
        {
          "data": {
            "application/vnd.jupyter.widget-view+json": {
              "model_id": "62d643f29344413bad8f5df9cc8d722f",
              "version_major": 2,
              "version_minor": 0
            },
            "text/plain": [
              "Predicting: |                                             | 0/? [00:00<?, ?it/s]"
            ]
          },
          "metadata": {},
          "output_type": "display_data"
        },
        {
          "name": "stdout",
          "output_type": "stream",
          "text": [
            "The 59-th predicted prices is: 86.39725494384766\n"
          ]
        },
        {
          "data": {
            "application/vnd.jupyter.widget-view+json": {
              "model_id": "ebec0ca69d0f4d90a399910bfab7fd8d",
              "version_major": 2,
              "version_minor": 0
            },
            "text/plain": [
              "Training: |                                               | 0/? [00:00<?, ?it/s]"
            ]
          },
          "metadata": {},
          "output_type": "display_data"
        },
        {
          "data": {
            "application/vnd.jupyter.widget-view+json": {
              "model_id": "5c4d26b97f6a49fa8f965443578d7a2b",
              "version_major": 2,
              "version_minor": 0
            },
            "text/plain": [
              "Predicting: |                                             | 0/? [00:00<?, ?it/s]"
            ]
          },
          "metadata": {},
          "output_type": "display_data"
        },
        {
          "name": "stdout",
          "output_type": "stream",
          "text": [
            "The 60-th predicted prices is: 87.42137145996094\n"
          ]
        },
        {
          "data": {
            "application/vnd.jupyter.widget-view+json": {
              "model_id": "f4b55084a8564077bd525a4bfb49b162",
              "version_major": 2,
              "version_minor": 0
            },
            "text/plain": [
              "Training: |                                               | 0/? [00:00<?, ?it/s]"
            ]
          },
          "metadata": {},
          "output_type": "display_data"
        },
        {
          "data": {
            "application/vnd.jupyter.widget-view+json": {
              "model_id": "4f2b8cb35f6a4fdc840fc175f260df2c",
              "version_major": 2,
              "version_minor": 0
            },
            "text/plain": [
              "Predicting: |                                             | 0/? [00:00<?, ?it/s]"
            ]
          },
          "metadata": {},
          "output_type": "display_data"
        },
        {
          "name": "stdout",
          "output_type": "stream",
          "text": [
            "The 61-th predicted prices is: 97.49278259277344\n"
          ]
        },
        {
          "data": {
            "application/vnd.jupyter.widget-view+json": {
              "model_id": "284e2912ed5d4e26a42e6205a0fc5d70",
              "version_major": 2,
              "version_minor": 0
            },
            "text/plain": [
              "Training: |                                               | 0/? [00:00<?, ?it/s]"
            ]
          },
          "metadata": {},
          "output_type": "display_data"
        },
        {
          "data": {
            "application/vnd.jupyter.widget-view+json": {
              "model_id": "e6da8177da8e4c2781866e23d9823756",
              "version_major": 2,
              "version_minor": 0
            },
            "text/plain": [
              "Predicting: |                                             | 0/? [00:00<?, ?it/s]"
            ]
          },
          "metadata": {},
          "output_type": "display_data"
        },
        {
          "name": "stdout",
          "output_type": "stream",
          "text": [
            "The 62-th predicted prices is: 91.05940246582031\n"
          ]
        },
        {
          "data": {
            "application/vnd.jupyter.widget-view+json": {
              "model_id": "a55ccd21c5c74859a546979804def052",
              "version_major": 2,
              "version_minor": 0
            },
            "text/plain": [
              "Training: |                                               | 0/? [00:00<?, ?it/s]"
            ]
          },
          "metadata": {},
          "output_type": "display_data"
        },
        {
          "data": {
            "application/vnd.jupyter.widget-view+json": {
              "model_id": "8b8ade87765b4dfe83ec4b5a541c08ab",
              "version_major": 2,
              "version_minor": 0
            },
            "text/plain": [
              "Predicting: |                                             | 0/? [00:00<?, ?it/s]"
            ]
          },
          "metadata": {},
          "output_type": "display_data"
        },
        {
          "name": "stdout",
          "output_type": "stream",
          "text": [
            "The 63-th predicted prices is: 99.77496337890625\n"
          ]
        },
        {
          "data": {
            "application/vnd.jupyter.widget-view+json": {
              "model_id": "a43089ef913d44f8bde9e396a18027d9",
              "version_major": 2,
              "version_minor": 0
            },
            "text/plain": [
              "Training: |                                               | 0/? [00:00<?, ?it/s]"
            ]
          },
          "metadata": {},
          "output_type": "display_data"
        },
        {
          "data": {
            "application/vnd.jupyter.widget-view+json": {
              "model_id": "4f6db037ae4141248fd0feb845e5eeca",
              "version_major": 2,
              "version_minor": 0
            },
            "text/plain": [
              "Predicting: |                                             | 0/? [00:00<?, ?it/s]"
            ]
          },
          "metadata": {},
          "output_type": "display_data"
        },
        {
          "name": "stdout",
          "output_type": "stream",
          "text": [
            "The 64-th predicted prices is: 106.75952911376953\n"
          ]
        },
        {
          "data": {
            "application/vnd.jupyter.widget-view+json": {
              "model_id": "59f39b67bc9a4faf83ab9553fd345cd3",
              "version_major": 2,
              "version_minor": 0
            },
            "text/plain": [
              "Training: |                                               | 0/? [00:00<?, ?it/s]"
            ]
          },
          "metadata": {},
          "output_type": "display_data"
        },
        {
          "data": {
            "application/vnd.jupyter.widget-view+json": {
              "model_id": "36d5ffbe308b490dbeadb913eb502dad",
              "version_major": 2,
              "version_minor": 0
            },
            "text/plain": [
              "Predicting: |                                             | 0/? [00:00<?, ?it/s]"
            ]
          },
          "metadata": {},
          "output_type": "display_data"
        },
        {
          "name": "stdout",
          "output_type": "stream",
          "text": [
            "The 65-th predicted prices is: 137.9954071044922\n"
          ]
        },
        {
          "data": {
            "application/vnd.jupyter.widget-view+json": {
              "model_id": "48aba2f9c1ef4f69bd6044bc4829ad83",
              "version_major": 2,
              "version_minor": 0
            },
            "text/plain": [
              "Training: |                                               | 0/? [00:00<?, ?it/s]"
            ]
          },
          "metadata": {},
          "output_type": "display_data"
        },
        {
          "data": {
            "application/vnd.jupyter.widget-view+json": {
              "model_id": "d3759dfbc3604655aa941cc40cbd0bc4",
              "version_major": 2,
              "version_minor": 0
            },
            "text/plain": [
              "Predicting: |                                             | 0/? [00:00<?, ?it/s]"
            ]
          },
          "metadata": {},
          "output_type": "display_data"
        },
        {
          "name": "stdout",
          "output_type": "stream",
          "text": [
            "The 66-th predicted prices is: 144.76068115234375\n"
          ]
        },
        {
          "data": {
            "application/vnd.jupyter.widget-view+json": {
              "model_id": "32b43afcb2e14352b68f4f920b917310",
              "version_major": 2,
              "version_minor": 0
            },
            "text/plain": [
              "Training: |                                               | 0/? [00:00<?, ?it/s]"
            ]
          },
          "metadata": {},
          "output_type": "display_data"
        },
        {
          "data": {
            "application/vnd.jupyter.widget-view+json": {
              "model_id": "8ee3e2ceb696484fb7d24d76825afc4c",
              "version_major": 2,
              "version_minor": 0
            },
            "text/plain": [
              "Predicting: |                                             | 0/? [00:00<?, ?it/s]"
            ]
          },
          "metadata": {},
          "output_type": "display_data"
        },
        {
          "name": "stdout",
          "output_type": "stream",
          "text": [
            "The 67-th predicted prices is: 156.9884490966797\n"
          ]
        },
        {
          "data": {
            "application/vnd.jupyter.widget-view+json": {
              "model_id": "b7b54f10920d4febab87db1247769665",
              "version_major": 2,
              "version_minor": 0
            },
            "text/plain": [
              "Training: |                                               | 0/? [00:00<?, ?it/s]"
            ]
          },
          "metadata": {},
          "output_type": "display_data"
        },
        {
          "data": {
            "application/vnd.jupyter.widget-view+json": {
              "model_id": "c7f6ff16a3614fbaae80afd1e7d2a052",
              "version_major": 2,
              "version_minor": 0
            },
            "text/plain": [
              "Predicting: |                                             | 0/? [00:00<?, ?it/s]"
            ]
          },
          "metadata": {},
          "output_type": "display_data"
        },
        {
          "name": "stdout",
          "output_type": "stream",
          "text": [
            "The 68-th predicted prices is: 171.37550354003906\n"
          ]
        },
        {
          "data": {
            "application/vnd.jupyter.widget-view+json": {
              "model_id": "8b9aec6b34f64e4fbeed92cde07a4821",
              "version_major": 2,
              "version_minor": 0
            },
            "text/plain": [
              "Training: |                                               | 0/? [00:00<?, ?it/s]"
            ]
          },
          "metadata": {},
          "output_type": "display_data"
        },
        {
          "data": {
            "application/vnd.jupyter.widget-view+json": {
              "model_id": "0327229c6a8449068299e6c416b71eed",
              "version_major": 2,
              "version_minor": 0
            },
            "text/plain": [
              "Predicting: |                                             | 0/? [00:00<?, ?it/s]"
            ]
          },
          "metadata": {},
          "output_type": "display_data"
        },
        {
          "name": "stdout",
          "output_type": "stream",
          "text": [
            "The 69-th predicted prices is: 172.91957092285156\n"
          ]
        },
        {
          "data": {
            "application/vnd.jupyter.widget-view+json": {
              "model_id": "885c4ad978574231a37f2e074c21de14",
              "version_major": 2,
              "version_minor": 0
            },
            "text/plain": [
              "Training: |                                               | 0/? [00:00<?, ?it/s]"
            ]
          },
          "metadata": {},
          "output_type": "display_data"
        },
        {
          "data": {
            "application/vnd.jupyter.widget-view+json": {
              "model_id": "6865c14572ce4252be2558c6571b87ef",
              "version_major": 2,
              "version_minor": 0
            },
            "text/plain": [
              "Predicting: |                                             | 0/? [00:00<?, ?it/s]"
            ]
          },
          "metadata": {},
          "output_type": "display_data"
        },
        {
          "name": "stdout",
          "output_type": "stream",
          "text": [
            "The 70-th predicted prices is: 183.68898010253906\n"
          ]
        },
        {
          "data": {
            "application/vnd.jupyter.widget-view+json": {
              "model_id": "5ccfa4e0338c45fb9283f348939ddec3",
              "version_major": 2,
              "version_minor": 0
            },
            "text/plain": [
              "Training: |                                               | 0/? [00:00<?, ?it/s]"
            ]
          },
          "metadata": {},
          "output_type": "display_data"
        },
        {
          "data": {
            "application/vnd.jupyter.widget-view+json": {
              "model_id": "2aa1a7a01fe24d09a672c50ecf24e637",
              "version_major": 2,
              "version_minor": 0
            },
            "text/plain": [
              "Predicting: |                                             | 0/? [00:00<?, ?it/s]"
            ]
          },
          "metadata": {},
          "output_type": "display_data"
        },
        {
          "name": "stdout",
          "output_type": "stream",
          "text": [
            "The 71-th predicted prices is: 184.22523498535156\n"
          ]
        },
        {
          "data": {
            "application/vnd.jupyter.widget-view+json": {
              "model_id": "94ff7c9980464d53a504e3492030e68f",
              "version_major": 2,
              "version_minor": 0
            },
            "text/plain": [
              "Training: |                                               | 0/? [00:00<?, ?it/s]"
            ]
          },
          "metadata": {},
          "output_type": "display_data"
        },
        {
          "data": {
            "application/vnd.jupyter.widget-view+json": {
              "model_id": "1e32bceae7074594bdf28fe3bae9d246",
              "version_major": 2,
              "version_minor": 0
            },
            "text/plain": [
              "Predicting: |                                             | 0/? [00:00<?, ?it/s]"
            ]
          },
          "metadata": {},
          "output_type": "display_data"
        },
        {
          "name": "stdout",
          "output_type": "stream",
          "text": [
            "The 72-th predicted prices is: 180.68663024902344\n"
          ]
        },
        {
          "data": {
            "application/vnd.jupyter.widget-view+json": {
              "model_id": "b9f6da91a3174dee81f7d2ef241ca64c",
              "version_major": 2,
              "version_minor": 0
            },
            "text/plain": [
              "Training: |                                               | 0/? [00:00<?, ?it/s]"
            ]
          },
          "metadata": {},
          "output_type": "display_data"
        },
        {
          "data": {
            "application/vnd.jupyter.widget-view+json": {
              "model_id": "e5db3c99508349feb5818bb7e7a8bc42",
              "version_major": 2,
              "version_minor": 0
            },
            "text/plain": [
              "Predicting: |                                             | 0/? [00:00<?, ?it/s]"
            ]
          },
          "metadata": {},
          "output_type": "display_data"
        },
        {
          "name": "stdout",
          "output_type": "stream",
          "text": [
            "The 73-th predicted prices is: 181.83584594726562\n"
          ]
        },
        {
          "data": {
            "application/vnd.jupyter.widget-view+json": {
              "model_id": "e4374023d55d42149ed899538b457917",
              "version_major": 2,
              "version_minor": 0
            },
            "text/plain": [
              "Training: |                                               | 0/? [00:00<?, ?it/s]"
            ]
          },
          "metadata": {},
          "output_type": "display_data"
        },
        {
          "data": {
            "application/vnd.jupyter.widget-view+json": {
              "model_id": "306b1eac79d9487c9efbce72fdd4974c",
              "version_major": 2,
              "version_minor": 0
            },
            "text/plain": [
              "Predicting: |                                             | 0/? [00:00<?, ?it/s]"
            ]
          },
          "metadata": {},
          "output_type": "display_data"
        },
        {
          "name": "stdout",
          "output_type": "stream",
          "text": [
            "The 74-th predicted prices is: 185.4759521484375\n"
          ]
        },
        {
          "data": {
            "application/vnd.jupyter.widget-view+json": {
              "model_id": "4fcfeb5b147743669865a50799cc4a75",
              "version_major": 2,
              "version_minor": 0
            },
            "text/plain": [
              "Training: |                                               | 0/? [00:00<?, ?it/s]"
            ]
          },
          "metadata": {},
          "output_type": "display_data"
        },
        {
          "data": {
            "application/vnd.jupyter.widget-view+json": {
              "model_id": "bbeb080d3d6e4737804b8dace17d743c",
              "version_major": 2,
              "version_minor": 0
            },
            "text/plain": [
              "Predicting: |                                             | 0/? [00:00<?, ?it/s]"
            ]
          },
          "metadata": {},
          "output_type": "display_data"
        },
        {
          "name": "stdout",
          "output_type": "stream",
          "text": [
            "The 75-th predicted prices is: 187.53672790527344\n"
          ]
        },
        {
          "data": {
            "application/vnd.jupyter.widget-view+json": {
              "model_id": "ef281ba7016c4a6aa8fb070786fefd89",
              "version_major": 2,
              "version_minor": 0
            },
            "text/plain": [
              "Training: |                                               | 0/? [00:00<?, ?it/s]"
            ]
          },
          "metadata": {},
          "output_type": "display_data"
        },
        {
          "data": {
            "application/vnd.jupyter.widget-view+json": {
              "model_id": "74fe67e1b1b0428dbae3f88116b4155c",
              "version_major": 2,
              "version_minor": 0
            },
            "text/plain": [
              "Predicting: |                                             | 0/? [00:00<?, ?it/s]"
            ]
          },
          "metadata": {},
          "output_type": "display_data"
        },
        {
          "name": "stdout",
          "output_type": "stream",
          "text": [
            "The 76-th predicted prices is: 189.55706787109375\n"
          ]
        },
        {
          "data": {
            "application/vnd.jupyter.widget-view+json": {
              "model_id": "ad58ce286f264cf4adc6fa1fdb6fa5c8",
              "version_major": 2,
              "version_minor": 0
            },
            "text/plain": [
              "Training: |                                               | 0/? [00:00<?, ?it/s]"
            ]
          },
          "metadata": {},
          "output_type": "display_data"
        },
        {
          "data": {
            "application/vnd.jupyter.widget-view+json": {
              "model_id": "129651e43a2f4609a5a6cf122fee552d",
              "version_major": 2,
              "version_minor": 0
            },
            "text/plain": [
              "Predicting: |                                             | 0/? [00:00<?, ?it/s]"
            ]
          },
          "metadata": {},
          "output_type": "display_data"
        },
        {
          "name": "stdout",
          "output_type": "stream",
          "text": [
            "The 77-th predicted prices is: 189.03973388671875\n"
          ]
        },
        {
          "data": {
            "application/vnd.jupyter.widget-view+json": {
              "model_id": "89fa6947ab944965b584ab29702a08fd",
              "version_major": 2,
              "version_minor": 0
            },
            "text/plain": [
              "Training: |                                               | 0/? [00:00<?, ?it/s]"
            ]
          },
          "metadata": {},
          "output_type": "display_data"
        },
        {
          "data": {
            "application/vnd.jupyter.widget-view+json": {
              "model_id": "d43d372deec249f69ddb2182b6a6ffc9",
              "version_major": 2,
              "version_minor": 0
            },
            "text/plain": [
              "Predicting: |                                             | 0/? [00:00<?, ?it/s]"
            ]
          },
          "metadata": {},
          "output_type": "display_data"
        },
        {
          "name": "stdout",
          "output_type": "stream",
          "text": [
            "The 78-th predicted prices is: 191.44479370117188\n"
          ]
        },
        {
          "data": {
            "application/vnd.jupyter.widget-view+json": {
              "model_id": "47786d0fc88142918f57aa0d86776caa",
              "version_major": 2,
              "version_minor": 0
            },
            "text/plain": [
              "Training: |                                               | 0/? [00:00<?, ?it/s]"
            ]
          },
          "metadata": {},
          "output_type": "display_data"
        },
        {
          "data": {
            "application/vnd.jupyter.widget-view+json": {
              "model_id": "01b6060c7b6e406080cda9913909a682",
              "version_major": 2,
              "version_minor": 0
            },
            "text/plain": [
              "Predicting: |                                             | 0/? [00:00<?, ?it/s]"
            ]
          },
          "metadata": {},
          "output_type": "display_data"
        },
        {
          "name": "stdout",
          "output_type": "stream",
          "text": [
            "The 79-th predicted prices is: 192.71820068359375\n"
          ]
        },
        {
          "data": {
            "application/vnd.jupyter.widget-view+json": {
              "model_id": "f6bedf6e1ee2457cab461752575e572c",
              "version_major": 2,
              "version_minor": 0
            },
            "text/plain": [
              "Training: |                                               | 0/? [00:00<?, ?it/s]"
            ]
          },
          "metadata": {},
          "output_type": "display_data"
        },
        {
          "data": {
            "application/vnd.jupyter.widget-view+json": {
              "model_id": "1ba9d6de2ddc4ea0948120c4a31c4340",
              "version_major": 2,
              "version_minor": 0
            },
            "text/plain": [
              "Predicting: |                                             | 0/? [00:00<?, ?it/s]"
            ]
          },
          "metadata": {},
          "output_type": "display_data"
        },
        {
          "name": "stdout",
          "output_type": "stream",
          "text": [
            "The 80-th predicted prices is: 188.19024658203125\n"
          ]
        },
        {
          "data": {
            "application/vnd.jupyter.widget-view+json": {
              "model_id": "a4acbcff8e844307bb73e2dca448fb4d",
              "version_major": 2,
              "version_minor": 0
            },
            "text/plain": [
              "Training: |                                               | 0/? [00:00<?, ?it/s]"
            ]
          },
          "metadata": {},
          "output_type": "display_data"
        },
        {
          "data": {
            "application/vnd.jupyter.widget-view+json": {
              "model_id": "9ff2ce3fbeb144e7b35e0b263f09b19a",
              "version_major": 2,
              "version_minor": 0
            },
            "text/plain": [
              "Predicting: |                                             | 0/? [00:00<?, ?it/s]"
            ]
          },
          "metadata": {},
          "output_type": "display_data"
        },
        {
          "name": "stdout",
          "output_type": "stream",
          "text": [
            "The 81-th predicted prices is: 192.2864227294922\n"
          ]
        },
        {
          "data": {
            "application/vnd.jupyter.widget-view+json": {
              "model_id": "7433832fad754aac9554f810308d2c45",
              "version_major": 2,
              "version_minor": 0
            },
            "text/plain": [
              "Training: |                                               | 0/? [00:00<?, ?it/s]"
            ]
          },
          "metadata": {},
          "output_type": "display_data"
        },
        {
          "data": {
            "application/vnd.jupyter.widget-view+json": {
              "model_id": "d11b057843284c2a911169baf1ca5a46",
              "version_major": 2,
              "version_minor": 0
            },
            "text/plain": [
              "Predicting: |                                             | 0/? [00:00<?, ?it/s]"
            ]
          },
          "metadata": {},
          "output_type": "display_data"
        },
        {
          "name": "stdout",
          "output_type": "stream",
          "text": [
            "The 82-th predicted prices is: 193.90185546875\n"
          ]
        },
        {
          "data": {
            "application/vnd.jupyter.widget-view+json": {
              "model_id": "a319d98775e648719215b0bfa175c0af",
              "version_major": 2,
              "version_minor": 0
            },
            "text/plain": [
              "Training: |                                               | 0/? [00:00<?, ?it/s]"
            ]
          },
          "metadata": {},
          "output_type": "display_data"
        },
        {
          "data": {
            "application/vnd.jupyter.widget-view+json": {
              "model_id": "6bd9b88828a24d3bb066d940a3453606",
              "version_major": 2,
              "version_minor": 0
            },
            "text/plain": [
              "Predicting: |                                             | 0/? [00:00<?, ?it/s]"
            ]
          },
          "metadata": {},
          "output_type": "display_data"
        },
        {
          "name": "stdout",
          "output_type": "stream",
          "text": [
            "The 83-th predicted prices is: 197.11810302734375\n"
          ]
        },
        {
          "data": {
            "application/vnd.jupyter.widget-view+json": {
              "model_id": "c18afa143804466cad2b9a658839c582",
              "version_major": 2,
              "version_minor": 0
            },
            "text/plain": [
              "Training: |                                               | 0/? [00:00<?, ?it/s]"
            ]
          },
          "metadata": {},
          "output_type": "display_data"
        },
        {
          "data": {
            "application/vnd.jupyter.widget-view+json": {
              "model_id": "fbb8defcaf284c8e8167ceaf0667a329",
              "version_major": 2,
              "version_minor": 0
            },
            "text/plain": [
              "Predicting: |                                             | 0/? [00:00<?, ?it/s]"
            ]
          },
          "metadata": {},
          "output_type": "display_data"
        },
        {
          "name": "stdout",
          "output_type": "stream",
          "text": [
            "The 84-th predicted prices is: 196.30905151367188\n"
          ]
        },
        {
          "data": {
            "application/vnd.jupyter.widget-view+json": {
              "model_id": "74ac2ecb034b4d2994c267cf5567d82f",
              "version_major": 2,
              "version_minor": 0
            },
            "text/plain": [
              "Training: |                                               | 0/? [00:00<?, ?it/s]"
            ]
          },
          "metadata": {},
          "output_type": "display_data"
        },
        {
          "data": {
            "application/vnd.jupyter.widget-view+json": {
              "model_id": "399e953a41814273b7e9d66cbf563277",
              "version_major": 2,
              "version_minor": 0
            },
            "text/plain": [
              "Predicting: |                                             | 0/? [00:00<?, ?it/s]"
            ]
          },
          "metadata": {},
          "output_type": "display_data"
        },
        {
          "name": "stdout",
          "output_type": "stream",
          "text": [
            "The 85-th predicted prices is: 197.9386444091797\n"
          ]
        },
        {
          "data": {
            "application/vnd.jupyter.widget-view+json": {
              "model_id": "fa6620eed1cb4742a682eb60e3bae2d4",
              "version_major": 2,
              "version_minor": 0
            },
            "text/plain": [
              "Training: |                                               | 0/? [00:00<?, ?it/s]"
            ]
          },
          "metadata": {},
          "output_type": "display_data"
        },
        {
          "data": {
            "application/vnd.jupyter.widget-view+json": {
              "model_id": "f9c74942dba945aead992c63f9d85239",
              "version_major": 2,
              "version_minor": 0
            },
            "text/plain": [
              "Predicting: |                                             | 0/? [00:00<?, ?it/s]"
            ]
          },
          "metadata": {},
          "output_type": "display_data"
        },
        {
          "name": "stdout",
          "output_type": "stream",
          "text": [
            "The 86-th predicted prices is: 200.55064392089844\n"
          ]
        },
        {
          "data": {
            "application/vnd.jupyter.widget-view+json": {
              "model_id": "38f34ebc3fd044a98b2f7fa944cf8aef",
              "version_major": 2,
              "version_minor": 0
            },
            "text/plain": [
              "Training: |                                               | 0/? [00:00<?, ?it/s]"
            ]
          },
          "metadata": {},
          "output_type": "display_data"
        },
        {
          "data": {
            "application/vnd.jupyter.widget-view+json": {
              "model_id": "002ecc05423c41a2a9e48b6837acd27a",
              "version_major": 2,
              "version_minor": 0
            },
            "text/plain": [
              "Predicting: |                                             | 0/? [00:00<?, ?it/s]"
            ]
          },
          "metadata": {},
          "output_type": "display_data"
        },
        {
          "name": "stdout",
          "output_type": "stream",
          "text": [
            "The 87-th predicted prices is: 203.4617462158203\n"
          ]
        },
        {
          "data": {
            "application/vnd.jupyter.widget-view+json": {
              "model_id": "b061a6a7057043018ec47070b1535573",
              "version_major": 2,
              "version_minor": 0
            },
            "text/plain": [
              "Training: |                                               | 0/? [00:00<?, ?it/s]"
            ]
          },
          "metadata": {},
          "output_type": "display_data"
        },
        {
          "data": {
            "application/vnd.jupyter.widget-view+json": {
              "model_id": "d6ded5357c8b4a79a9cd4a955ec8e20f",
              "version_major": 2,
              "version_minor": 0
            },
            "text/plain": [
              "Predicting: |                                             | 0/? [00:00<?, ?it/s]"
            ]
          },
          "metadata": {},
          "output_type": "display_data"
        },
        {
          "name": "stdout",
          "output_type": "stream",
          "text": [
            "The 88-th predicted prices is: 202.3312530517578\n"
          ]
        },
        {
          "data": {
            "application/vnd.jupyter.widget-view+json": {
              "model_id": "236df7d2d7774faba323e8da60ca816c",
              "version_major": 2,
              "version_minor": 0
            },
            "text/plain": [
              "Training: |                                               | 0/? [00:00<?, ?it/s]"
            ]
          },
          "metadata": {},
          "output_type": "display_data"
        },
        {
          "data": {
            "application/vnd.jupyter.widget-view+json": {
              "model_id": "53578a9647a9438489b03549ab3f8712",
              "version_major": 2,
              "version_minor": 0
            },
            "text/plain": [
              "Predicting: |                                             | 0/? [00:00<?, ?it/s]"
            ]
          },
          "metadata": {},
          "output_type": "display_data"
        },
        {
          "name": "stdout",
          "output_type": "stream",
          "text": [
            "The 89-th predicted prices is: 204.50588989257812\n"
          ]
        },
        {
          "data": {
            "application/vnd.jupyter.widget-view+json": {
              "model_id": "4acccc1f80534f9c8afff1e1a371cde1",
              "version_major": 2,
              "version_minor": 0
            },
            "text/plain": [
              "Training: |                                               | 0/? [00:00<?, ?it/s]"
            ]
          },
          "metadata": {},
          "output_type": "display_data"
        },
        {
          "data": {
            "application/vnd.jupyter.widget-view+json": {
              "model_id": "ef23343e6ca04533a70291b1f6df9d9b",
              "version_major": 2,
              "version_minor": 0
            },
            "text/plain": [
              "Predicting: |                                             | 0/? [00:00<?, ?it/s]"
            ]
          },
          "metadata": {},
          "output_type": "display_data"
        },
        {
          "name": "stdout",
          "output_type": "stream",
          "text": [
            "The 90-th predicted prices is: 203.8131103515625\n"
          ]
        },
        {
          "data": {
            "application/vnd.jupyter.widget-view+json": {
              "model_id": "574b0d47639246b1a37bafb3aeb6c52a",
              "version_major": 2,
              "version_minor": 0
            },
            "text/plain": [
              "Training: |                                               | 0/? [00:00<?, ?it/s]"
            ]
          },
          "metadata": {},
          "output_type": "display_data"
        },
        {
          "data": {
            "application/vnd.jupyter.widget-view+json": {
              "model_id": "3969100971984393b33f38f26a7e32af",
              "version_major": 2,
              "version_minor": 0
            },
            "text/plain": [
              "Predicting: |                                             | 0/? [00:00<?, ?it/s]"
            ]
          },
          "metadata": {},
          "output_type": "display_data"
        },
        {
          "name": "stdout",
          "output_type": "stream",
          "text": [
            "The 91-th predicted prices is: 204.01080322265625\n"
          ]
        },
        {
          "data": {
            "application/vnd.jupyter.widget-view+json": {
              "model_id": "e12a1bdadc2548a7b2b78317135c86b4",
              "version_major": 2,
              "version_minor": 0
            },
            "text/plain": [
              "Training: |                                               | 0/? [00:00<?, ?it/s]"
            ]
          },
          "metadata": {},
          "output_type": "display_data"
        },
        {
          "data": {
            "application/vnd.jupyter.widget-view+json": {
              "model_id": "d51dfb2a148e45518d54d38a5afce00f",
              "version_major": 2,
              "version_minor": 0
            },
            "text/plain": [
              "Predicting: |                                             | 0/? [00:00<?, ?it/s]"
            ]
          },
          "metadata": {},
          "output_type": "display_data"
        },
        {
          "name": "stdout",
          "output_type": "stream",
          "text": [
            "The 92-th predicted prices is: 202.05926513671875\n"
          ]
        },
        {
          "data": {
            "application/vnd.jupyter.widget-view+json": {
              "model_id": "a2fd0402d1c141acad583d3a6caf3833",
              "version_major": 2,
              "version_minor": 0
            },
            "text/plain": [
              "Training: |                                               | 0/? [00:00<?, ?it/s]"
            ]
          },
          "metadata": {},
          "output_type": "display_data"
        },
        {
          "data": {
            "application/vnd.jupyter.widget-view+json": {
              "model_id": "3f1a8611a3b14da0826b4f8d7397aa15",
              "version_major": 2,
              "version_minor": 0
            },
            "text/plain": [
              "Predicting: |                                             | 0/? [00:00<?, ?it/s]"
            ]
          },
          "metadata": {},
          "output_type": "display_data"
        },
        {
          "name": "stdout",
          "output_type": "stream",
          "text": [
            "The 93-th predicted prices is: 201.97772216796875\n"
          ]
        },
        {
          "data": {
            "application/vnd.jupyter.widget-view+json": {
              "model_id": "a92ad83cd9304270b89c22576bb5c1d6",
              "version_major": 2,
              "version_minor": 0
            },
            "text/plain": [
              "Training: |                                               | 0/? [00:00<?, ?it/s]"
            ]
          },
          "metadata": {},
          "output_type": "display_data"
        },
        {
          "data": {
            "application/vnd.jupyter.widget-view+json": {
              "model_id": "c72f785151a24608a2db0e36bf18daab",
              "version_major": 2,
              "version_minor": 0
            },
            "text/plain": [
              "Predicting: |                                             | 0/? [00:00<?, ?it/s]"
            ]
          },
          "metadata": {},
          "output_type": "display_data"
        },
        {
          "name": "stdout",
          "output_type": "stream",
          "text": [
            "The 94-th predicted prices is: 201.45751953125\n"
          ]
        },
        {
          "data": {
            "application/vnd.jupyter.widget-view+json": {
              "model_id": "3b0b0c8fbb324415986cd14f9c587018",
              "version_major": 2,
              "version_minor": 0
            },
            "text/plain": [
              "Training: |                                               | 0/? [00:00<?, ?it/s]"
            ]
          },
          "metadata": {},
          "output_type": "display_data"
        },
        {
          "data": {
            "application/vnd.jupyter.widget-view+json": {
              "model_id": "5c1023b5e1714a5b9acd69afcd9ae156",
              "version_major": 2,
              "version_minor": 0
            },
            "text/plain": [
              "Predicting: |                                             | 0/? [00:00<?, ?it/s]"
            ]
          },
          "metadata": {},
          "output_type": "display_data"
        },
        {
          "name": "stdout",
          "output_type": "stream",
          "text": [
            "The 95-th predicted prices is: 203.54269409179688\n"
          ]
        },
        {
          "data": {
            "application/vnd.jupyter.widget-view+json": {
              "model_id": "1083a5ac65bc4e3da986723f361c9ff3",
              "version_major": 2,
              "version_minor": 0
            },
            "text/plain": [
              "Training: |                                               | 0/? [00:00<?, ?it/s]"
            ]
          },
          "metadata": {},
          "output_type": "display_data"
        },
        {
          "data": {
            "application/vnd.jupyter.widget-view+json": {
              "model_id": "cb1b5f64c6644923a3df886940bea38a",
              "version_major": 2,
              "version_minor": 0
            },
            "text/plain": [
              "Predicting: |                                             | 0/? [00:00<?, ?it/s]"
            ]
          },
          "metadata": {},
          "output_type": "display_data"
        },
        {
          "name": "stdout",
          "output_type": "stream",
          "text": [
            "The 96-th predicted prices is: 206.47903442382812\n"
          ]
        },
        {
          "data": {
            "application/vnd.jupyter.widget-view+json": {
              "model_id": "69a32ef334eb4c7ca2c6d638d3fc49f7",
              "version_major": 2,
              "version_minor": 0
            },
            "text/plain": [
              "Training: |                                               | 0/? [00:00<?, ?it/s]"
            ]
          },
          "metadata": {},
          "output_type": "display_data"
        },
        {
          "data": {
            "application/vnd.jupyter.widget-view+json": {
              "model_id": "ac599a6d618e4b0ab6c5d3575f04b712",
              "version_major": 2,
              "version_minor": 0
            },
            "text/plain": [
              "Predicting: |                                             | 0/? [00:00<?, ?it/s]"
            ]
          },
          "metadata": {},
          "output_type": "display_data"
        },
        {
          "name": "stdout",
          "output_type": "stream",
          "text": [
            "The 97-th predicted prices is: 203.93101501464844\n"
          ]
        },
        {
          "data": {
            "application/vnd.jupyter.widget-view+json": {
              "model_id": "8ab55415490d404ab621cc2fc11892fd",
              "version_major": 2,
              "version_minor": 0
            },
            "text/plain": [
              "Training: |                                               | 0/? [00:00<?, ?it/s]"
            ]
          },
          "metadata": {},
          "output_type": "display_data"
        },
        {
          "data": {
            "application/vnd.jupyter.widget-view+json": {
              "model_id": "86e2a1952aee4a07bba8d9a863c033a1",
              "version_major": 2,
              "version_minor": 0
            },
            "text/plain": [
              "Predicting: |                                             | 0/? [00:00<?, ?it/s]"
            ]
          },
          "metadata": {},
          "output_type": "display_data"
        },
        {
          "name": "stdout",
          "output_type": "stream",
          "text": [
            "The 98-th predicted prices is: 205.95497131347656\n"
          ]
        },
        {
          "data": {
            "application/vnd.jupyter.widget-view+json": {
              "model_id": "a2ea22edf17a4dac93f42efc33644a56",
              "version_major": 2,
              "version_minor": 0
            },
            "text/plain": [
              "Training: |                                               | 0/? [00:00<?, ?it/s]"
            ]
          },
          "metadata": {},
          "output_type": "display_data"
        },
        {
          "data": {
            "application/vnd.jupyter.widget-view+json": {
              "model_id": "23a5f03b23aa48ef952b36e0b5d74365",
              "version_major": 2,
              "version_minor": 0
            },
            "text/plain": [
              "Predicting: |                                             | 0/? [00:00<?, ?it/s]"
            ]
          },
          "metadata": {},
          "output_type": "display_data"
        },
        {
          "name": "stdout",
          "output_type": "stream",
          "text": [
            "The 99-th predicted prices is: 206.44110107421875\n"
          ]
        },
        {
          "data": {
            "application/vnd.jupyter.widget-view+json": {
              "model_id": "77ba0a6818f745bcb7669bfff2546510",
              "version_major": 2,
              "version_minor": 0
            },
            "text/plain": [
              "Training: |                                               | 0/? [00:00<?, ?it/s]"
            ]
          },
          "metadata": {},
          "output_type": "display_data"
        },
        {
          "data": {
            "application/vnd.jupyter.widget-view+json": {
              "model_id": "7e254888cc0a48119a327486a64498c8",
              "version_major": 2,
              "version_minor": 0
            },
            "text/plain": [
              "Predicting: |                                             | 0/? [00:00<?, ?it/s]"
            ]
          },
          "metadata": {},
          "output_type": "display_data"
        },
        {
          "name": "stdout",
          "output_type": "stream",
          "text": [
            "The 100-th predicted prices is: 200.3636932373047\n"
          ]
        },
        {
          "data": {
            "application/vnd.jupyter.widget-view+json": {
              "model_id": "9a35f851e5934ddda0b93c448e401594",
              "version_major": 2,
              "version_minor": 0
            },
            "text/plain": [
              "Training: |                                               | 0/? [00:00<?, ?it/s]"
            ]
          },
          "metadata": {},
          "output_type": "display_data"
        },
        {
          "data": {
            "application/vnd.jupyter.widget-view+json": {
              "model_id": "8b032cd605c54e7a871f2b1578298232",
              "version_major": 2,
              "version_minor": 0
            },
            "text/plain": [
              "Predicting: |                                             | 0/? [00:00<?, ?it/s]"
            ]
          },
          "metadata": {},
          "output_type": "display_data"
        },
        {
          "name": "stdout",
          "output_type": "stream",
          "text": [
            "The 101-th predicted prices is: 201.09864807128906\n"
          ]
        },
        {
          "data": {
            "application/vnd.jupyter.widget-view+json": {
              "model_id": "7d9baf7246e446f3a1dec47d29203853",
              "version_major": 2,
              "version_minor": 0
            },
            "text/plain": [
              "Training: |                                               | 0/? [00:00<?, ?it/s]"
            ]
          },
          "metadata": {},
          "output_type": "display_data"
        },
        {
          "data": {
            "application/vnd.jupyter.widget-view+json": {
              "model_id": "1b45c034d4e141b78d0fdb046bb6252e",
              "version_major": 2,
              "version_minor": 0
            },
            "text/plain": [
              "Predicting: |                                             | 0/? [00:00<?, ?it/s]"
            ]
          },
          "metadata": {},
          "output_type": "display_data"
        },
        {
          "name": "stdout",
          "output_type": "stream",
          "text": [
            "The 102-th predicted prices is: 200.446533203125\n"
          ]
        },
        {
          "data": {
            "application/vnd.jupyter.widget-view+json": {
              "model_id": "8b8625f210fc47808e33d98759eac24f",
              "version_major": 2,
              "version_minor": 0
            },
            "text/plain": [
              "Training: |                                               | 0/? [00:00<?, ?it/s]"
            ]
          },
          "metadata": {},
          "output_type": "display_data"
        },
        {
          "data": {
            "application/vnd.jupyter.widget-view+json": {
              "model_id": "9f814ce06bf54c83b0ab6b86ace9ba7a",
              "version_major": 2,
              "version_minor": 0
            },
            "text/plain": [
              "Predicting: |                                             | 0/? [00:00<?, ?it/s]"
            ]
          },
          "metadata": {},
          "output_type": "display_data"
        },
        {
          "name": "stdout",
          "output_type": "stream",
          "text": [
            "The 103-th predicted prices is: 203.4315643310547\n"
          ]
        },
        {
          "data": {
            "application/vnd.jupyter.widget-view+json": {
              "model_id": "1fc02ca14bdd467f97bae7b88c1d6154",
              "version_major": 2,
              "version_minor": 0
            },
            "text/plain": [
              "Training: |                                               | 0/? [00:00<?, ?it/s]"
            ]
          },
          "metadata": {},
          "output_type": "display_data"
        },
        {
          "data": {
            "application/vnd.jupyter.widget-view+json": {
              "model_id": "e1b9856176b948c0a1fe4d496e4d444a",
              "version_major": 2,
              "version_minor": 0
            },
            "text/plain": [
              "Predicting: |                                             | 0/? [00:00<?, ?it/s]"
            ]
          },
          "metadata": {},
          "output_type": "display_data"
        },
        {
          "name": "stdout",
          "output_type": "stream",
          "text": [
            "The 104-th predicted prices is: 202.21438598632812\n"
          ]
        },
        {
          "data": {
            "application/vnd.jupyter.widget-view+json": {
              "model_id": "c534cd585389417a9f553351827d5e57",
              "version_major": 2,
              "version_minor": 0
            },
            "text/plain": [
              "Training: |                                               | 0/? [00:00<?, ?it/s]"
            ]
          },
          "metadata": {},
          "output_type": "display_data"
        },
        {
          "data": {
            "application/vnd.jupyter.widget-view+json": {
              "model_id": "dd15f50c610b40febd3f5acd8e68aaad",
              "version_major": 2,
              "version_minor": 0
            },
            "text/plain": [
              "Predicting: |                                             | 0/? [00:00<?, ?it/s]"
            ]
          },
          "metadata": {},
          "output_type": "display_data"
        },
        {
          "name": "stdout",
          "output_type": "stream",
          "text": [
            "The 105-th predicted prices is: 198.938720703125\n"
          ]
        },
        {
          "data": {
            "application/vnd.jupyter.widget-view+json": {
              "model_id": "110ebcbfa6b3494fb7a8ded6f5a4a5fb",
              "version_major": 2,
              "version_minor": 0
            },
            "text/plain": [
              "Training: |                                               | 0/? [00:00<?, ?it/s]"
            ]
          },
          "metadata": {},
          "output_type": "display_data"
        },
        {
          "data": {
            "application/vnd.jupyter.widget-view+json": {
              "model_id": "7b737f1ab54b48368d645fdeb81baf21",
              "version_major": 2,
              "version_minor": 0
            },
            "text/plain": [
              "Predicting: |                                             | 0/? [00:00<?, ?it/s]"
            ]
          },
          "metadata": {},
          "output_type": "display_data"
        },
        {
          "name": "stdout",
          "output_type": "stream",
          "text": [
            "The 106-th predicted prices is: 193.2896728515625\n"
          ]
        },
        {
          "data": {
            "application/vnd.jupyter.widget-view+json": {
              "model_id": "0fc4b35cf7d44b968e91e2e46eb709c3",
              "version_major": 2,
              "version_minor": 0
            },
            "text/plain": [
              "Training: |                                               | 0/? [00:00<?, ?it/s]"
            ]
          },
          "metadata": {},
          "output_type": "display_data"
        },
        {
          "data": {
            "application/vnd.jupyter.widget-view+json": {
              "model_id": "939e625c54fe4c0894ff8a732279e6c9",
              "version_major": 2,
              "version_minor": 0
            },
            "text/plain": [
              "Predicting: |                                             | 0/? [00:00<?, ?it/s]"
            ]
          },
          "metadata": {},
          "output_type": "display_data"
        },
        {
          "name": "stdout",
          "output_type": "stream",
          "text": [
            "The 107-th predicted prices is: 190.8743438720703\n"
          ]
        },
        {
          "data": {
            "application/vnd.jupyter.widget-view+json": {
              "model_id": "0a74d60822bc4cdd9346cc5e7f55b803",
              "version_major": 2,
              "version_minor": 0
            },
            "text/plain": [
              "Training: |                                               | 0/? [00:00<?, ?it/s]"
            ]
          },
          "metadata": {},
          "output_type": "display_data"
        },
        {
          "data": {
            "application/vnd.jupyter.widget-view+json": {
              "model_id": "60917bb180ca4d07b3775197d7a5447f",
              "version_major": 2,
              "version_minor": 0
            },
            "text/plain": [
              "Predicting: |                                             | 0/? [00:00<?, ?it/s]"
            ]
          },
          "metadata": {},
          "output_type": "display_data"
        },
        {
          "name": "stdout",
          "output_type": "stream",
          "text": [
            "The 108-th predicted prices is: 184.68617248535156\n"
          ]
        },
        {
          "data": {
            "application/vnd.jupyter.widget-view+json": {
              "model_id": "114fea97fbe64357af12d57ef85c42ee",
              "version_major": 2,
              "version_minor": 0
            },
            "text/plain": [
              "Training: |                                               | 0/? [00:00<?, ?it/s]"
            ]
          },
          "metadata": {},
          "output_type": "display_data"
        },
        {
          "data": {
            "application/vnd.jupyter.widget-view+json": {
              "model_id": "0747af4cee45435880aefda8ca83cb8c",
              "version_major": 2,
              "version_minor": 0
            },
            "text/plain": [
              "Predicting: |                                             | 0/? [00:00<?, ?it/s]"
            ]
          },
          "metadata": {},
          "output_type": "display_data"
        },
        {
          "name": "stdout",
          "output_type": "stream",
          "text": [
            "The 109-th predicted prices is: 183.74603271484375\n"
          ]
        },
        {
          "data": {
            "application/vnd.jupyter.widget-view+json": {
              "model_id": "2be376f7332b434a82799cd7026c9138",
              "version_major": 2,
              "version_minor": 0
            },
            "text/plain": [
              "Training: |                                               | 0/? [00:00<?, ?it/s]"
            ]
          },
          "metadata": {},
          "output_type": "display_data"
        },
        {
          "data": {
            "application/vnd.jupyter.widget-view+json": {
              "model_id": "5bf007277d8640d6a9c251cc6e4aca4a",
              "version_major": 2,
              "version_minor": 0
            },
            "text/plain": [
              "Predicting: |                                             | 0/? [00:00<?, ?it/s]"
            ]
          },
          "metadata": {},
          "output_type": "display_data"
        },
        {
          "name": "stdout",
          "output_type": "stream",
          "text": [
            "The 110-th predicted prices is: 172.2652130126953\n"
          ]
        },
        {
          "data": {
            "application/vnd.jupyter.widget-view+json": {
              "model_id": "75d03575dd1342fdad32dab386569072",
              "version_major": 2,
              "version_minor": 0
            },
            "text/plain": [
              "Training: |                                               | 0/? [00:00<?, ?it/s]"
            ]
          },
          "metadata": {},
          "output_type": "display_data"
        },
        {
          "data": {
            "application/vnd.jupyter.widget-view+json": {
              "model_id": "0fe06810a7b342899fdc2098ec08726a",
              "version_major": 2,
              "version_minor": 0
            },
            "text/plain": [
              "Predicting: |                                             | 0/? [00:00<?, ?it/s]"
            ]
          },
          "metadata": {},
          "output_type": "display_data"
        },
        {
          "name": "stdout",
          "output_type": "stream",
          "text": [
            "The 111-th predicted prices is: 163.5583038330078\n"
          ]
        },
        {
          "data": {
            "application/vnd.jupyter.widget-view+json": {
              "model_id": "3e96427ea9384df9a75bdb7b1fe9f96a",
              "version_major": 2,
              "version_minor": 0
            },
            "text/plain": [
              "Training: |                                               | 0/? [00:00<?, ?it/s]"
            ]
          },
          "metadata": {},
          "output_type": "display_data"
        },
        {
          "data": {
            "application/vnd.jupyter.widget-view+json": {
              "model_id": "1950361a21a3458d80cc3bc03ee44334",
              "version_major": 2,
              "version_minor": 0
            },
            "text/plain": [
              "Predicting: |                                             | 0/? [00:00<?, ?it/s]"
            ]
          },
          "metadata": {},
          "output_type": "display_data"
        },
        {
          "name": "stdout",
          "output_type": "stream",
          "text": [
            "The 112-th predicted prices is: 168.5037078857422\n"
          ]
        },
        {
          "data": {
            "application/vnd.jupyter.widget-view+json": {
              "model_id": "95be107eb6fb46afb513025751c87916",
              "version_major": 2,
              "version_minor": 0
            },
            "text/plain": [
              "Training: |                                               | 0/? [00:00<?, ?it/s]"
            ]
          },
          "metadata": {},
          "output_type": "display_data"
        },
        {
          "data": {
            "application/vnd.jupyter.widget-view+json": {
              "model_id": "8c8e957c6aaa46cb919c73fe4471727a",
              "version_major": 2,
              "version_minor": 0
            },
            "text/plain": [
              "Predicting: |                                             | 0/? [00:00<?, ?it/s]"
            ]
          },
          "metadata": {},
          "output_type": "display_data"
        },
        {
          "name": "stdout",
          "output_type": "stream",
          "text": [
            "The 113-th predicted prices is: 148.1564483642578\n"
          ]
        },
        {
          "data": {
            "application/vnd.jupyter.widget-view+json": {
              "model_id": "b0a488f218394b2eab8da2022d468fcc",
              "version_major": 2,
              "version_minor": 0
            },
            "text/plain": [
              "Training: |                                               | 0/? [00:00<?, ?it/s]"
            ]
          },
          "metadata": {},
          "output_type": "display_data"
        },
        {
          "data": {
            "application/vnd.jupyter.widget-view+json": {
              "model_id": "57079ebbc93e4180818de39945959553",
              "version_major": 2,
              "version_minor": 0
            },
            "text/plain": [
              "Predicting: |                                             | 0/? [00:00<?, ?it/s]"
            ]
          },
          "metadata": {},
          "output_type": "display_data"
        },
        {
          "name": "stdout",
          "output_type": "stream",
          "text": [
            "The 114-th predicted prices is: 140.60044860839844\n"
          ]
        },
        {
          "data": {
            "application/vnd.jupyter.widget-view+json": {
              "model_id": "baf16fdd3b2e47a38df99ebceead485d",
              "version_major": 2,
              "version_minor": 0
            },
            "text/plain": [
              "Training: |                                               | 0/? [00:00<?, ?it/s]"
            ]
          },
          "metadata": {},
          "output_type": "display_data"
        },
        {
          "data": {
            "application/vnd.jupyter.widget-view+json": {
              "model_id": "918f3ff479d449d2a18b80e8ce3c4c5f",
              "version_major": 2,
              "version_minor": 0
            },
            "text/plain": [
              "Predicting: |                                             | 0/? [00:00<?, ?it/s]"
            ]
          },
          "metadata": {},
          "output_type": "display_data"
        },
        {
          "name": "stdout",
          "output_type": "stream",
          "text": [
            "The 115-th predicted prices is: 133.40191650390625\n"
          ]
        },
        {
          "data": {
            "application/vnd.jupyter.widget-view+json": {
              "model_id": "f5aff65899594d838d4bcbc23bf3b4ee",
              "version_major": 2,
              "version_minor": 0
            },
            "text/plain": [
              "Training: |                                               | 0/? [00:00<?, ?it/s]"
            ]
          },
          "metadata": {},
          "output_type": "display_data"
        },
        {
          "data": {
            "application/vnd.jupyter.widget-view+json": {
              "model_id": "b6fcca4191304fc5ad757696feaaecb1",
              "version_major": 2,
              "version_minor": 0
            },
            "text/plain": [
              "Predicting: |                                             | 0/? [00:00<?, ?it/s]"
            ]
          },
          "metadata": {},
          "output_type": "display_data"
        },
        {
          "name": "stdout",
          "output_type": "stream",
          "text": [
            "The 116-th predicted prices is: 102.88451385498047\n"
          ]
        },
        {
          "data": {
            "application/vnd.jupyter.widget-view+json": {
              "model_id": "9ac5b9ad18d74db483e6d2f5f1284858",
              "version_major": 2,
              "version_minor": 0
            },
            "text/plain": [
              "Training: |                                               | 0/? [00:00<?, ?it/s]"
            ]
          },
          "metadata": {},
          "output_type": "display_data"
        },
        {
          "data": {
            "application/vnd.jupyter.widget-view+json": {
              "model_id": "3cffb17c669b46aebf9fb28f4535a137",
              "version_major": 2,
              "version_minor": 0
            },
            "text/plain": [
              "Predicting: |                                             | 0/? [00:00<?, ?it/s]"
            ]
          },
          "metadata": {},
          "output_type": "display_data"
        },
        {
          "name": "stdout",
          "output_type": "stream",
          "text": [
            "The 117-th predicted prices is: 99.96142578125\n"
          ]
        },
        {
          "data": {
            "application/vnd.jupyter.widget-view+json": {
              "model_id": "056fd934dfa2498089f7e44e24bd4ad0",
              "version_major": 2,
              "version_minor": 0
            },
            "text/plain": [
              "Training: |                                               | 0/? [00:00<?, ?it/s]"
            ]
          },
          "metadata": {},
          "output_type": "display_data"
        },
        {
          "data": {
            "application/vnd.jupyter.widget-view+json": {
              "model_id": "e86377fcdca9482b924ef81bbd63e844",
              "version_major": 2,
              "version_minor": 0
            },
            "text/plain": [
              "Predicting: |                                             | 0/? [00:00<?, ?it/s]"
            ]
          },
          "metadata": {},
          "output_type": "display_data"
        },
        {
          "name": "stdout",
          "output_type": "stream",
          "text": [
            "The 118-th predicted prices is: 106.99779510498047\n"
          ]
        },
        {
          "data": {
            "application/vnd.jupyter.widget-view+json": {
              "model_id": "b2f7267f29c744f092b4ae5343d7b535",
              "version_major": 2,
              "version_minor": 0
            },
            "text/plain": [
              "Training: |                                               | 0/? [00:00<?, ?it/s]"
            ]
          },
          "metadata": {},
          "output_type": "display_data"
        },
        {
          "data": {
            "application/vnd.jupyter.widget-view+json": {
              "model_id": "a8b74c5612eb4b4693fcae8208e9ed67",
              "version_major": 2,
              "version_minor": 0
            },
            "text/plain": [
              "Predicting: |                                             | 0/? [00:00<?, ?it/s]"
            ]
          },
          "metadata": {},
          "output_type": "display_data"
        },
        {
          "name": "stdout",
          "output_type": "stream",
          "text": [
            "The 119-th predicted prices is: 90.48172760009766\n"
          ]
        },
        {
          "data": {
            "application/vnd.jupyter.widget-view+json": {
              "model_id": "65d45f6ea7f04406905f406b2cd5f608",
              "version_major": 2,
              "version_minor": 0
            },
            "text/plain": [
              "Training: |                                               | 0/? [00:00<?, ?it/s]"
            ]
          },
          "metadata": {},
          "output_type": "display_data"
        },
        {
          "data": {
            "application/vnd.jupyter.widget-view+json": {
              "model_id": "1a70e7fff9c5458e9a6d8f8f026b63e2",
              "version_major": 2,
              "version_minor": 0
            },
            "text/plain": [
              "Predicting: |                                             | 0/? [00:00<?, ?it/s]"
            ]
          },
          "metadata": {},
          "output_type": "display_data"
        },
        {
          "name": "stdout",
          "output_type": "stream",
          "text": [
            "The 120-th predicted prices is: 84.08626556396484\n"
          ]
        },
        {
          "data": {
            "application/vnd.jupyter.widget-view+json": {
              "model_id": "bf23c7ad88404e6cb3f166181445bcba",
              "version_major": 2,
              "version_minor": 0
            },
            "text/plain": [
              "Training: |                                               | 0/? [00:00<?, ?it/s]"
            ]
          },
          "metadata": {},
          "output_type": "display_data"
        },
        {
          "data": {
            "application/vnd.jupyter.widget-view+json": {
              "model_id": "2a5b48a6e7024f4a91007ca1a62e2243",
              "version_major": 2,
              "version_minor": 0
            },
            "text/plain": [
              "Predicting: |                                             | 0/? [00:00<?, ?it/s]"
            ]
          },
          "metadata": {},
          "output_type": "display_data"
        },
        {
          "name": "stdout",
          "output_type": "stream",
          "text": [
            "The 121-th predicted prices is: 88.06559753417969\n"
          ]
        },
        {
          "data": {
            "application/vnd.jupyter.widget-view+json": {
              "model_id": "9876fb24ad954820aecc84f67e02a94a",
              "version_major": 2,
              "version_minor": 0
            },
            "text/plain": [
              "Training: |                                               | 0/? [00:00<?, ?it/s]"
            ]
          },
          "metadata": {},
          "output_type": "display_data"
        },
        {
          "data": {
            "application/vnd.jupyter.widget-view+json": {
              "model_id": "9ba54b1492f64ba5aadfb5aab1b072db",
              "version_major": 2,
              "version_minor": 0
            },
            "text/plain": [
              "Predicting: |                                             | 0/? [00:00<?, ?it/s]"
            ]
          },
          "metadata": {},
          "output_type": "display_data"
        },
        {
          "name": "stdout",
          "output_type": "stream",
          "text": [
            "The 122-th predicted prices is: 75.45423126220703\n"
          ]
        },
        {
          "data": {
            "application/vnd.jupyter.widget-view+json": {
              "model_id": "ca498731c1224a078c4dd0b6aac440ab",
              "version_major": 2,
              "version_minor": 0
            },
            "text/plain": [
              "Training: |                                               | 0/? [00:00<?, ?it/s]"
            ]
          },
          "metadata": {},
          "output_type": "display_data"
        },
        {
          "data": {
            "application/vnd.jupyter.widget-view+json": {
              "model_id": "c51cb56b281d4dfdb389b26a17423bd0",
              "version_major": 2,
              "version_minor": 0
            },
            "text/plain": [
              "Predicting: |                                             | 0/? [00:00<?, ?it/s]"
            ]
          },
          "metadata": {},
          "output_type": "display_data"
        },
        {
          "name": "stdout",
          "output_type": "stream",
          "text": [
            "The 123-th predicted prices is: 75.9747314453125\n"
          ]
        },
        {
          "data": {
            "application/vnd.jupyter.widget-view+json": {
              "model_id": "c59e7ac80ebd47cf9baedc1da205cd27",
              "version_major": 2,
              "version_minor": 0
            },
            "text/plain": [
              "Training: |                                               | 0/? [00:00<?, ?it/s]"
            ]
          },
          "metadata": {},
          "output_type": "display_data"
        },
        {
          "data": {
            "application/vnd.jupyter.widget-view+json": {
              "model_id": "144624cb41ea449ea91c3d6d71e1546e",
              "version_major": 2,
              "version_minor": 0
            },
            "text/plain": [
              "Predicting: |                                             | 0/? [00:00<?, ?it/s]"
            ]
          },
          "metadata": {},
          "output_type": "display_data"
        },
        {
          "name": "stdout",
          "output_type": "stream",
          "text": [
            "The 124-th predicted prices is: 76.6603012084961\n"
          ]
        },
        {
          "data": {
            "application/vnd.jupyter.widget-view+json": {
              "model_id": "8192a9cefb694660bd23fad202581afe",
              "version_major": 2,
              "version_minor": 0
            },
            "text/plain": [
              "Training: |                                               | 0/? [00:00<?, ?it/s]"
            ]
          },
          "metadata": {},
          "output_type": "display_data"
        },
        {
          "data": {
            "application/vnd.jupyter.widget-view+json": {
              "model_id": "8f5b31f9144844efa505979c2c443fb6",
              "version_major": 2,
              "version_minor": 0
            },
            "text/plain": [
              "Predicting: |                                             | 0/? [00:00<?, ?it/s]"
            ]
          },
          "metadata": {},
          "output_type": "display_data"
        },
        {
          "name": "stdout",
          "output_type": "stream",
          "text": [
            "The 125-th predicted prices is: 76.25616455078125\n"
          ]
        },
        {
          "data": {
            "application/vnd.jupyter.widget-view+json": {
              "model_id": "6348bebb529947798f89b7ab58f6b4c0",
              "version_major": 2,
              "version_minor": 0
            },
            "text/plain": [
              "Training: |                                               | 0/? [00:00<?, ?it/s]"
            ]
          },
          "metadata": {},
          "output_type": "display_data"
        },
        {
          "data": {
            "application/vnd.jupyter.widget-view+json": {
              "model_id": "90bd76693fbb485d85da9ad0228d1d7e",
              "version_major": 2,
              "version_minor": 0
            },
            "text/plain": [
              "Predicting: |                                             | 0/? [00:00<?, ?it/s]"
            ]
          },
          "metadata": {},
          "output_type": "display_data"
        },
        {
          "name": "stdout",
          "output_type": "stream",
          "text": [
            "The 126-th predicted prices is: 76.91641998291016\n"
          ]
        },
        {
          "data": {
            "application/vnd.jupyter.widget-view+json": {
              "model_id": "9a13cfe945164ccca3c68fe58a499f62",
              "version_major": 2,
              "version_minor": 0
            },
            "text/plain": [
              "Training: |                                               | 0/? [00:00<?, ?it/s]"
            ]
          },
          "metadata": {},
          "output_type": "display_data"
        },
        {
          "data": {
            "application/vnd.jupyter.widget-view+json": {
              "model_id": "d8a898bbf1784f0da7dd8276ed3b906c",
              "version_major": 2,
              "version_minor": 0
            },
            "text/plain": [
              "Predicting: |                                             | 0/? [00:00<?, ?it/s]"
            ]
          },
          "metadata": {},
          "output_type": "display_data"
        },
        {
          "name": "stdout",
          "output_type": "stream",
          "text": [
            "The 127-th predicted prices is: 74.6865463256836\n"
          ]
        },
        {
          "data": {
            "application/vnd.jupyter.widget-view+json": {
              "model_id": "e1a6e3ceeb6c4aa3b06506cc5a5563de",
              "version_major": 2,
              "version_minor": 0
            },
            "text/plain": [
              "Training: |                                               | 0/? [00:00<?, ?it/s]"
            ]
          },
          "metadata": {},
          "output_type": "display_data"
        },
        {
          "data": {
            "application/vnd.jupyter.widget-view+json": {
              "model_id": "f768620ee0664998960579d42270c9f5",
              "version_major": 2,
              "version_minor": 0
            },
            "text/plain": [
              "Predicting: |                                             | 0/? [00:00<?, ?it/s]"
            ]
          },
          "metadata": {},
          "output_type": "display_data"
        },
        {
          "name": "stdout",
          "output_type": "stream",
          "text": [
            "The 128-th predicted prices is: 79.89942932128906\n"
          ]
        },
        {
          "data": {
            "application/vnd.jupyter.widget-view+json": {
              "model_id": "1399a726c23145c089f295408e11bbcd",
              "version_major": 2,
              "version_minor": 0
            },
            "text/plain": [
              "Training: |                                               | 0/? [00:00<?, ?it/s]"
            ]
          },
          "metadata": {},
          "output_type": "display_data"
        },
        {
          "data": {
            "application/vnd.jupyter.widget-view+json": {
              "model_id": "ab14cf0c73aa48c9a7ae31f524777b27",
              "version_major": 2,
              "version_minor": 0
            },
            "text/plain": [
              "Predicting: |                                             | 0/? [00:00<?, ?it/s]"
            ]
          },
          "metadata": {},
          "output_type": "display_data"
        },
        {
          "name": "stdout",
          "output_type": "stream",
          "text": [
            "The 129-th predicted prices is: 71.65784454345703\n"
          ]
        },
        {
          "data": {
            "application/vnd.jupyter.widget-view+json": {
              "model_id": "51899fe2de1e42febaf89530b0f9c874",
              "version_major": 2,
              "version_minor": 0
            },
            "text/plain": [
              "Training: |                                               | 0/? [00:00<?, ?it/s]"
            ]
          },
          "metadata": {},
          "output_type": "display_data"
        },
        {
          "data": {
            "application/vnd.jupyter.widget-view+json": {
              "model_id": "83770a23f9284496bdf02ad6bea3b69d",
              "version_major": 2,
              "version_minor": 0
            },
            "text/plain": [
              "Predicting: |                                             | 0/? [00:00<?, ?it/s]"
            ]
          },
          "metadata": {},
          "output_type": "display_data"
        },
        {
          "name": "stdout",
          "output_type": "stream",
          "text": [
            "The 130-th predicted prices is: 77.21428680419922\n"
          ]
        },
        {
          "data": {
            "application/vnd.jupyter.widget-view+json": {
              "model_id": "0b5aae1bae5d46f298aec80e7b08cca7",
              "version_major": 2,
              "version_minor": 0
            },
            "text/plain": [
              "Training: |                                               | 0/? [00:00<?, ?it/s]"
            ]
          },
          "metadata": {},
          "output_type": "display_data"
        },
        {
          "data": {
            "application/vnd.jupyter.widget-view+json": {
              "model_id": "f0ee41faecd146b1b2ff136361c44b20",
              "version_major": 2,
              "version_minor": 0
            },
            "text/plain": [
              "Predicting: |                                             | 0/? [00:00<?, ?it/s]"
            ]
          },
          "metadata": {},
          "output_type": "display_data"
        },
        {
          "name": "stdout",
          "output_type": "stream",
          "text": [
            "The 131-th predicted prices is: 76.16686248779297\n"
          ]
        },
        {
          "data": {
            "application/vnd.jupyter.widget-view+json": {
              "model_id": "a3fda3e2ae694dffa1bfc9340f1889e1",
              "version_major": 2,
              "version_minor": 0
            },
            "text/plain": [
              "Training: |                                               | 0/? [00:00<?, ?it/s]"
            ]
          },
          "metadata": {},
          "output_type": "display_data"
        },
        {
          "data": {
            "application/vnd.jupyter.widget-view+json": {
              "model_id": "6dd8bd8f9843456b989a48bed8d90db1",
              "version_major": 2,
              "version_minor": 0
            },
            "text/plain": [
              "Predicting: |                                             | 0/? [00:00<?, ?it/s]"
            ]
          },
          "metadata": {},
          "output_type": "display_data"
        },
        {
          "name": "stdout",
          "output_type": "stream",
          "text": [
            "The 132-th predicted prices is: 76.51712036132812\n"
          ]
        },
        {
          "data": {
            "application/vnd.jupyter.widget-view+json": {
              "model_id": "812dd99c2f7943d79b28360214bbbace",
              "version_major": 2,
              "version_minor": 0
            },
            "text/plain": [
              "Training: |                                               | 0/? [00:00<?, ?it/s]"
            ]
          },
          "metadata": {},
          "output_type": "display_data"
        },
        {
          "data": {
            "application/vnd.jupyter.widget-view+json": {
              "model_id": "605f4a174bb24faebe7f223d9a4c7530",
              "version_major": 2,
              "version_minor": 0
            },
            "text/plain": [
              "Predicting: |                                             | 0/? [00:00<?, ?it/s]"
            ]
          },
          "metadata": {},
          "output_type": "display_data"
        },
        {
          "name": "stdout",
          "output_type": "stream",
          "text": [
            "The 133-th predicted prices is: 77.56060791015625\n"
          ]
        },
        {
          "data": {
            "application/vnd.jupyter.widget-view+json": {
              "model_id": "6a792a4c50454f4b95686fadca0dd655",
              "version_major": 2,
              "version_minor": 0
            },
            "text/plain": [
              "Training: |                                               | 0/? [00:00<?, ?it/s]"
            ]
          },
          "metadata": {},
          "output_type": "display_data"
        },
        {
          "data": {
            "application/vnd.jupyter.widget-view+json": {
              "model_id": "5453ea628f854218bf96e6c459089016",
              "version_major": 2,
              "version_minor": 0
            },
            "text/plain": [
              "Predicting: |                                             | 0/? [00:00<?, ?it/s]"
            ]
          },
          "metadata": {},
          "output_type": "display_data"
        },
        {
          "name": "stdout",
          "output_type": "stream",
          "text": [
            "The 134-th predicted prices is: 65.17317962646484\n"
          ]
        },
        {
          "data": {
            "application/vnd.jupyter.widget-view+json": {
              "model_id": "d6a7764659e34efc89c99212e5610811",
              "version_major": 2,
              "version_minor": 0
            },
            "text/plain": [
              "Training: |                                               | 0/? [00:00<?, ?it/s]"
            ]
          },
          "metadata": {},
          "output_type": "display_data"
        },
        {
          "data": {
            "application/vnd.jupyter.widget-view+json": {
              "model_id": "ea303ad741584536878ab1c74f3d0621",
              "version_major": 2,
              "version_minor": 0
            },
            "text/plain": [
              "Predicting: |                                             | 0/? [00:00<?, ?it/s]"
            ]
          },
          "metadata": {},
          "output_type": "display_data"
        },
        {
          "name": "stdout",
          "output_type": "stream",
          "text": [
            "The 135-th predicted prices is: 68.25895690917969\n"
          ]
        },
        {
          "data": {
            "application/vnd.jupyter.widget-view+json": {
              "model_id": "668b54018ff44b9293e0b8ba00ccb474",
              "version_major": 2,
              "version_minor": 0
            },
            "text/plain": [
              "Training: |                                               | 0/? [00:00<?, ?it/s]"
            ]
          },
          "metadata": {},
          "output_type": "display_data"
        },
        {
          "data": {
            "application/vnd.jupyter.widget-view+json": {
              "model_id": "98881ff63f92401394792348624a3526",
              "version_major": 2,
              "version_minor": 0
            },
            "text/plain": [
              "Predicting: |                                             | 0/? [00:00<?, ?it/s]"
            ]
          },
          "metadata": {},
          "output_type": "display_data"
        },
        {
          "name": "stdout",
          "output_type": "stream",
          "text": [
            "The 136-th predicted prices is: 67.62777709960938\n"
          ]
        },
        {
          "data": {
            "application/vnd.jupyter.widget-view+json": {
              "model_id": "1d4845f461c64101b012fb6cdfe5903b",
              "version_major": 2,
              "version_minor": 0
            },
            "text/plain": [
              "Training: |                                               | 0/? [00:00<?, ?it/s]"
            ]
          },
          "metadata": {},
          "output_type": "display_data"
        },
        {
          "data": {
            "application/vnd.jupyter.widget-view+json": {
              "model_id": "a880a93596534d3395bb5dc619321e2b",
              "version_major": 2,
              "version_minor": 0
            },
            "text/plain": [
              "Predicting: |                                             | 0/? [00:00<?, ?it/s]"
            ]
          },
          "metadata": {},
          "output_type": "display_data"
        },
        {
          "name": "stdout",
          "output_type": "stream",
          "text": [
            "The 137-th predicted prices is: 66.72359466552734\n"
          ]
        },
        {
          "data": {
            "application/vnd.jupyter.widget-view+json": {
              "model_id": "7b09c311bae74506942f4dd3d60eff28",
              "version_major": 2,
              "version_minor": 0
            },
            "text/plain": [
              "Training: |                                               | 0/? [00:00<?, ?it/s]"
            ]
          },
          "metadata": {},
          "output_type": "display_data"
        },
        {
          "data": {
            "application/vnd.jupyter.widget-view+json": {
              "model_id": "88752d54e43347c99298bc5f76b70acb",
              "version_major": 2,
              "version_minor": 0
            },
            "text/plain": [
              "Predicting: |                                             | 0/? [00:00<?, ?it/s]"
            ]
          },
          "metadata": {},
          "output_type": "display_data"
        },
        {
          "name": "stdout",
          "output_type": "stream",
          "text": [
            "The 138-th predicted prices is: 58.549072265625\n"
          ]
        },
        {
          "data": {
            "application/vnd.jupyter.widget-view+json": {
              "model_id": "03d162490ae84304bff1d7fe7a4ba095",
              "version_major": 2,
              "version_minor": 0
            },
            "text/plain": [
              "Training: |                                               | 0/? [00:00<?, ?it/s]"
            ]
          },
          "metadata": {},
          "output_type": "display_data"
        },
        {
          "data": {
            "application/vnd.jupyter.widget-view+json": {
              "model_id": "9332677372584951aaf0a64e617aeda5",
              "version_major": 2,
              "version_minor": 0
            },
            "text/plain": [
              "Predicting: |                                             | 0/? [00:00<?, ?it/s]"
            ]
          },
          "metadata": {},
          "output_type": "display_data"
        },
        {
          "name": "stdout",
          "output_type": "stream",
          "text": [
            "The 139-th predicted prices is: 54.17388916015625\n"
          ]
        }
      ],
      "source": [
        "# run_rolling predictions\n",
        "\n",
        "num_lags    = 10        # Use previous ? data points\n",
        "start_index = 20        # Start from index ?\n",
        "num_samples = 1\n",
        "\n",
        "# Check if MPS (GPU) is available, else fallback to CPU\n",
        "device = \"mps\" if torch.backends.mps.is_available() else \"cpu\"\n",
        "\n",
        "# Run rolling predictions\n",
        "predicted_prices = rolling_TFT_predictions(series, covariates, num_lags, start_index, num_samples)"
      ]
    },
    {
      "cell_type": "code",
      "execution_count": null,
      "id": "6889812c-33b6-40c7-bd96-c496fa8bea62",
      "metadata": {
        "id": "6889812c-33b6-40c7-bd96-c496fa8bea62",
        "outputId": "7b41fde7-c01a-4139-d488-6695583b082a"
      },
      "outputs": [
        {
          "data": {
            "image/png": "[encoded data removed]",
            "text/plain": [
              "<Figure size 640x480 with 1 Axes>"
            ]
          },
          "metadata": {},
          "output_type": "display_data"
        },
        {
          "name": "stdout",
          "output_type": "stream",
          "text": [
            "{'MSE': 25768.69253478195, 'MPA (%)': 89.34482247896463, 'F1 Score': 0.36985236985236986, 'MDA (%)': 52.94117647058824}\n"
          ]
        }
      ],
      "source": [
        "# Plot original vs. predicted prices\n",
        "plt.plot(lcfs['Date'], prices, label='Observed Prices')\n",
        "plt.plot(lcfs['Date'][start:], predicted_prices, label='TFT Predicted Prices', color='r', linestyle=':')\n",
        "plt.legend()\n",
        "plt.savefig('./tech_results/TFT_pred.png', dpi=300)\n",
        "plt.show()\n",
        "\n",
        "print(evaluation(predicted_prices, prices[start_index:]))"
      ]
    },
    {
      "cell_type": "code",
      "execution_count": null,
      "id": "cef2d623-4fe8-4e90-9f0d-f93496fdf8b6",
      "metadata": {
        "id": "cef2d623-4fe8-4e90-9f0d-f93496fdf8b6"
      },
      "outputs": [],
      "source": [
        "dates = lcfs['Date'][start_index:]  # Corresponding dates for the predictions\n",
        "\n",
        "df_predictions = pd.DataFrame({\n",
        "    'Date': dates,\n",
        "    'Predicted_Price': predicted_prices\n",
        "})\n",
        "\n",
        "df_predictions.to_csv('tech_results/TFT_pred.csv', index=False)"
      ]
    },
    {
      "cell_type": "markdown",
      "id": "574d5317-04cd-40d6-9dd1-65d049e511c7",
      "metadata": {
        "id": "574d5317-04cd-40d6-9dd1-65d049e511c7"
      },
      "source": [
        "#### Best result plot here:"
      ]
    },
    {
      "cell_type": "code",
      "execution_count": null,
      "id": "ea6ec7e7-0253-4786-8034-171c12587eac",
      "metadata": {
        "id": "ea6ec7e7-0253-4786-8034-171c12587eac",
        "outputId": "7925d918-12aa-4cbd-825c-a7e3da037fb4"
      },
      "outputs": [
        {
          "data": {
            "image/png": "[encoded data removed]",
            "text/plain": [
              "<Figure size 640x480 with 1 Axes>"
            ]
          },
          "metadata": {},
          "output_type": "display_data"
        },
        {
          "name": "stdout",
          "output_type": "stream",
          "text": [
            "{'MSE': 25768.69253478195, 'MPA (%)': 89.34482247896463, 'F1 Score': 0.36985236985236986, 'MDA (%)': 52.94117647058824}\n"
          ]
        }
      ],
      "source": [
        "plt.plot(lcfs['Date'], prices, label='Observed Prices')\n",
        "plt.plot(lcfs['Date'][start_index:], predicted_prices, label='TFT Predicted Prices', color='r', linestyle=':')\n",
        "plt.legend()\n",
        "plt.savefig('./tech_results/TFT_pred.png', dpi=300)\n",
        "plt.show()\n",
        "\n",
        "print(evaluation(predicted_prices, prices[start_index:]))"
      ]
    },
    {
      "cell_type": "code",
      "execution_count": null,
      "id": "4336eb40-7f1f-44a6-8e11-a65d859eafb4",
      "metadata": {
        "id": "4336eb40-7f1f-44a6-8e11-a65d859eafb4"
      },
      "outputs": [],
      "source": [
        "dates = lcfs['Date'][start_index:]  # Corresponding dates for the predictions\n",
        "\n",
        "df_predictions = pd.DataFrame({\n",
        "    'Date': dates,\n",
        "    'Predicted_Price': predicted_prices\n",
        "})\n",
        "\n",
        "df_predictions.to_csv('tech_results/TFT_pred.csv', index=False)"
      ]
    },
    {
      "cell_type": "code",
      "execution_count": null,
      "id": "4e37b3d7-f2bc-46cc-b0be-f188162cd6a9",
      "metadata": {
        "id": "4e37b3d7-f2bc-46cc-b0be-f188162cd6a9",
        "outputId": "bf342073-2fe4-48bf-d266-fdb318fe4796"
      },
      "outputs": [
        {
          "data": {
            "text/html": [
              "<div>\n",
              "<style scoped>\n",
              "    .dataframe tbody tr th:only-of-type {\n",
              "        vertical-align: middle;\n",
              "    }\n",
              "\n",
              "    .dataframe tbody tr th {\n",
              "        vertical-align: top;\n",
              "    }\n",
              "\n",
              "    .dataframe thead th {\n",
              "        text-align: right;\n",
              "    }\n",
              "</style>\n",
              "<table border=\"1\" class=\"dataframe\">\n",
              "  <thead>\n",
              "    <tr style=\"text-align: right;\">\n",
              "      <th></th>\n",
              "      <th>Price</th>\n",
              "    </tr>\n",
              "    <tr>\n",
              "      <th>Date</th>\n",
              "      <th></th>\n",
              "    </tr>\n",
              "  </thead>\n",
              "  <tbody>\n",
              "    <tr>\n",
              "      <th>2013-01-01</th>\n",
              "      <td>22.0</td>\n",
              "    </tr>\n",
              "    <tr>\n",
              "      <th>2013-02-01</th>\n",
              "      <td>27.0</td>\n",
              "    </tr>\n",
              "    <tr>\n",
              "      <th>2013-03-01</th>\n",
              "      <td>34.0</td>\n",
              "    </tr>\n",
              "    <tr>\n",
              "      <th>2013-04-01</th>\n",
              "      <td>35.0</td>\n",
              "    </tr>\n",
              "    <tr>\n",
              "      <th>2013-05-01</th>\n",
              "      <td>45.0</td>\n",
              "    </tr>\n",
              "  </tbody>\n",
              "</table>\n",
              "</div>"
            ],
            "text/plain": [
              "            Price\n",
              "Date             \n",
              "2013-01-01   22.0\n",
              "2013-02-01   27.0\n",
              "2013-03-01   34.0\n",
              "2013-04-01   35.0\n",
              "2013-05-01   45.0"
            ]
          },
          "execution_count": 78,
          "metadata": {},
          "output_type": "execute_result"
        }
      ],
      "source": [
        "df_price.head()"
      ]
    },
    {
      "cell_type": "code",
      "execution_count": null,
      "id": "78e57924-2b93-4caf-9a82-95179bed3035",
      "metadata": {
        "id": "78e57924-2b93-4caf-9a82-95179bed3035"
      },
      "outputs": [],
      "source": []
    },
    {
      "cell_type": "code",
      "execution_count": null,
      "id": "e6ee39f6-12d1-4e54-ae88-65b91b740201",
      "metadata": {
        "id": "e6ee39f6-12d1-4e54-ae88-65b91b740201"
      },
      "outputs": [],
      "source": []
    },
    {
      "cell_type": "code",
      "execution_count": null,
      "id": "d79d8615-a24b-4f86-9da4-7e51ae2cd7ad",
      "metadata": {
        "id": "d79d8615-a24b-4f86-9da4-7e51ae2cd7ad"
      },
      "outputs": [],
      "source": []
    },
    {
      "cell_type": "markdown",
      "id": "de0ef5b2-85dd-4de6-a639-5cdfee51820d",
      "metadata": {
        "id": "de0ef5b2-85dd-4de6-a639-5cdfee51820d"
      },
      "source": [
        "# Technical analysis enhanced (price + volumn)"
      ]
    },
    {
      "cell_type": "code",
      "execution_count": null,
      "id": "be6a69d9-bf06-4a72-8170-2889d504b755",
      "metadata": {
        "id": "be6a69d9-bf06-4a72-8170-2889d504b755"
      },
      "outputs": [],
      "source": [
        "import pandas as pd\n",
        "import matplotlib.pyplot as plt\n",
        "import numpy as np\n",
        "from filterpy.kalman import KalmanFilter\n",
        "from sklearn.metrics import mean_squared_error, f1_score\n",
        "import pmdarima as pm\n",
        "from statsmodels.tsa.arima.model import ARIMA\n",
        "from xgboost import XGBRegressor"
      ]
    },
    {
      "cell_type": "code",
      "execution_count": null,
      "id": "2db0b6ce-7a92-474a-9457-028cbcc7d6d0",
      "metadata": {
        "id": "2db0b6ce-7a92-474a-9457-028cbcc7d6d0"
      },
      "outputs": [],
      "source": [
        "path_to_data = \"LCFS_task/LCFS_monthly.csv \"\n",
        "lcfs = pd.read_csv('./LCFS_task/LCFS_monthly.csv', usecols=['Date', 'Price', 'Volume'])\n",
        "\n",
        "lcfs['Date'] = pd.to_datetime(lcfs['Date'])\n",
        "lcfs"
      ]
    },
    {
      "cell_type": "code",
      "execution_count": null,
      "id": "1d98291b-bbb0-403f-8741-d6527dce05d1",
      "metadata": {
        "id": "1d98291b-bbb0-403f-8741-d6527dce05d1"
      },
      "outputs": [],
      "source": [
        "def evaluation(y_pred, y):\n",
        "    # Mean standard error\n",
        "    mse = np.sum((y_pred - y)**2.0)\n",
        "\n",
        "    # Mean prediction accuracy\n",
        "    within_threshold = np.abs(y_pred - y) / y\n",
        "    mpa = np.mean(1 - within_threshold) * 100  # convert to percentage\n",
        "\n",
        "    true_trend = np.sign(np.diff(y))  # +1 for upward, -1 for downward\n",
        "    predicted_trend = np.sign(np.diff(y_pred))\n",
        "\n",
        "    # F-1 Score\n",
        "    f1 = f1_score(true_trend, predicted_trend, average='macro')\n",
        "\n",
        "    # movement direction accuracy\n",
        "    correct_trend = true_trend == predicted_trend\n",
        "    mda = np.mean(correct_trend) * 100  # convert to percentage\n",
        "\n",
        "    return {\n",
        "        'MSE': mse,\n",
        "        'MPA (%)': mpa,\n",
        "        'F1 Score': f1,\n",
        "        'MDA (%)': mda}\n",
        ""
      ]
    },
    {
      "cell_type": "code",
      "execution_count": null,
      "id": "a10a692c-3acc-4496-90fa-8b6aa759361d",
      "metadata": {
        "id": "a10a692c-3acc-4496-90fa-8b6aa759361d"
      },
      "outputs": [],
      "source": [
        "prices = lcfs['Price'].values\n",
        "volumes = lcfs['Volume'].values"
      ]
    },
    {
      "cell_type": "markdown",
      "id": "f0348c85-362c-4bea-b0fc-59e33dd64beb",
      "metadata": {
        "id": "f0348c85-362c-4bea-b0fc-59e33dd64beb"
      },
      "source": [
        "## Kalman Filtering"
      ]
    },
    {
      "cell_type": "code",
      "execution_count": null,
      "id": "9e93b134-ae5b-432f-a1f5-e5bdf7e38e0b",
      "metadata": {
        "id": "9e93b134-ae5b-432f-a1f5-e5bdf7e38e0b"
      },
      "outputs": [],
      "source": [
        "from filterpy.kalman import KalmanFilter\n",
        "import numpy as np\n",
        "import matplotlib.pyplot as plt\n",
        "\n",
        "# Define Kalman Filter parameters\n",
        "kf = KalmanFilter(dim_x=4, dim_z=2)  # Four states (price, velocity, volume, volume_change), two observations (price, volume)\n",
        "\n",
        "# Initial state (price, velocity, volume, volume_change)\n",
        "kf.x = np.array([prices[0], 5., volumes[0], 0.])  # Initialization\n",
        "\n",
        "# State transition matrix (how state evolves)\n",
        "kf.F = np.array([[1., 1., 0., 0.],   # Price evolves based on velocity\n",
        "                 [0., 1., 0., 0.],   # Velocity remains constant (or linear acceleration model can be used)\n",
        "                 [0., 0., 1., 1.],   # Volume evolves based on volume_change\n",
        "                 [0., 0., 0., 1.]])  # Volume_change remains constant\n",
        "\n",
        "# Observation matrix (how we map the state to the observation)\n",
        "kf.H = np.array([[1., 0., 0., 0.],  # We observe the price\n",
        "                 [0., 0., 1., 0.]])  # We observe the volume\n",
        "\n",
        "# Process uncertainty (noise in the system)\n",
        "kf.P *= 0  # Initial uncertainty\n",
        "\n",
        "# Measurement noise\n",
        "kf.R = np.array([[1., 0.],          # Measurement noise for price\n",
        "                 [0., 1.]])         # Measurement noise for volume\n",
        "\n",
        "# Process noise covariance (how much we trust our model)\n",
        "kf.Q = np.array([[1., 0., 0., 0.],\n",
        "                 [0., 1., 0., 0.],\n",
        "                 [0., 0., 1., 0.],\n",
        "                 [0., 0., 0., 1.]]) * 0.01  # Adjust this factor based on the noise level\n",
        "\n",
        "# Perform Kalman filtering\n",
        "predicted_prices = []\n",
        "predicted_volumes = []\n",
        "\n",
        "for z_price, z_volume in zip(prices, volumes):\n",
        "    kf.predict()  # Predict the next state\n",
        "    predicted_prices.append(kf.x[0])  # Store the predicted price\n",
        "    predicted_volumes.append(kf.x[2])  # Store the predicted volume\n",
        "    kf.update([z_price, z_volume])  # Update with the observed price and volume\n",
        "\n",
        "# Plot original vs. predicted prices and volumes\n",
        "plt.figure(figsize=(12, 6))\n",
        "\n",
        "plt.subplot(2, 1, 1)\n",
        "plt.plot(lcfs['Date'], prices, label='Observed Prices')\n",
        "plt.plot(lcfs['Date'], predicted_prices, label='Kalman Filtering Predicted Prices', color='r', linestyle=':')\n",
        "plt.legend()\n",
        "plt.title('Price Prediction')\n",
        "\n",
        "plt.subplot(2, 1, 2)\n",
        "plt.plot(lcfs['Date'], volumes, label='Observed Volumes')\n",
        "plt.plot(lcfs['Date'], predicted_volumes, label='Kalman Filtering Predicted Volumes', color='b', linestyle=':')\n",
        "plt.legend()\n",
        "plt.title('Volume Prediction')\n",
        "\n",
        "plt.tight_layout()\n",
        "plt.show()\n",
        "\n",
        "# Evaluate the results\n",
        "print(f'Price: {evaluation(predicted_prices, prices)}')\n",
        "print(f'Volume: {evaluation(predicted_volumes, volumes)}')\n"
      ]
    },
    {
      "cell_type": "markdown",
      "id": "751623dc-5fc7-4d20-8cf8-bc04547e796f",
      "metadata": {
        "id": "751623dc-5fc7-4d20-8cf8-bc04547e796f"
      },
      "source": [
        "Kalman fitering does not take Volume as a feature for price prediction instead it treat the volume seperately. In this case, it is not fit."
      ]
    },
    {
      "cell_type": "markdown",
      "id": "5902bf18-8aa5-49c2-b3e6-4758e33b2429",
      "metadata": {
        "id": "5902bf18-8aa5-49c2-b3e6-4758e33b2429"
      },
      "source": [
        "## ARIMAX\n",
        "\n",
        "It can take exogenous variables for the prediction:\n",
        "$$\n",
        "Y_t = c + \\sum^p_{i=1} \\phi_i Y_{t-i} + \\sum^q_{j=1} \\theta_j \\epsilon_{t-j} + \\sum^{m}_{k=1} \\beta_k X_{t-k} + \\epsilon_t\n",
        "$$\n",
        "\n",
        "Fitting to determine $\\phi_i$ and $\\beta_k$."
      ]
    },
    {
      "cell_type": "code",
      "execution_count": null,
      "id": "24a60639-969e-4bf5-9c1d-7ae384755442",
      "metadata": {
        "id": "24a60639-969e-4bf5-9c1d-7ae384755442"
      },
      "outputs": [],
      "source": [
        "from statsmodels.tsa.stattools import adfuller\n",
        "\n",
        "def check_stationarity(data):\n",
        "    result = adfuller(data)\n",
        "    print(f\"ADF Statistic: {result[0]}\")\n",
        "    print(f\"p-value: {result[1]}\")\n",
        "    if result[1] <= 0.05:\n",
        "        print(\"Data is stationary.\")\n",
        "    else:\n",
        "        print(\"Data is not stationary; differencing may be needed.\")\n",
        "\n",
        "check_stationarity(np.diff(prices, n=1))\n",
        "check_stationarity(np.diff(volumes, n=1))\n"
      ]
    },
    {
      "cell_type": "code",
      "execution_count": null,
      "id": "de6f5d18-f5a2-4723-a815-7daa8c897f66",
      "metadata": {
        "id": "de6f5d18-f5a2-4723-a815-7daa8c897f66"
      },
      "outputs": [],
      "source": [
        "from statsmodels.tsa.arima.model import ARIMA\n",
        "from pmdarima import auto_arima\n",
        "import matplotlib.pyplot as plt\n",
        "import numpy as np\n",
        "\n",
        "# Prices and Volumes\n",
        "prices = lcfs['Price'].values\n",
        "volumes = lcfs['Volume'].values\n",
        "dates = lcfs['Date']\n",
        "\n",
        "# Automatically choose the best ARIMA-X parameters\n",
        "model = auto_arima(\n",
        "    prices, exogenous=volumes,\n",
        "    start_p=1, start_q=1, max_p=5, max_q=5,\n",
        "    seasonal=False, trace=True, error_action='ignore',\n",
        "    suppress_warnings=True, stepwise=True\n",
        ")\n",
        "\n",
        "print(model.summary())"
      ]
    },
    {
      "cell_type": "code",
      "execution_count": null,
      "id": "2985d1f8-d4c8-49ed-8ff6-383bb30d6707",
      "metadata": {
        "id": "2985d1f8-d4c8-49ed-8ff6-383bb30d6707"
      },
      "outputs": [],
      "source": [
        "# Define rolling ARIMA-X function\n",
        "def rolling_ARIMA_X(prices, volumes, start, p, d, q):\n",
        "    history_prices = prices[:start]\n",
        "    history_volumes = volumes[:start]\n",
        "    predictions = []\n",
        "\n",
        "    for t in range(start, len(prices)):\n",
        "        # Fit ARIMA-X model with historical data\n",
        "        model = ARIMA(history_prices, exog=history_volumes, order=(p, d, q))\n",
        "        model_fit = model.fit(method_kwargs={\"maxiter\": 1000})\n",
        "\n",
        "        # The current exogenous value cannot be known\n",
        "        current_exog = [history_volumes[t-1]]\n",
        "        # Make a one-step prediction\n",
        "        y_pred = model_fit.forecast(exog=current_exog)[0]\n",
        "        predictions.append(y_pred)\n",
        "\n",
        "        # Update historical data\n",
        "        history_prices = np.append(history_prices, prices[t])\n",
        "        history_volumes = np.append(history_volumes, volumes[t])\n",
        "\n",
        "    return predictions\n"
      ]
    },
    {
      "cell_type": "code",
      "execution_count": null,
      "id": "ca52dcd0-2031-4b7b-8df1-9622e7c0a9c5",
      "metadata": {
        "id": "ca52dcd0-2031-4b7b-8df1-9622e7c0a9c5"
      },
      "outputs": [],
      "source": [
        "# Parameters for ARIMA-X\n",
        "start = 16\n",
        "best_p, best_d, best_q = model.order  # Extract the best parameters from auto_arima\n",
        "\n",
        "# Perform rolling predictions\n",
        "predicted_prices = rolling_ARIMA_X(prices, volumes, start, 0, 1, 1)\n",
        "\n",
        "# Plot original vs. predicted prices\n",
        "plt.figure(figsize=(10, 6))\n",
        "plt.plot(dates, prices, label='Observed Prices')\n",
        "plt.plot(dates[start:], predicted_prices, label='ARIMA-X Predicted Prices', color='r', linestyle=':')\n",
        "plt.legend()\n",
        "plt.title('ARIMA-X Prediction of Prices')\n",
        "plt.savefig('./tech_results/ARIMA_X_pred.png', dpi=300)\n",
        "plt.show()\n",
        "\n",
        "# Evaluate model performance\n",
        "print(\"Evaluation:\")\n",
        "print(evaluation(predicted_prices, prices[start:]))"
      ]
    },
    {
      "cell_type": "code",
      "execution_count": null,
      "id": "8d6a20c1-8971-449e-9d2a-0545523fc9b6",
      "metadata": {
        "id": "8d6a20c1-8971-449e-9d2a-0545523fc9b6"
      },
      "outputs": [],
      "source": [
        "dates = lcfs['Date'][start:]  # Corresponding dates for the predictions\n",
        "\n",
        "df_predictions = pd.DataFrame({\n",
        "    'Date': dates,\n",
        "    'Predicted_Price': predicted_prices\n",
        "})\n",
        "\n",
        "df_predictions.to_csv('tech_results/ARIMAX_pred.csv', index=False)"
      ]
    },
    {
      "cell_type": "markdown",
      "id": "66c06a95-0df4-4e45-aa9c-9776dc246016",
      "metadata": {
        "id": "66c06a95-0df4-4e45-aa9c-9776dc246016"
      },
      "source": [
        "## XGBoost"
      ]
    },
    {
      "cell_type": "code",
      "execution_count": null,
      "id": "8d49dbd3-5b7b-49fa-9012-e65c608aad6c",
      "metadata": {
        "id": "8d49dbd3-5b7b-49fa-9012-e65c608aad6c"
      },
      "outputs": [],
      "source": [
        "def rolling_XGB_with_volume(price_data, volume_data, start, num_lags, n, m):\n",
        "    x_train = []\n",
        "    y_train = []\n",
        "\n",
        "    predictions = []\n",
        "\n",
        "    # construct the initial prediction\n",
        "    for i in range(start - num_lags):\n",
        "        features = np.hstack((price_data[i:i + num_lags],\n",
        "                              volume_data[i:i + num_lags]))\n",
        "        x_train.append(features)\n",
        "        y_train.append(price_data[i+ num_lags])\n",
        "\n",
        "    x_train = np.array(x_train)\n",
        "    y_train = np.array(y_train)\n",
        "\n",
        "\n",
        "    # make a rolling fitting and predictions\n",
        "    for i in range(start, len(price_data)):\n",
        "        # Create the test input with lagged features\n",
        "        x_test = np.hstack((\n",
        "            price_data[i - num_lags: i],\n",
        "            volume_data[i - num_lags: i])).reshape(1, -1)\n",
        "        y_test = price_data[i]  # True price change\n",
        "\n",
        "        model = XGBRegressor(random_state = 0, n_estimators = n, max_depth = m)\n",
        "        model.fit(x_train, y_train)\n",
        "        y_pred = model.predict(x_test)\n",
        "\n",
        "        predictions.append(y_pred.item())\n",
        "\n",
        "        # Add the predicted point to the training set\n",
        "        x_train = np.concatenate((x_train, x_test), axis=0)\n",
        "        y_train = np.append(y_train, y_test)\n",
        "\n",
        "    return predictions"
      ]
    },
    {
      "cell_type": "code",
      "execution_count": null,
      "id": "aeb6d897-128e-4e16-a716-c3f84816fc1f",
      "metadata": {
        "id": "aeb6d897-128e-4e16-a716-c3f84816fc1f"
      },
      "outputs": [],
      "source": [
        "start    = 16\n",
        "num_lags = 15 # Increasing number of lags is useful to increase the score\n",
        "n_estimators = 20  # Number of trees\n",
        "max_depth = 20  # Maximum depth of trees\n",
        "\n",
        "price_start  = prices[start]\n",
        "price_change = np.diff(prices)\n",
        "volume_change = np.diff(volumes)\n",
        "\n",
        "predicted_diff = rolling_XGB_with_volume(price_change, volume_change, start, num_lags, n = n_estimators, m = max_depth)\n",
        "\n",
        "predicted_prices = []\n",
        "predicted_prices.append(price_start)\n",
        "\n",
        "for i in range(len(predicted_diff)):\n",
        "    predicted_prices.append(prices[start+i]+predicted_diff[i])\n",
        "\n",
        "plt.plot(lcfs['Date'], prices, label='Observed Prices')\n",
        "plt.plot(lcfs['Date'][start:], predicted_prices, label='XGBoost Predicted Prices', color='r', linestyle=':')\n",
        "plt.legend()\n",
        "plt.savefig('./tech_results/XGBoost+volume_pred.png', dpi=300)\n",
        "plt.show()\n",
        "\n",
        "print(evaluation(predicted_prices, prices[start:]))"
      ]
    },
    {
      "cell_type": "markdown",
      "id": "ae0f8b0e-653a-4b2c-abb9-04ee97332851",
      "metadata": {
        "id": "ae0f8b0e-653a-4b2c-abb9-04ee97332851"
      },
      "source": [
        "## LSTM"
      ]
    },
    {
      "cell_type": "code",
      "execution_count": null,
      "id": "36b49c25-71a0-497a-a1f6-cb0e70818d6d",
      "metadata": {
        "id": "36b49c25-71a0-497a-a1f6-cb0e70818d6d"
      },
      "outputs": [],
      "source": [
        "import torch\n",
        "import torch.nn as nn\n",
        "import torch.optim as optim"
      ]
    },
    {
      "cell_type": "code",
      "execution_count": null,
      "id": "1b155d71-3fca-44f7-9af8-5487ff13b659",
      "metadata": {
        "id": "1b155d71-3fca-44f7-9af8-5487ff13b659"
      },
      "outputs": [],
      "source": [
        "# Create sequences with both price and volume data\n",
        "def create_sequences_with_volume(price_data, volume_data, num_lags):\n",
        "    sequences = []\n",
        "    targets = []\n",
        "    for i in range(len(price_data) - num_lags):\n",
        "        # Stack price and volume changes for each lag\n",
        "        seq = np.column_stack((price_data[i:i + num_lags], volume_data[i:i + num_lags]))\n",
        "        target = price_data[i + num_lags]  # Target is the future price change\n",
        "        sequences.append(seq)\n",
        "        targets.append(target)\n",
        "    return np.array(sequences), np.array(targets)\n",
        "\n",
        "# Define LSTM model (adjusted for multiple input features)\n",
        "class LSTMModel(nn.Module):\n",
        "    def __init__(self, input_size=2, hidden_size=32, num_layers=1):\n",
        "        super(LSTMModel, self).__init__()\n",
        "        self.hidden_size = hidden_size\n",
        "        self.num_layers = num_layers\n",
        "\n",
        "        # Define the LSTM layer: input size is the number of features\n",
        "        self.lstm = nn.LSTM(input_size, hidden_size, num_layers, batch_first=True)\n",
        "\n",
        "        # Define the output layer: output a single value\n",
        "        self.fc = nn.Linear(hidden_size, 1)\n",
        "\n",
        "    def forward(self, x):\n",
        "        # Initialize hidden state and cell state with zeros\n",
        "        h0 = torch.zeros(self.num_layers, x.size(0), self.hidden_size).to(x.device)\n",
        "        c0 = torch.zeros(self.num_layers, x.size(0), self.hidden_size).to(x.device)\n",
        "\n",
        "        # Forward propagate LSTM: input x and the initial (h0, c0)\n",
        "        out, _ = self.lstm(x, (h0, c0))\n",
        "\n",
        "        # Get the output from the last time step\n",
        "        out = self.fc(out[:, -1, :])\n",
        "        return out\n",
        "\n",
        "def rolling_lstm_predictions_with_volume(price_data, volume_data, num_lags, start_index, num_epochs=10, learning_rate=0.001):\n",
        "    predictions = []\n",
        "\n",
        "    criterion = nn.MSELoss()\n",
        "\n",
        "    # Device configuration\n",
        "    device = torch.device('cuda' if torch.cuda.is_available() else 'cpu')\n",
        "\n",
        "    for i in range(start_index, len(price_data)):\n",
        "        # Prepare training data up to the current index (i-1)\n",
        "        train_price_data = price_data[:i]\n",
        "        train_volume_data = volume_data[:i]\n",
        "\n",
        "        # Create sequences\n",
        "        X_train, y_train = create_sequences_with_volume(train_price_data, train_volume_data, num_lags)\n",
        "\n",
        "        # Convert to PyTorch tensors and reshape\n",
        "        X_train = torch.from_numpy(X_train).float().to(device)  # Shape: [samples, num_lags, 2]\n",
        "        y_train = torch.from_numpy(y_train).float().to(device)\n",
        "\n",
        "        # Initialize the LSTM model\n",
        "        model = LSTMModel(input_size=2, hidden_size=32, num_layers=1).to(device)\n",
        "\n",
        "        optimizer = optim.Adam(model.parameters(), lr=learning_rate)\n",
        "\n",
        "        # Train the model\n",
        "        model.train()\n",
        "        for epoch in range(num_epochs):\n",
        "            optimizer.zero_grad()\n",
        "            output = model(X_train)\n",
        "            loss = criterion(output.squeeze(), y_train)\n",
        "            loss.backward()\n",
        "            optimizer.step()\n",
        "\n",
        "        # Prepare test input\n",
        "        x_input = np.column_stack((\n",
        "            price_data[i - num_lags: i],\n",
        "            volume_data[i - num_lags: i]\n",
        "        ))\n",
        "        x_input = torch.from_numpy(x_input).float().unsqueeze(0).to(device)  # Shape: [1, num_lags, 2]\n",
        "\n",
        "        # Make prediction\n",
        "        model.eval()\n",
        "        with torch.no_grad():\n",
        "            yhat = model(x_input)\n",
        "            yhat = yhat.item()\n",
        "\n",
        "        # Store prediction\n",
        "        predictions.append(yhat)\n",
        "\n",
        "    return predictions"
      ]
    },
    {
      "cell_type": "code",
      "execution_count": null,
      "id": "6f92c9a5-d73e-4883-a5aa-d078feb85541",
      "metadata": {
        "id": "6f92c9a5-d73e-4883-a5aa-d078feb85541"
      },
      "outputs": [],
      "source": [
        "# run_rolling predictions\n",
        "\n",
        "num_lags = 10        # Use previous ? data points\n",
        "start = 20     # Start from index ?\n",
        "num_epochs = 10     # Number of epochs for training\n",
        "learning_rate = 0.001  # Learning rate for the optimizer\n",
        "\n",
        "price_start  = prices[start]\n",
        "price_change = np.diff(prices) # record of price change\n",
        "volume_change = np.diff(volumes)\n",
        "\n",
        "# Run rolling predictions\n",
        "predicted_diff = rolling_lstm_predictions_with_volume(price_change, volume_change, num_lags, start, num_epochs, learning_rate)\n",
        "\n",
        "\n",
        "# Summarize results\n",
        "predicted_prices = []\n",
        "predicted_prices.append(price_start)\n",
        "\n",
        "for i in range(len(predicted_diff)):\n",
        "    predicted_prices.append(prices[start+i]+predicted_diff[i])\n",
        "\n",
        "# Plot original vs. predicted prices\n",
        "# plt.plot(lcfs['Date'][1:], price_change, label='Observed Prices')\n",
        "# plt.plot(lcfs['Date'][start:], predicted_diff, label='XGBoost Predicted Prices', color='r', linestyle=':')\n",
        "plt.plot(lcfs['Date'], prices, label='Observed Prices')\n",
        "plt.plot(lcfs['Date'][start:], predicted_prices, label='LSTM+volume Predicted Prices', color='r', linestyle=':')\n",
        "plt.legend()\n",
        "plt.savefig('./tech_results/LSTM+volume_pred.png', dpi=300)\n",
        "plt.show()\n",
        "\n",
        "print(evaluation(predicted_prices, prices[start:]))"
      ]
    },
    {
      "cell_type": "code",
      "execution_count": null,
      "id": "87b6b636-f9c7-4c06-bc65-1c8287f9b85c",
      "metadata": {
        "id": "87b6b636-f9c7-4c06-bc65-1c8287f9b85c"
      },
      "outputs": [],
      "source": [
        "dates = lcfs['Date'][start:]  # Corresponding dates for the predictions\n",
        "\n",
        "df_predictions = pd.DataFrame({\n",
        "    'Date': dates,\n",
        "    'Predicted_Price': predicted_prices\n",
        "})\n",
        "\n",
        "df_predictions.to_csv('tech_results/LSTM+volume_pred.csv', index=False)"
      ]
    },
    {
      "cell_type": "markdown",
      "id": "828cbcc8-bf25-4f8c-a926-41ffa2771a57",
      "metadata": {
        "id": "828cbcc8-bf25-4f8c-a926-41ffa2771a57"
      },
      "source": [
        "## TFT"
      ]
    },
    {
      "cell_type": "code",
      "execution_count": null,
      "id": "2a997ed0-bc4f-49aa-95b0-983baa3f9326",
      "metadata": {
        "id": "2a997ed0-bc4f-49aa-95b0-983baa3f9326"
      },
      "outputs": [],
      "source": [
        "import torch\n",
        "\n",
        "if torch.backends.mps.is_available():\n",
        "    print(\"MPS backend is available!\")\n",
        "else:\n",
        "    print(\"MPS backend is not available.\")\n"
      ]
    },
    {
      "cell_type": "code",
      "execution_count": null,
      "id": "a8143856-fd8b-4122-ba14-fcf8ed4907cd",
      "metadata": {
        "id": "a8143856-fd8b-4122-ba14-fcf8ed4907cd"
      },
      "outputs": [],
      "source": [
        "%load_ext autoreload\n",
        "%autoreload 2"
      ]
    },
    {
      "cell_type": "code",
      "execution_count": null,
      "id": "72f51eed-a5f9-4950-bd5d-7dda8cefb524",
      "metadata": {
        "id": "72f51eed-a5f9-4950-bd5d-7dda8cefb524"
      },
      "outputs": [],
      "source": [
        "import numpy as np\n",
        "import pandas as pd\n",
        "from tqdm import tqdm_notebook as tqdm\n",
        "\n",
        "import matplotlib.pyplot as plt\n",
        "\n",
        "from darts import TimeSeries, concatenate\n",
        "from darts.dataprocessing.transformers import Scaler\n",
        "from darts.models import TFTModel\n",
        "from darts.metrics import mape\n",
        "from darts.utils.statistics import check_seasonality, plot_acf\n",
        "from darts.datasets import AirPassengersDataset, IceCreamHeaterDataset\n",
        "from darts.utils.timeseries_generation import datetime_attribute_timeseries\n",
        "from darts.utils.likelihood_models import QuantileRegression\n",
        "\n",
        "import warnings\n",
        "\n",
        "warnings.filterwarnings(\"ignore\")\n",
        "import logging\n",
        "\n",
        "logging.disable(logging.CRITICAL)"
      ]
    },
    {
      "cell_type": "code",
      "execution_count": null,
      "id": "996db1d7-428c-4d10-b00b-7d32a863f9f8",
      "metadata": {
        "id": "996db1d7-428c-4d10-b00b-7d32a863f9f8"
      },
      "outputs": [],
      "source": [
        "def rolling_TFT_predictions(series, past_covariates, future_covariates, num_lags, start_index, num_samples):\n",
        "\n",
        "    predictions = []\n",
        "\n",
        "    for i in range(start_index, len(series)):\n",
        "        # Split the series set to be train and test, make the prediction starting from start_index\n",
        "        train, val = series.split_after(i-1)\n",
        "\n",
        "        transformer = Scaler()\n",
        "        train_transformed = transformer.fit_transform(train)\n",
        "        val_transformed = transformer.transform(val)\n",
        "        series_transformed = transformer.transform(series)\n",
        "\n",
        "        scaler_covs = Scaler()\n",
        "        cov_train, cov_val = future_covariates.split_after(i-1)\n",
        "        scaler_covs.fit(cov_train)\n",
        "        future_covariates_transformed = scaler_covs.transform(future_covariates)\n",
        "\n",
        "        scaler_pcovs = Scaler()\n",
        "        pcov_train, pcov_val = past_covariates.split_after(i-1)\n",
        "        scaler_pcovs.fit(pcov_train)\n",
        "        past_covariates_transformed = scaler_pcovs.transform(past_covariates)\n",
        "\n",
        "\n",
        "\n",
        "        # Initialize the TFT model\n",
        "        my_model = TFTModel(\n",
        "            input_chunk_length=num_lags,\n",
        "            output_chunk_length=1,\n",
        "            hidden_size=16,\n",
        "            lstm_layers=1,\n",
        "            num_attention_heads=2,\n",
        "            dropout=0.2,\n",
        "            batch_size=8,\n",
        "            n_epochs=150,\n",
        "            add_relative_index=False,\n",
        "            add_encoders=None,\n",
        "            likelihood=None,\n",
        "            loss_fn=nn.MSELoss(),\n",
        "            random_state=42,\n",
        "            pl_trainer_kwargs={\n",
        "                \"accelerator\": device,\n",
        "                \"log_every_n_steps\": 1\n",
        "            },\n",
        "        )\n",
        "\n",
        "\n",
        "        # Train the model\n",
        "        my_model.fit(train_transformed, past_covariates = past_covariates_transformed,\n",
        "                     future_covariates=future_covariates_transformed, verbose=True)\n",
        "\n",
        "        # Make prediction\n",
        "        pred_series = my_model.predict(n=1, num_samples=num_samples)\n",
        "        pred_price = transformer.inverse_transform(pred_series)\n",
        "\n",
        "        #median_forecast = pred_series.quantile_timeseries(quantile=0.5)\n",
        "\n",
        "        # Store prediction and actual value\n",
        "        price = pred_price.values().flatten()[0]\n",
        "        predictions.append(price)\n",
        "        print(f'The {i}-th predicted prices is: {price}')\n",
        "\n",
        "    return predictions"
      ]
    },
    {
      "cell_type": "code",
      "execution_count": null,
      "id": "d3a35f23-3c74-4abe-bde9-f3e76e932c11",
      "metadata": {
        "id": "d3a35f23-3c74-4abe-bde9-f3e76e932c11"
      },
      "outputs": [],
      "source": [
        "# Create a timeSeries object\n",
        "price_series = TimeSeries.from_series(lcfs['Price'])\n",
        "series = price_series.astype(np.float32)"
      ]
    },
    {
      "cell_type": "code",
      "execution_count": null,
      "id": "d04bc5ca-290c-4cc1-9a3c-49fc3ca40615",
      "metadata": {
        "id": "d04bc5ca-290c-4cc1-9a3c-49fc3ca40615"
      },
      "outputs": [],
      "source": [
        "path_to_data = \"LCFS_task/LCFS_monthly.csv \"\n",
        "lcfs = pd.read_csv('./LCFS_task/LCFS_monthly.csv', usecols=['Date', 'Price', 'Volume'])\n",
        "lcfs['Date'] = pd.to_datetime(lcfs['Date'])\n",
        "prices = lcfs['Price'].values"
      ]
    },
    {
      "cell_type": "code",
      "execution_count": null,
      "id": "00e031c0-f95a-425e-b06b-f874b8556525",
      "metadata": {
        "id": "00e031c0-f95a-425e-b06b-f874b8556525"
      },
      "outputs": [],
      "source": [
        "df_price = lcfs[['Date', 'Price']]"
      ]
    },
    {
      "cell_type": "code",
      "execution_count": null,
      "id": "0b4b3489-9992-48af-93f3-a80531321f1a",
      "metadata": {
        "id": "0b4b3489-9992-48af-93f3-a80531321f1a"
      },
      "outputs": [],
      "source": [
        "df_price['Date'] = pd.to_datetime(df_price['Date'])\n",
        "df_price.set_index('Date', inplace=True)\n",
        "df_price.index = pd.to_datetime(df_price.index)\n",
        "df_price.index = df_price.index.to_period('M')\n",
        "df_price.index = df_price.index.to_timestamp()"
      ]
    },
    {
      "cell_type": "code",
      "execution_count": null,
      "id": "2e5dc9a2-d8a6-4566-bf10-9411bd03ad4f",
      "metadata": {
        "id": "2e5dc9a2-d8a6-4566-bf10-9411bd03ad4f"
      },
      "outputs": [],
      "source": [
        "# Create a timeSeries object\n",
        "price_series = TimeSeries.from_series(df_price['Price'])\n",
        "series = price_series.astype(np.float32)"
      ]
    },
    {
      "cell_type": "code",
      "execution_count": null,
      "id": "ece8f1bf-467a-437b-845f-67f206f4a8fb",
      "metadata": {
        "id": "ece8f1bf-467a-437b-845f-67f206f4a8fb"
      },
      "outputs": [],
      "source": [
        "# Future covariate\n",
        "# create year, month and integer index covariate series\n",
        "covariates = datetime_attribute_timeseries(series, attribute=\"year\", one_hot=False)\n",
        "covariates = covariates.stack(\n",
        "    datetime_attribute_timeseries(series, attribute=\"month\", one_hot=False)\n",
        ")\n",
        "covariates = covariates.stack(\n",
        "    TimeSeries.from_times_and_values(\n",
        "        times=series.time_index,\n",
        "        values=np.arange(len(series)),\n",
        "        columns=[\"linear_increase\"],\n",
        "    )\n",
        ")\n",
        "covariates = covariates.astype(np.float32)"
      ]
    },
    {
      "cell_type": "code",
      "execution_count": null,
      "id": "cb7d38c9-72f7-4fa0-9cba-fe5210e5d19d",
      "metadata": {
        "id": "cb7d38c9-72f7-4fa0-9cba-fe5210e5d19d"
      },
      "outputs": [],
      "source": [
        "# Past covariate\n",
        "df_volume = lcfs[['Date', 'Volume']]\n",
        "df_volume.set_index('Date', inplace=True)\n",
        "df_volume.index = pd.to_datetime(df_volume.index)\n",
        "df_volume.index = df_volume.index.to_period('M')\n",
        "df_volume.index = df_volume.index.to_timestamp()\n",
        "\n",
        "volume_series = TimeSeries.from_series(df_volume['Volume'])\n",
        "\n",
        "past_covariates = volume_series.astype(np.float32)"
      ]
    },
    {
      "cell_type": "code",
      "execution_count": null,
      "id": "7753c942-9709-41d2-ab1f-47ee01b71d64",
      "metadata": {
        "id": "7753c942-9709-41d2-ab1f-47ee01b71d64"
      },
      "outputs": [],
      "source": [
        "# run_rolling predictions\n",
        "\n",
        "num_lags    = 10        # Use previous ? data points\n",
        "start_index = 20        # Start from index ?\n",
        "num_samples = 1\n",
        "\n",
        "# Check if MPS (GPU) is available, else fallback to CPU\n",
        "device = \"mps\" if torch.backends.mps.is_available() else \"cpu\"\n",
        "\n",
        "# Run rolling predictions\n",
        "predicted_prices = rolling_TFT_predictions(series, past_covariates, covariates, num_lags, start_index, num_samples)"
      ]
    },
    {
      "cell_type": "code",
      "execution_count": null,
      "id": "25b9ca1f-afc9-4e4f-a201-6b5ac61f6a56",
      "metadata": {
        "id": "25b9ca1f-afc9-4e4f-a201-6b5ac61f6a56"
      },
      "outputs": [],
      "source": [
        "# Plot original vs. predicted prices\n",
        "plt.plot(lcfs['Date'], prices, label='Observed Prices')\n",
        "plt.plot(lcfs['Date'][start_index:], predicted_prices, label='TFT Predicted Prices', color='r', linestyle=':')\n",
        "plt.legend()\n",
        "plt.savefig('./tech_results/TFT+volume_pred.png', dpi=300)\n",
        "plt.show()\n",
        "\n",
        "print(evaluation(predicted_prices, prices[start_index:]))"
      ]
    },
    {
      "cell_type": "code",
      "execution_count": null,
      "id": "774bb924-df16-4739-b72e-6757985c1ceb",
      "metadata": {
        "id": "774bb924-df16-4739-b72e-6757985c1ceb"
      },
      "outputs": [],
      "source": [
        "dates = lcfs['Date'][start_index:]  # Corresponding dates for the predictions\n",
        "\n",
        "df_predictions = pd.DataFrame({\n",
        "    'Date': dates,\n",
        "    'Predicted_Price': predicted_prices\n",
        "})\n",
        "\n",
        "df_predictions.to_csv('tech_results/TFT+volume_pred.csv', index=False)"
      ]
    },
    {
      "cell_type": "code",
      "execution_count": null,
      "id": "757fc71e-b74e-47aa-aa51-090f073d0913",
      "metadata": {
        "id": "757fc71e-b74e-47aa-aa51-090f073d0913"
      },
      "outputs": [],
      "source": []
    },
    {
      "cell_type": "markdown",
      "id": "083d8471-1109-4252-9d62-350752f60733",
      "metadata": {
        "id": "083d8471-1109-4252-9d62-350752f60733"
      },
      "source": [
        "In conclusion, adding trading volume does not help with the prediction"
      ]
    }
  ],
  "metadata": {
    "kernelspec": {
      "display_name": "lcfs",
      "language": "python",
      "name": "lcfs"
    },
    "language_info": {
      "codemirror_mode": {
        "name": "ipython",
        "version": 3
      },
      "file_extension": ".py",
      "mimetype": "text/x-python",
      "name": "python",
      "nbconvert_exporter": "python",
      "pygments_lexer": "ipython3",
      "version": "3.11.10"
    },
    "colab": {
      "provenance": []
    }
  },
  "nbformat": 4,
  "nbformat_minor": 5
}